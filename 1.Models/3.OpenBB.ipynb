{
 "cells": [
  {
   "cell_type": "markdown",
   "metadata": {},
   "source": [
    "# OpenBB Data Base"
   ]
  },
  {
   "cell_type": "code",
   "execution_count": 1,
   "metadata": {},
   "outputs": [],
   "source": [
    "from openbb import obb\n",
    "import pandas as pd"
   ]
  },
  {
   "cell_type": "code",
   "execution_count": 2,
   "metadata": {},
   "outputs": [],
   "source": [
    "# from dotenv import load_dotenv\n",
    "import os\n",
    "\n",
    "key = os.getenv(\"PAT_OBB\")\n",
    "obb.account.login(pat=key)"
   ]
  },
  {
   "cell_type": "markdown",
   "metadata": {},
   "source": [
    "## Download Company Ticker Data"
   ]
  },
  {
   "cell_type": "code",
   "execution_count": 2,
   "metadata": {},
   "outputs": [
    {
     "data": {
      "text/plain": [
       "9708"
      ]
     },
     "execution_count": 2,
     "metadata": {},
     "output_type": "execute_result"
    }
   ],
   "source": [
    "all_companies = obb.equity.search(\"\", provider=\"sec\")\n",
    "len(all_companies.results)"
   ]
  },
  {
   "cell_type": "code",
   "execution_count": 3,
   "metadata": {},
   "outputs": [],
   "source": [
    "sec_df = all_companies.to_df()"
   ]
  },
  {
   "cell_type": "code",
   "execution_count": 4,
   "metadata": {},
   "outputs": [
    {
     "data": {
      "text/html": [
       "<div>\n",
       "<style scoped>\n",
       "    .dataframe tbody tr th:only-of-type {\n",
       "        vertical-align: middle;\n",
       "    }\n",
       "\n",
       "    .dataframe tbody tr th {\n",
       "        vertical-align: top;\n",
       "    }\n",
       "\n",
       "    .dataframe thead th {\n",
       "        text-align: right;\n",
       "    }\n",
       "</style>\n",
       "<table border=\"1\" class=\"dataframe\">\n",
       "  <thead>\n",
       "    <tr style=\"text-align: right;\">\n",
       "      <th></th>\n",
       "      <th>symbol</th>\n",
       "      <th>name</th>\n",
       "      <th>cik</th>\n",
       "    </tr>\n",
       "  </thead>\n",
       "  <tbody>\n",
       "    <tr>\n",
       "      <th>0</th>\n",
       "      <td>AAPL</td>\n",
       "      <td>Apple Inc.</td>\n",
       "      <td>320193</td>\n",
       "    </tr>\n",
       "    <tr>\n",
       "      <th>1</th>\n",
       "      <td>MSFT</td>\n",
       "      <td>MICROSOFT CORP</td>\n",
       "      <td>789019</td>\n",
       "    </tr>\n",
       "    <tr>\n",
       "      <th>2</th>\n",
       "      <td>NVDA</td>\n",
       "      <td>NVIDIA CORP</td>\n",
       "      <td>1045810</td>\n",
       "    </tr>\n",
       "    <tr>\n",
       "      <th>3</th>\n",
       "      <td>AMZN</td>\n",
       "      <td>AMAZON COM INC</td>\n",
       "      <td>1018724</td>\n",
       "    </tr>\n",
       "    <tr>\n",
       "      <th>4</th>\n",
       "      <td>GOOGL</td>\n",
       "      <td>Alphabet Inc.</td>\n",
       "      <td>1652044</td>\n",
       "    </tr>\n",
       "  </tbody>\n",
       "</table>\n",
       "</div>"
      ],
      "text/plain": [
       "  symbol            name      cik\n",
       "0   AAPL      Apple Inc.   320193\n",
       "1   MSFT  MICROSOFT CORP   789019\n",
       "2   NVDA     NVIDIA CORP  1045810\n",
       "3   AMZN  AMAZON COM INC  1018724\n",
       "4  GOOGL   Alphabet Inc.  1652044"
      ]
     },
     "execution_count": 4,
     "metadata": {},
     "output_type": "execute_result"
    }
   ],
   "source": [
    "sec_df.head()"
   ]
  },
  {
   "cell_type": "code",
   "execution_count": 30,
   "metadata": {},
   "outputs": [
    {
     "data": {
      "text/plain": [
       "503"
      ]
     },
     "execution_count": 30,
     "metadata": {},
     "output_type": "execute_result"
    }
   ],
   "source": [
    "url = \"https://en.wikipedia.org/wiki/List_of_S%26P_500_companies\"\n",
    "\n",
    "\n",
    "tables = pd.read_html(url)\n",
    "sp500_table = tables[0]\n",
    "sp500_tickers = sp500_table['Symbol'].tolist()\n",
    "\n",
    "len(sp500_tickers)"
   ]
  },
  {
   "cell_type": "code",
   "execution_count": 49,
   "metadata": {},
   "outputs": [],
   "source": [
    "stocks = sec_df['symbol'].tolist()\n",
    "stocks = stocks[350:600]"
   ]
  },
  {
   "cell_type": "code",
   "execution_count": 20,
   "metadata": {},
   "outputs": [
    {
     "data": {
      "text/html": [
       "<div>\n",
       "<style scoped>\n",
       "    .dataframe tbody tr th:only-of-type {\n",
       "        vertical-align: middle;\n",
       "    }\n",
       "\n",
       "    .dataframe tbody tr th {\n",
       "        vertical-align: top;\n",
       "    }\n",
       "\n",
       "    .dataframe thead th {\n",
       "        text-align: right;\n",
       "    }\n",
       "</style>\n",
       "<table border=\"1\" class=\"dataframe\">\n",
       "  <thead>\n",
       "    <tr style=\"text-align: right;\">\n",
       "      <th></th>\n",
       "      <th>Creation_Date</th>\n",
       "      <th>Index_Symbol</th>\n",
       "      <th>Index_Name</th>\n",
       "      <th>Index ISIN</th>\n",
       "      <th>Internal_Key</th>\n",
       "      <th>ISIN</th>\n",
       "      <th>RIC</th>\n",
       "      <th>Instrument_Name</th>\n",
       "      <th>Country</th>\n",
       "      <th>Currency</th>\n",
       "      <th>Exchange</th>\n",
       "      <th>Index Membership</th>\n",
       "      <th>Rank (FINAL)</th>\n",
       "      <th>Rank (PREVIOUS)</th>\n",
       "      <th>Comment</th>\n",
       "      <th>Rank 2 (FINAL)</th>\n",
       "      <th>Rank 2 (PREVIOUS)</th>\n",
       "    </tr>\n",
       "  </thead>\n",
       "  <tbody>\n",
       "    <tr>\n",
       "      <th>0</th>\n",
       "      <td>20250303</td>\n",
       "      <td>SXXP</td>\n",
       "      <td>STOXX Europe 600</td>\n",
       "      <td>EU0009658202</td>\n",
       "      <td>465191</td>\n",
       "      <td>DK0062498333</td>\n",
       "      <td>NOVOb.CO</td>\n",
       "      <td>NOVO NORDISK B</td>\n",
       "      <td>DK</td>\n",
       "      <td>DKK</td>\n",
       "      <td>NASDAQ Copenhagen</td>\n",
       "      <td>NaN</td>\n",
       "      <td>1.0</td>\n",
       "      <td>3.0</td>\n",
       "      <td>NaN</td>\n",
       "      <td>NaN</td>\n",
       "      <td>NaN</td>\n",
       "    </tr>\n",
       "    <tr>\n",
       "      <th>1</th>\n",
       "      <td>20250303</td>\n",
       "      <td>SXXP</td>\n",
       "      <td>STOXX Europe 600</td>\n",
       "      <td>EU0009658202</td>\n",
       "      <td>546078</td>\n",
       "      <td>NL0010273215</td>\n",
       "      <td>ASML.AS</td>\n",
       "      <td>ASML HLDG</td>\n",
       "      <td>NL</td>\n",
       "      <td>EUR</td>\n",
       "      <td>Euronext Amsterdam</td>\n",
       "      <td>NaN</td>\n",
       "      <td>2.0</td>\n",
       "      <td>1.0</td>\n",
       "      <td>NaN</td>\n",
       "      <td>NaN</td>\n",
       "      <td>NaN</td>\n",
       "    </tr>\n",
       "    <tr>\n",
       "      <th>2</th>\n",
       "      <td>20250303</td>\n",
       "      <td>SXXP</td>\n",
       "      <td>STOXX Europe 600</td>\n",
       "      <td>EU0009658202</td>\n",
       "      <td>476361</td>\n",
       "      <td>DE0007164600</td>\n",
       "      <td>SAPG.DE</td>\n",
       "      <td>SAP</td>\n",
       "      <td>DE</td>\n",
       "      <td>EUR</td>\n",
       "      <td>XETRA</td>\n",
       "      <td>NaN</td>\n",
       "      <td>3.0</td>\n",
       "      <td>2.0</td>\n",
       "      <td>NaN</td>\n",
       "      <td>NaN</td>\n",
       "      <td>NaN</td>\n",
       "    </tr>\n",
       "    <tr>\n",
       "      <th>3</th>\n",
       "      <td>20250303</td>\n",
       "      <td>SXXP</td>\n",
       "      <td>STOXX Europe 600</td>\n",
       "      <td>EU0009658202</td>\n",
       "      <td>461669</td>\n",
       "      <td>CH0038863350</td>\n",
       "      <td>NESN.S</td>\n",
       "      <td>NESTLE</td>\n",
       "      <td>CH</td>\n",
       "      <td>CHF</td>\n",
       "      <td>Six Swiss Exchange</td>\n",
       "      <td>NaN</td>\n",
       "      <td>4.0</td>\n",
       "      <td>4.0</td>\n",
       "      <td>NaN</td>\n",
       "      <td>NaN</td>\n",
       "      <td>NaN</td>\n",
       "    </tr>\n",
       "    <tr>\n",
       "      <th>4</th>\n",
       "      <td>20250303</td>\n",
       "      <td>SXXP</td>\n",
       "      <td>STOXX Europe 600</td>\n",
       "      <td>EU0009658202</td>\n",
       "      <td>098952</td>\n",
       "      <td>GB0009895292</td>\n",
       "      <td>AZN.L</td>\n",
       "      <td>ASTRAZENECA</td>\n",
       "      <td>GB</td>\n",
       "      <td>GBP</td>\n",
       "      <td>London SE</td>\n",
       "      <td>NaN</td>\n",
       "      <td>5.0</td>\n",
       "      <td>6.0</td>\n",
       "      <td>NaN</td>\n",
       "      <td>NaN</td>\n",
       "      <td>NaN</td>\n",
       "    </tr>\n",
       "  </tbody>\n",
       "</table>\n",
       "</div>"
      ],
      "text/plain": [
       "   Creation_Date Index_Symbol        Index_Name    Index ISIN Internal_Key  \\\n",
       "0       20250303         SXXP  STOXX Europe 600  EU0009658202       465191   \n",
       "1       20250303         SXXP  STOXX Europe 600  EU0009658202       546078   \n",
       "2       20250303         SXXP  STOXX Europe 600  EU0009658202       476361   \n",
       "3       20250303         SXXP  STOXX Europe 600  EU0009658202       461669   \n",
       "4       20250303         SXXP  STOXX Europe 600  EU0009658202       098952   \n",
       "\n",
       "           ISIN       RIC Instrument_Name Country Currency  \\\n",
       "0  DK0062498333  NOVOb.CO  NOVO NORDISK B      DK      DKK   \n",
       "1  NL0010273215   ASML.AS       ASML HLDG      NL      EUR   \n",
       "2  DE0007164600   SAPG.DE             SAP      DE      EUR   \n",
       "3  CH0038863350    NESN.S          NESTLE      CH      CHF   \n",
       "4  GB0009895292     AZN.L     ASTRAZENECA      GB      GBP   \n",
       "\n",
       "             Exchange  Index Membership  Rank (FINAL)  Rank (PREVIOUS)  \\\n",
       "0   NASDAQ Copenhagen               NaN           1.0              3.0   \n",
       "1  Euronext Amsterdam               NaN           2.0              1.0   \n",
       "2               XETRA               NaN           3.0              2.0   \n",
       "3  Six Swiss Exchange               NaN           4.0              4.0   \n",
       "4           London SE               NaN           5.0              6.0   \n",
       "\n",
       "  Comment  Rank 2 (FINAL)  Rank 2 (PREVIOUS)  \n",
       "0     NaN             NaN                NaN  \n",
       "1     NaN             NaN                NaN  \n",
       "2     NaN             NaN                NaN  \n",
       "3     NaN             NaN                NaN  \n",
       "4     NaN             NaN                NaN  "
      ]
     },
     "execution_count": 20,
     "metadata": {},
     "output_type": "execute_result"
    }
   ],
   "source": [
    "eu600 = pd.read_csv('data/eurostoxx600.csv' , sep=';')\n",
    "\n",
    "eu600.head()"
   ]
  },
  {
   "cell_type": "code",
   "execution_count": 21,
   "metadata": {},
   "outputs": [],
   "source": [
    "eu600 = eu600[eu600[\"Rank (FINAL)\"] <= 600]"
   ]
  },
  {
   "cell_type": "code",
   "execution_count": 22,
   "metadata": {},
   "outputs": [
    {
     "data": {
      "text/html": [
       "<div>\n",
       "<style scoped>\n",
       "    .dataframe tbody tr th:only-of-type {\n",
       "        vertical-align: middle;\n",
       "    }\n",
       "\n",
       "    .dataframe tbody tr th {\n",
       "        vertical-align: top;\n",
       "    }\n",
       "\n",
       "    .dataframe thead th {\n",
       "        text-align: right;\n",
       "    }\n",
       "</style>\n",
       "<table border=\"1\" class=\"dataframe\">\n",
       "  <thead>\n",
       "    <tr style=\"text-align: right;\">\n",
       "      <th></th>\n",
       "      <th>Creation_Date</th>\n",
       "      <th>Index_Symbol</th>\n",
       "      <th>Index_Name</th>\n",
       "      <th>Index ISIN</th>\n",
       "      <th>Internal_Key</th>\n",
       "      <th>ISIN</th>\n",
       "      <th>RIC</th>\n",
       "      <th>Instrument_Name</th>\n",
       "      <th>Country</th>\n",
       "      <th>Currency</th>\n",
       "      <th>Exchange</th>\n",
       "      <th>Index Membership</th>\n",
       "      <th>Rank (FINAL)</th>\n",
       "      <th>Rank (PREVIOUS)</th>\n",
       "      <th>Comment</th>\n",
       "      <th>Rank 2 (FINAL)</th>\n",
       "      <th>Rank 2 (PREVIOUS)</th>\n",
       "      <th>symbol</th>\n",
       "    </tr>\n",
       "  </thead>\n",
       "  <tbody>\n",
       "    <tr>\n",
       "      <th>0</th>\n",
       "      <td>20250303</td>\n",
       "      <td>SXXP</td>\n",
       "      <td>STOXX Europe 600</td>\n",
       "      <td>EU0009658202</td>\n",
       "      <td>465191</td>\n",
       "      <td>DK0062498333</td>\n",
       "      <td>NOVOb.CO</td>\n",
       "      <td>NOVO NORDISK B</td>\n",
       "      <td>DK</td>\n",
       "      <td>DKK</td>\n",
       "      <td>NASDAQ Copenhagen</td>\n",
       "      <td>NaN</td>\n",
       "      <td>1.0</td>\n",
       "      <td>3.0</td>\n",
       "      <td>NaN</td>\n",
       "      <td>NaN</td>\n",
       "      <td>NaN</td>\n",
       "      <td>NOVOb</td>\n",
       "    </tr>\n",
       "    <tr>\n",
       "      <th>1</th>\n",
       "      <td>20250303</td>\n",
       "      <td>SXXP</td>\n",
       "      <td>STOXX Europe 600</td>\n",
       "      <td>EU0009658202</td>\n",
       "      <td>546078</td>\n",
       "      <td>NL0010273215</td>\n",
       "      <td>ASML.AS</td>\n",
       "      <td>ASML HLDG</td>\n",
       "      <td>NL</td>\n",
       "      <td>EUR</td>\n",
       "      <td>Euronext Amsterdam</td>\n",
       "      <td>NaN</td>\n",
       "      <td>2.0</td>\n",
       "      <td>1.0</td>\n",
       "      <td>NaN</td>\n",
       "      <td>NaN</td>\n",
       "      <td>NaN</td>\n",
       "      <td>ASML</td>\n",
       "    </tr>\n",
       "    <tr>\n",
       "      <th>2</th>\n",
       "      <td>20250303</td>\n",
       "      <td>SXXP</td>\n",
       "      <td>STOXX Europe 600</td>\n",
       "      <td>EU0009658202</td>\n",
       "      <td>476361</td>\n",
       "      <td>DE0007164600</td>\n",
       "      <td>SAPG.DE</td>\n",
       "      <td>SAP</td>\n",
       "      <td>DE</td>\n",
       "      <td>EUR</td>\n",
       "      <td>XETRA</td>\n",
       "      <td>NaN</td>\n",
       "      <td>3.0</td>\n",
       "      <td>2.0</td>\n",
       "      <td>NaN</td>\n",
       "      <td>NaN</td>\n",
       "      <td>NaN</td>\n",
       "      <td>SAPG</td>\n",
       "    </tr>\n",
       "    <tr>\n",
       "      <th>3</th>\n",
       "      <td>20250303</td>\n",
       "      <td>SXXP</td>\n",
       "      <td>STOXX Europe 600</td>\n",
       "      <td>EU0009658202</td>\n",
       "      <td>461669</td>\n",
       "      <td>CH0038863350</td>\n",
       "      <td>NESN.S</td>\n",
       "      <td>NESTLE</td>\n",
       "      <td>CH</td>\n",
       "      <td>CHF</td>\n",
       "      <td>Six Swiss Exchange</td>\n",
       "      <td>NaN</td>\n",
       "      <td>4.0</td>\n",
       "      <td>4.0</td>\n",
       "      <td>NaN</td>\n",
       "      <td>NaN</td>\n",
       "      <td>NaN</td>\n",
       "      <td>NESN</td>\n",
       "    </tr>\n",
       "    <tr>\n",
       "      <th>4</th>\n",
       "      <td>20250303</td>\n",
       "      <td>SXXP</td>\n",
       "      <td>STOXX Europe 600</td>\n",
       "      <td>EU0009658202</td>\n",
       "      <td>098952</td>\n",
       "      <td>GB0009895292</td>\n",
       "      <td>AZN.L</td>\n",
       "      <td>ASTRAZENECA</td>\n",
       "      <td>GB</td>\n",
       "      <td>GBP</td>\n",
       "      <td>London SE</td>\n",
       "      <td>NaN</td>\n",
       "      <td>5.0</td>\n",
       "      <td>6.0</td>\n",
       "      <td>NaN</td>\n",
       "      <td>NaN</td>\n",
       "      <td>NaN</td>\n",
       "      <td>AZN</td>\n",
       "    </tr>\n",
       "  </tbody>\n",
       "</table>\n",
       "</div>"
      ],
      "text/plain": [
       "   Creation_Date Index_Symbol        Index_Name    Index ISIN Internal_Key  \\\n",
       "0       20250303         SXXP  STOXX Europe 600  EU0009658202       465191   \n",
       "1       20250303         SXXP  STOXX Europe 600  EU0009658202       546078   \n",
       "2       20250303         SXXP  STOXX Europe 600  EU0009658202       476361   \n",
       "3       20250303         SXXP  STOXX Europe 600  EU0009658202       461669   \n",
       "4       20250303         SXXP  STOXX Europe 600  EU0009658202       098952   \n",
       "\n",
       "           ISIN       RIC Instrument_Name Country Currency  \\\n",
       "0  DK0062498333  NOVOb.CO  NOVO NORDISK B      DK      DKK   \n",
       "1  NL0010273215   ASML.AS       ASML HLDG      NL      EUR   \n",
       "2  DE0007164600   SAPG.DE             SAP      DE      EUR   \n",
       "3  CH0038863350    NESN.S          NESTLE      CH      CHF   \n",
       "4  GB0009895292     AZN.L     ASTRAZENECA      GB      GBP   \n",
       "\n",
       "             Exchange  Index Membership  Rank (FINAL)  Rank (PREVIOUS)  \\\n",
       "0   NASDAQ Copenhagen               NaN           1.0              3.0   \n",
       "1  Euronext Amsterdam               NaN           2.0              1.0   \n",
       "2               XETRA               NaN           3.0              2.0   \n",
       "3  Six Swiss Exchange               NaN           4.0              4.0   \n",
       "4           London SE               NaN           5.0              6.0   \n",
       "\n",
       "  Comment  Rank 2 (FINAL)  Rank 2 (PREVIOUS) symbol  \n",
       "0     NaN             NaN                NaN  NOVOb  \n",
       "1     NaN             NaN                NaN   ASML  \n",
       "2     NaN             NaN                NaN   SAPG  \n",
       "3     NaN             NaN                NaN   NESN  \n",
       "4     NaN             NaN                NaN    AZN  "
      ]
     },
     "execution_count": 22,
     "metadata": {},
     "output_type": "execute_result"
    }
   ],
   "source": [
    "eu600.loc[:, 'symbol'] = eu600['RIC'].str.split('.').str[0]\n",
    "\n",
    "eu600.head()"
   ]
  },
  {
   "cell_type": "code",
   "execution_count": 23,
   "metadata": {},
   "outputs": [],
   "source": [
    "eu600_symbols = eu600['symbol'].tolist()"
   ]
  },
  {
   "cell_type": "code",
   "execution_count": 24,
   "metadata": {},
   "outputs": [
    {
     "data": {
      "text/plain": [
       "600"
      ]
     },
     "execution_count": 24,
     "metadata": {},
     "output_type": "execute_result"
    }
   ],
   "source": [
    "len(eu600_symbols)"
   ]
  },
  {
   "cell_type": "code",
   "execution_count": null,
   "metadata": {},
   "outputs": [],
   "source": [
    "obb.index.constituents(symbol=\"nasdaq\", provider=\"fmp\")"
   ]
  },
  {
   "cell_type": "markdown",
   "metadata": {},
   "source": [
    "## Download Ratio Data"
   ]
  },
  {
   "cell_type": "code",
   "execution_count": 50,
   "metadata": {},
   "outputs": [
    {
     "name": "stdout",
     "output_type": "stream",
     "text": [
      "Error with BRK.B: \n",
      "[Empty] -> No data found for the symbol BRK.B.\n",
      "Error with BF.B: \n",
      "[Empty] -> No data found for the symbol BF.B.\n",
      "Error with PODD: \n",
      "[Error] -> Unauthorized FMP request -> Limit Reach . Please upgrade your plan or visit our documentation for more details at https://site.financialmodelingprep.com/\n"
     ]
    }
   ],
   "source": [
    "from pandas.errors import EmptyDataError\n",
    "\n",
    "def download_ratios(stocks, provider=\"fmp\", limit=10):# limit=10 for 10 year historical data, however, the free plan only allows 5 years\n",
    "\n",
    "    ratio_list = []\n",
    "\n",
    "    for stock in stocks:\n",
    "        try:\n",
    "            df = obb.equity.fundamental.ratios(stock, provider=provider, limit=limit).to_df() \n",
    "            df['Stock'] = stock\n",
    "            ratio_list.append(df)\n",
    "\n",
    "        except EmptyDataError:\n",
    "            print(f\"No data found for the symbol {stock}\")\n",
    "\n",
    "        except Exception as e:\n",
    "            print(f\"Error with {stock}: {e}\")\n",
    "\n",
    "\n",
    "    return pd.concat(ratio_list, ignore_index=True) if ratio_list else pd.DataFrame()\n"
   ]
  },
  {
   "cell_type": "code",
   "execution_count": null,
   "metadata": {},
   "outputs": [],
   "source": [
    "df_ratios = download_ratios(stocks) # stocks = list of stock symbols to download ratios for\n",
    "# df_ratios.to_csv('data/namecsv.csv', index=False), run it the first time to save the data to a csv file"
   ]
  },
  {
   "cell_type": "code",
   "execution_count": 51,
   "metadata": {},
   "outputs": [
    {
     "data": {
      "text/html": [
       "<div>\n",
       "<style scoped>\n",
       "    .dataframe tbody tr th:only-of-type {\n",
       "        vertical-align: middle;\n",
       "    }\n",
       "\n",
       "    .dataframe tbody tr th {\n",
       "        vertical-align: top;\n",
       "    }\n",
       "\n",
       "    .dataframe thead th {\n",
       "        text-align: right;\n",
       "    }\n",
       "</style>\n",
       "<table border=\"1\" class=\"dataframe\">\n",
       "  <thead>\n",
       "    <tr style=\"text-align: right;\">\n",
       "      <th></th>\n",
       "      <th>period_ending</th>\n",
       "      <th>fiscal_period</th>\n",
       "      <th>fiscal_year</th>\n",
       "      <th>current_ratio</th>\n",
       "      <th>quick_ratio</th>\n",
       "      <th>cash_ratio</th>\n",
       "      <th>days_of_sales_outstanding</th>\n",
       "      <th>days_of_inventory_outstanding</th>\n",
       "      <th>operating_cycle</th>\n",
       "      <th>days_of_payables_outstanding</th>\n",
       "      <th>...</th>\n",
       "      <th>price_to_free_cash_flows_ratio</th>\n",
       "      <th>price_to_operating_cash_flows_ratio</th>\n",
       "      <th>price_cash_flow_ratio</th>\n",
       "      <th>price_earnings_to_growth_ratio</th>\n",
       "      <th>price_sales_ratio</th>\n",
       "      <th>dividend_yield</th>\n",
       "      <th>enterprise_value_multiple</th>\n",
       "      <th>price_fair_value</th>\n",
       "      <th>interest_coverage</th>\n",
       "      <th>Stock</th>\n",
       "    </tr>\n",
       "  </thead>\n",
       "  <tbody>\n",
       "    <tr>\n",
       "      <th>0</th>\n",
       "      <td>2024-12-31</td>\n",
       "      <td>FY</td>\n",
       "      <td>2024</td>\n",
       "      <td>1.411158</td>\n",
       "      <td>1.082623</td>\n",
       "      <td>0.497512</td>\n",
       "      <td>48.597355</td>\n",
       "      <td>93.429086</td>\n",
       "      <td>142.026441</td>\n",
       "      <td>67.204264</td>\n",
       "      <td>...</td>\n",
       "      <td>111.446351</td>\n",
       "      <td>39.088935</td>\n",
       "      <td>39.088935</td>\n",
       "      <td>-0.106482</td>\n",
       "      <td>2.893297</td>\n",
       "      <td>0.027875</td>\n",
       "      <td>16.416792</td>\n",
       "      <td>18.506708</td>\n",
       "      <td>NaN</td>\n",
       "      <td>MMM</td>\n",
       "    </tr>\n",
       "    <tr>\n",
       "      <th>1</th>\n",
       "      <td>2023-12-31</td>\n",
       "      <td>FY</td>\n",
       "      <td>2023</td>\n",
       "      <td>1.070733</td>\n",
       "      <td>0.755508</td>\n",
       "      <td>0.387854</td>\n",
       "      <td>53.050702</td>\n",
       "      <td>95.255182</td>\n",
       "      <td>148.305884</td>\n",
       "      <td>64.102668</td>\n",
       "      <td>...</td>\n",
       "      <td>9.995352</td>\n",
       "      <td>7.578811</td>\n",
       "      <td>7.578811</td>\n",
       "      <td>0.032353</td>\n",
       "      <td>1.549110</td>\n",
       "      <td>0.065401</td>\n",
       "      <td>-9.122197</td>\n",
       "      <td>10.531820</td>\n",
       "      <td>-9.690021</td>\n",
       "      <td>MMM</td>\n",
       "    </tr>\n",
       "    <tr>\n",
       "      <th>2</th>\n",
       "      <td>2022-12-31</td>\n",
       "      <td>FY</td>\n",
       "      <td>2022</td>\n",
       "      <td>1.542371</td>\n",
       "      <td>0.978263</td>\n",
       "      <td>0.383808</td>\n",
       "      <td>48.326857</td>\n",
       "      <td>101.954035</td>\n",
       "      <td>150.280892</td>\n",
       "      <td>60.409474</td>\n",
       "      <td>...</td>\n",
       "      <td>14.770213</td>\n",
       "      <td>10.149734</td>\n",
       "      <td>10.149734</td>\n",
       "      <td>-50.244370</td>\n",
       "      <td>1.657868</td>\n",
       "      <td>0.059369</td>\n",
       "      <td>7.945437</td>\n",
       "      <td>3.842056</td>\n",
       "      <td>14.153680</td>\n",
       "      <td>MMM</td>\n",
       "    </tr>\n",
       "    <tr>\n",
       "      <th>3</th>\n",
       "      <td>2021-12-31</td>\n",
       "      <td>FY</td>\n",
       "      <td>2021</td>\n",
       "      <td>1.704815</td>\n",
       "      <td>1.153071</td>\n",
       "      <td>0.505147</td>\n",
       "      <td>48.109178</td>\n",
       "      <td>96.808992</td>\n",
       "      <td>144.918170</td>\n",
       "      <td>58.143655</td>\n",
       "      <td>...</td>\n",
       "      <td>14.696170</td>\n",
       "      <td>11.535724</td>\n",
       "      <td>11.535724</td>\n",
       "      <td>1.711831</td>\n",
       "      <td>2.432111</td>\n",
       "      <td>0.039773</td>\n",
       "      <td>10.343493</td>\n",
       "      <td>5.688119</td>\n",
       "      <td>11.176230</td>\n",
       "      <td>MMM</td>\n",
       "    </tr>\n",
       "    <tr>\n",
       "      <th>4</th>\n",
       "      <td>2020-12-31</td>\n",
       "      <td>FY</td>\n",
       "      <td>2020</td>\n",
       "      <td>1.885003</td>\n",
       "      <td>1.351661</td>\n",
       "      <td>0.583040</td>\n",
       "      <td>53.359589</td>\n",
       "      <td>93.178862</td>\n",
       "      <td>146.538450</td>\n",
       "      <td>56.294188</td>\n",
       "      <td>...</td>\n",
       "      <td>12.766253</td>\n",
       "      <td>10.404347</td>\n",
       "      <td>10.404347</td>\n",
       "      <td>0.812508</td>\n",
       "      <td>2.622746</td>\n",
       "      <td>0.040137</td>\n",
       "      <td>10.673665</td>\n",
       "      <td>6.527760</td>\n",
       "      <td>8.453686</td>\n",
       "      <td>MMM</td>\n",
       "    </tr>\n",
       "    <tr>\n",
       "      <th>...</th>\n",
       "      <td>...</td>\n",
       "      <td>...</td>\n",
       "      <td>...</td>\n",
       "      <td>...</td>\n",
       "      <td>...</td>\n",
       "      <td>...</td>\n",
       "      <td>...</td>\n",
       "      <td>...</td>\n",
       "      <td>...</td>\n",
       "      <td>...</td>\n",
       "      <td>...</td>\n",
       "      <td>...</td>\n",
       "      <td>...</td>\n",
       "      <td>...</td>\n",
       "      <td>...</td>\n",
       "      <td>...</td>\n",
       "      <td>...</td>\n",
       "      <td>...</td>\n",
       "      <td>...</td>\n",
       "      <td>...</td>\n",
       "      <td>...</td>\n",
       "    </tr>\n",
       "    <tr>\n",
       "      <th>1229</th>\n",
       "      <td>2024-12-31</td>\n",
       "      <td>FY</td>\n",
       "      <td>2024</td>\n",
       "      <td>2.289021</td>\n",
       "      <td>1.709000</td>\n",
       "      <td>0.847325</td>\n",
       "      <td>67.369869</td>\n",
       "      <td>94.729397</td>\n",
       "      <td>162.099266</td>\n",
       "      <td>75.747601</td>\n",
       "      <td>...</td>\n",
       "      <td>29.249410</td>\n",
       "      <td>26.126988</td>\n",
       "      <td>26.126988</td>\n",
       "      <td>5.221784</td>\n",
       "      <td>5.043755</td>\n",
       "      <td>0.000885</td>\n",
       "      <td>19.121151</td>\n",
       "      <td>3.584985</td>\n",
       "      <td>6.098030</td>\n",
       "      <td>IR</td>\n",
       "    </tr>\n",
       "    <tr>\n",
       "      <th>1230</th>\n",
       "      <td>2023-12-31</td>\n",
       "      <td>FY</td>\n",
       "      <td>2023</td>\n",
       "      <td>2.216604</td>\n",
       "      <td>1.668746</td>\n",
       "      <td>0.873146</td>\n",
       "      <td>65.514318</td>\n",
       "      <td>91.489897</td>\n",
       "      <td>157.004215</td>\n",
       "      <td>73.221162</td>\n",
       "      <td>...</td>\n",
       "      <td>24.612604</td>\n",
       "      <td>22.729223</td>\n",
       "      <td>22.729223</td>\n",
       "      <td>1.435874</td>\n",
       "      <td>4.553051</td>\n",
       "      <td>0.001035</td>\n",
       "      <td>19.720039</td>\n",
       "      <td>3.199905</td>\n",
       "      <td>7.430121</td>\n",
       "      <td>IR</td>\n",
       "    </tr>\n",
       "    <tr>\n",
       "      <th>1231</th>\n",
       "      <td>2022-12-31</td>\n",
       "      <td>FY</td>\n",
       "      <td>2022</td>\n",
       "      <td>2.369952</td>\n",
       "      <td>1.757407</td>\n",
       "      <td>0.963560</td>\n",
       "      <td>69.220628</td>\n",
       "      <td>104.233436</td>\n",
       "      <td>173.454064</td>\n",
       "      <td>79.156014</td>\n",
       "      <td>...</td>\n",
       "      <td>27.656948</td>\n",
       "      <td>24.615745</td>\n",
       "      <td>24.615745</td>\n",
       "      <td>1.108984</td>\n",
       "      <td>3.579420</td>\n",
       "      <td>0.001530</td>\n",
       "      <td>17.006954</td>\n",
       "      <td>2.302891</td>\n",
       "      <td>7.919574</td>\n",
       "      <td>IR</td>\n",
       "    </tr>\n",
       "    <tr>\n",
       "      <th>1232</th>\n",
       "      <td>2021-12-31</td>\n",
       "      <td>FY</td>\n",
       "      <td>2021</td>\n",
       "      <td>2.803638</td>\n",
       "      <td>2.221639</td>\n",
       "      <td>1.437351</td>\n",
       "      <td>67.199557</td>\n",
       "      <td>98.543886</td>\n",
       "      <td>165.743443</td>\n",
       "      <td>77.351528</td>\n",
       "      <td>...</td>\n",
       "      <td>46.542757</td>\n",
       "      <td>41.695656</td>\n",
       "      <td>41.695656</td>\n",
       "      <td>-0.031519</td>\n",
       "      <td>4.980917</td>\n",
       "      <td>0.000320</td>\n",
       "      <td>25.844592</td>\n",
       "      <td>2.851044</td>\n",
       "      <td>6.450399</td>\n",
       "      <td>IR</td>\n",
       "    </tr>\n",
       "    <tr>\n",
       "      <th>1233</th>\n",
       "      <td>2020-12-31</td>\n",
       "      <td>FY</td>\n",
       "      <td>2020</td>\n",
       "      <td>2.577139</td>\n",
       "      <td>1.947484</td>\n",
       "      <td>1.168357</td>\n",
       "      <td>68.551790</td>\n",
       "      <td>104.469182</td>\n",
       "      <td>173.020972</td>\n",
       "      <td>59.386678</td>\n",
       "      <td>...</td>\n",
       "      <td>20.148299</td>\n",
       "      <td>19.075104</td>\n",
       "      <td>19.075104</td>\n",
       "      <td>4.856127</td>\n",
       "      <td>3.551865</td>\n",
       "      <td>NaN</td>\n",
       "      <td>28.517933</td>\n",
       "      <td>1.912384</td>\n",
       "      <td>0.771377</td>\n",
       "      <td>IR</td>\n",
       "    </tr>\n",
       "  </tbody>\n",
       "</table>\n",
       "<p>1234 rows × 58 columns</p>\n",
       "</div>"
      ],
      "text/plain": [
       "     period_ending fiscal_period  fiscal_year  current_ratio  quick_ratio  \\\n",
       "0       2024-12-31            FY         2024       1.411158     1.082623   \n",
       "1       2023-12-31            FY         2023       1.070733     0.755508   \n",
       "2       2022-12-31            FY         2022       1.542371     0.978263   \n",
       "3       2021-12-31            FY         2021       1.704815     1.153071   \n",
       "4       2020-12-31            FY         2020       1.885003     1.351661   \n",
       "...            ...           ...          ...            ...          ...   \n",
       "1229    2024-12-31            FY         2024       2.289021     1.709000   \n",
       "1230    2023-12-31            FY         2023       2.216604     1.668746   \n",
       "1231    2022-12-31            FY         2022       2.369952     1.757407   \n",
       "1232    2021-12-31            FY         2021       2.803638     2.221639   \n",
       "1233    2020-12-31            FY         2020       2.577139     1.947484   \n",
       "\n",
       "      cash_ratio  days_of_sales_outstanding  days_of_inventory_outstanding  \\\n",
       "0       0.497512                  48.597355                      93.429086   \n",
       "1       0.387854                  53.050702                      95.255182   \n",
       "2       0.383808                  48.326857                     101.954035   \n",
       "3       0.505147                  48.109178                      96.808992   \n",
       "4       0.583040                  53.359589                      93.178862   \n",
       "...          ...                        ...                            ...   \n",
       "1229    0.847325                  67.369869                      94.729397   \n",
       "1230    0.873146                  65.514318                      91.489897   \n",
       "1231    0.963560                  69.220628                     104.233436   \n",
       "1232    1.437351                  67.199557                      98.543886   \n",
       "1233    1.168357                  68.551790                     104.469182   \n",
       "\n",
       "      operating_cycle  days_of_payables_outstanding  ...  \\\n",
       "0          142.026441                     67.204264  ...   \n",
       "1          148.305884                     64.102668  ...   \n",
       "2          150.280892                     60.409474  ...   \n",
       "3          144.918170                     58.143655  ...   \n",
       "4          146.538450                     56.294188  ...   \n",
       "...               ...                           ...  ...   \n",
       "1229       162.099266                     75.747601  ...   \n",
       "1230       157.004215                     73.221162  ...   \n",
       "1231       173.454064                     79.156014  ...   \n",
       "1232       165.743443                     77.351528  ...   \n",
       "1233       173.020972                     59.386678  ...   \n",
       "\n",
       "      price_to_free_cash_flows_ratio  price_to_operating_cash_flows_ratio  \\\n",
       "0                         111.446351                            39.088935   \n",
       "1                           9.995352                             7.578811   \n",
       "2                          14.770213                            10.149734   \n",
       "3                          14.696170                            11.535724   \n",
       "4                          12.766253                            10.404347   \n",
       "...                              ...                                  ...   \n",
       "1229                       29.249410                            26.126988   \n",
       "1230                       24.612604                            22.729223   \n",
       "1231                       27.656948                            24.615745   \n",
       "1232                       46.542757                            41.695656   \n",
       "1233                       20.148299                            19.075104   \n",
       "\n",
       "      price_cash_flow_ratio  price_earnings_to_growth_ratio  \\\n",
       "0                 39.088935                       -0.106482   \n",
       "1                  7.578811                        0.032353   \n",
       "2                 10.149734                      -50.244370   \n",
       "3                 11.535724                        1.711831   \n",
       "4                 10.404347                        0.812508   \n",
       "...                     ...                             ...   \n",
       "1229              26.126988                        5.221784   \n",
       "1230              22.729223                        1.435874   \n",
       "1231              24.615745                        1.108984   \n",
       "1232              41.695656                       -0.031519   \n",
       "1233              19.075104                        4.856127   \n",
       "\n",
       "      price_sales_ratio  dividend_yield  enterprise_value_multiple  \\\n",
       "0              2.893297        0.027875                  16.416792   \n",
       "1              1.549110        0.065401                  -9.122197   \n",
       "2              1.657868        0.059369                   7.945437   \n",
       "3              2.432111        0.039773                  10.343493   \n",
       "4              2.622746        0.040137                  10.673665   \n",
       "...                 ...             ...                        ...   \n",
       "1229           5.043755        0.000885                  19.121151   \n",
       "1230           4.553051        0.001035                  19.720039   \n",
       "1231           3.579420        0.001530                  17.006954   \n",
       "1232           4.980917        0.000320                  25.844592   \n",
       "1233           3.551865             NaN                  28.517933   \n",
       "\n",
       "      price_fair_value  interest_coverage  Stock  \n",
       "0            18.506708                NaN    MMM  \n",
       "1            10.531820          -9.690021    MMM  \n",
       "2             3.842056          14.153680    MMM  \n",
       "3             5.688119          11.176230    MMM  \n",
       "4             6.527760           8.453686    MMM  \n",
       "...                ...                ...    ...  \n",
       "1229          3.584985           6.098030     IR  \n",
       "1230          3.199905           7.430121     IR  \n",
       "1231          2.302891           7.919574     IR  \n",
       "1232          2.851044           6.450399     IR  \n",
       "1233          1.912384           0.771377     IR  \n",
       "\n",
       "[1234 rows x 58 columns]"
      ]
     },
     "execution_count": 51,
     "metadata": {},
     "output_type": "execute_result"
    }
   ],
   "source": [
    "ratio_df = pd.read_csv('data/namecsv.csv')\n",
    "df_ratios = df_ratios[ratio_df.columns]"
   ]
  },
  {
   "cell_type": "code",
   "execution_count": null,
   "metadata": {},
   "outputs": [],
   "source": [
    "df_ratios = df_ratios[~df_ratios['Stock'].isin(ratio_df['Stock'])]\n",
    "\n",
    "df_ratios.head()"
   ]
  },
  {
   "cell_type": "code",
   "execution_count": null,
   "metadata": {},
   "outputs": [],
   "source": [
    "print(len(ratio_df['Stock'].unique()) + len(df_ratios['Stock'].unique()))"
   ]
  },
  {
   "cell_type": "code",
   "execution_count": null,
   "metadata": {},
   "outputs": [],
   "source": [
    "updated_df = pd.concat([ratio_df, df_ratios], ignore_index=True)\n",
    "\n",
    "updated_df.tail()"
   ]
  },
  {
   "cell_type": "code",
   "execution_count": 58,
   "metadata": {},
   "outputs": [
    {
     "data": {
      "text/plain": [
       "867"
      ]
     },
     "execution_count": 58,
     "metadata": {},
     "output_type": "execute_result"
    }
   ],
   "source": [
    "len(updated_df['Stock'].unique())"
   ]
  },
  {
   "cell_type": "code",
   "execution_count": 59,
   "metadata": {},
   "outputs": [
    {
     "data": {
      "text/plain": [
       "(4328, 58)"
      ]
     },
     "execution_count": 59,
     "metadata": {},
     "output_type": "execute_result"
    }
   ],
   "source": [
    "updated_df.shape"
   ]
  },
  {
   "cell_type": "code",
   "execution_count": 60,
   "metadata": {},
   "outputs": [],
   "source": [
    "updated_df.to_csv(\"data/namecsv.csv\", index=False)"
   ]
  },
  {
   "cell_type": "markdown",
   "metadata": {},
   "source": [
    "## Download Metrics Data"
   ]
  },
  {
   "cell_type": "code",
   "execution_count": 3,
   "metadata": {},
   "outputs": [],
   "source": [
    "stocks = pd.read_csv(\"data/stocks.csv\")\n",
    "companies = stocks['Stock'].unique().tolist()"
   ]
  },
  {
   "cell_type": "code",
   "execution_count": 4,
   "metadata": {},
   "outputs": [],
   "source": [
    "metrics_df = pd.read_csv('data/stocks_metrics.csv')\n",
    "downloaded_companies = metrics_df['Stock'].unique().tolist()"
   ]
  },
  {
   "cell_type": "code",
   "execution_count": 7,
   "metadata": {},
   "outputs": [],
   "source": [
    "def get_remaining_companies(companies, downloaded_companies, limit=250):\n",
    "    return [company for company in companies if company not in downloaded_companies][:limit]"
   ]
  },
  {
   "cell_type": "code",
   "execution_count": 8,
   "metadata": {},
   "outputs": [],
   "source": [
    "companies = get_remaining_companies(companies, downloaded_companies)"
   ]
  },
  {
   "cell_type": "code",
   "execution_count": 9,
   "metadata": {},
   "outputs": [
    {
     "data": {
      "text/plain": [
       "['BN', 'BNPQY', 'BNS', 'BNTX', 'BP']"
      ]
     },
     "execution_count": 9,
     "metadata": {},
     "output_type": "execute_result"
    }
   ],
   "source": [
    "companies[:5]"
   ]
  },
  {
   "cell_type": "code",
   "execution_count": 11,
   "metadata": {},
   "outputs": [],
   "source": [
    "from pandas.errors import EmptyDataError\n",
    "\n",
    "def download_metrics(stocks, provider=\"fmp\", limit=10):# limit=10 for 10 year historical data, however, the free plan only allows 5 years\n",
    "\n",
    "    metric_list = []\n",
    "\n",
    "    for stock in stocks:\n",
    "        try:\n",
    "            df = obb.equity.fundamental.metrics(stock,provider=provider, limit=limit).to_df() \n",
    "            df['Stock'] = stock\n",
    "            metric_list.append(df)\n",
    "\n",
    "        except EmptyDataError:\n",
    "            print(f\"No data found for the symbol {stock}\")\n",
    "\n",
    "        except Exception as e:\n",
    "            print(f\"Error with {stock}: {e}\")\n",
    "\n",
    "\n",
    "    return pd.concat(metric_list, ignore_index=True) if metric_list else pd.DataFrame()"
   ]
  },
  {
   "cell_type": "code",
   "execution_count": 12,
   "metadata": {},
   "outputs": [],
   "source": [
    "df_metrics = download_metrics(companies) "
   ]
  },
  {
   "cell_type": "code",
   "execution_count": 13,
   "metadata": {},
   "outputs": [],
   "source": [
    "df_metrics = df_metrics[metrics_df.columns]"
   ]
  },
  {
   "cell_type": "code",
   "execution_count": 14,
   "metadata": {},
   "outputs": [
    {
     "data": {
      "text/html": [
       "<div>\n",
       "<style scoped>\n",
       "    .dataframe tbody tr th:only-of-type {\n",
       "        vertical-align: middle;\n",
       "    }\n",
       "\n",
       "    .dataframe tbody tr th {\n",
       "        vertical-align: top;\n",
       "    }\n",
       "\n",
       "    .dataframe thead th {\n",
       "        text-align: right;\n",
       "    }\n",
       "</style>\n",
       "<table border=\"1\" class=\"dataframe\">\n",
       "  <thead>\n",
       "    <tr style=\"text-align: right;\">\n",
       "      <th></th>\n",
       "      <th>symbol</th>\n",
       "      <th>market_cap</th>\n",
       "      <th>pe_ratio</th>\n",
       "      <th>period_ending</th>\n",
       "      <th>fiscal_period</th>\n",
       "      <th>calendar_year</th>\n",
       "      <th>revenue_per_share</th>\n",
       "      <th>capex_per_share</th>\n",
       "      <th>net_income_per_share</th>\n",
       "      <th>operating_cash_flow_per_share</th>\n",
       "      <th>...</th>\n",
       "      <th>receivables_turnover</th>\n",
       "      <th>payables_turnover</th>\n",
       "      <th>inventory_turnover</th>\n",
       "      <th>return_on_equity</th>\n",
       "      <th>return_on_invested_capital</th>\n",
       "      <th>return_on_tangible_assets</th>\n",
       "      <th>dividend_yield</th>\n",
       "      <th>graham_number</th>\n",
       "      <th>graham_net_net</th>\n",
       "      <th>Stock</th>\n",
       "    </tr>\n",
       "  </thead>\n",
       "  <tbody>\n",
       "    <tr>\n",
       "      <th>0</th>\n",
       "      <td>BN</td>\n",
       "      <td>6.034211e+10</td>\n",
       "      <td>94.137458</td>\n",
       "      <td>2024-12-31</td>\n",
       "      <td>FY</td>\n",
       "      <td>2024</td>\n",
       "      <td>79.082539</td>\n",
       "      <td>10.636542</td>\n",
       "      <td>0.610278</td>\n",
       "      <td>7.206229</td>\n",
       "      <td>...</td>\n",
       "      <td>4.095235</td>\n",
       "      <td>2.149261</td>\n",
       "      <td>11.950257</td>\n",
       "      <td>0.013950</td>\n",
       "      <td>-0.288754</td>\n",
       "      <td>0.001532</td>\n",
       "      <td>0.010987</td>\n",
       "      <td>24.509301</td>\n",
       "      <td>-273.000210</td>\n",
       "      <td>BN</td>\n",
       "    </tr>\n",
       "    <tr>\n",
       "      <th>1</th>\n",
       "      <td>BN</td>\n",
       "      <td>6.252702e+10</td>\n",
       "      <td>55.333646</td>\n",
       "      <td>2023-12-31</td>\n",
       "      <td>FY</td>\n",
       "      <td>2023</td>\n",
       "      <td>62.875842</td>\n",
       "      <td>5.177414</td>\n",
       "      <td>0.725056</td>\n",
       "      <td>4.149503</td>\n",
       "      <td>...</td>\n",
       "      <td>4.836007</td>\n",
       "      <td>2.328605</td>\n",
       "      <td>11.020963</td>\n",
       "      <td>0.024685</td>\n",
       "      <td>0.036775</td>\n",
       "      <td>0.002715</td>\n",
       "      <td>0.009628</td>\n",
       "      <td>21.890079</td>\n",
       "      <td>-183.678383</td>\n",
       "      <td>BN</td>\n",
       "    </tr>\n",
       "    <tr>\n",
       "      <th>2</th>\n",
       "      <td>BN</td>\n",
       "      <td>4.931355e+10</td>\n",
       "      <td>9.492502</td>\n",
       "      <td>2022-12-31</td>\n",
       "      <td>FY</td>\n",
       "      <td>2022</td>\n",
       "      <td>59.182775</td>\n",
       "      <td>4.616268</td>\n",
       "      <td>3.314195</td>\n",
       "      <td>5.582775</td>\n",
       "      <td>...</td>\n",
       "      <td>4.760070</td>\n",
       "      <td>6.161108</td>\n",
       "      <td>8.620004</td>\n",
       "      <td>0.118735</td>\n",
       "      <td>0.032945</td>\n",
       "      <td>0.013883</td>\n",
       "      <td>0.020040</td>\n",
       "      <td>45.622639</td>\n",
       "      <td>-164.759968</td>\n",
       "      <td>BN</td>\n",
       "    </tr>\n",
       "    <tr>\n",
       "      <th>3</th>\n",
       "      <td>BN</td>\n",
       "      <td>7.558044e+10</td>\n",
       "      <td>6.101101</td>\n",
       "      <td>2021-12-31</td>\n",
       "      <td>FY</td>\n",
       "      <td>2021</td>\n",
       "      <td>49.287992</td>\n",
       "      <td>4.478360</td>\n",
       "      <td>8.062480</td>\n",
       "      <td>5.124634</td>\n",
       "      <td>...</td>\n",
       "      <td>4.704373</td>\n",
       "      <td>5.684846</td>\n",
       "      <td>7.479257</td>\n",
       "      <td>0.267242</td>\n",
       "      <td>0.039700</td>\n",
       "      <td>0.036417</td>\n",
       "      <td>0.019488</td>\n",
       "      <td>73.978852</td>\n",
       "      <td>-143.347218</td>\n",
       "      <td>BN</td>\n",
       "    </tr>\n",
       "    <tr>\n",
       "      <th>4</th>\n",
       "      <td>BN</td>\n",
       "      <td>5.081327e+10</td>\n",
       "      <td>71.871666</td>\n",
       "      <td>2020-12-31</td>\n",
       "      <td>FY</td>\n",
       "      <td>2020</td>\n",
       "      <td>41.519121</td>\n",
       "      <td>2.654493</td>\n",
       "      <td>0.467778</td>\n",
       "      <td>5.518724</td>\n",
       "      <td>...</td>\n",
       "      <td>6.205083</td>\n",
       "      <td>1.832618</td>\n",
       "      <td>4.573938</td>\n",
       "      <td>0.019728</td>\n",
       "      <td>0.014559</td>\n",
       "      <td>0.002323</td>\n",
       "      <td>0.017964</td>\n",
       "      <td>15.797684</td>\n",
       "      <td>-127.612313</td>\n",
       "      <td>BN</td>\n",
       "    </tr>\n",
       "  </tbody>\n",
       "</table>\n",
       "<p>5 rows × 62 columns</p>\n",
       "</div>"
      ],
      "text/plain": [
       "  symbol    market_cap   pe_ratio period_ending fiscal_period  calendar_year  \\\n",
       "0     BN  6.034211e+10  94.137458    2024-12-31            FY           2024   \n",
       "1     BN  6.252702e+10  55.333646    2023-12-31            FY           2023   \n",
       "2     BN  4.931355e+10   9.492502    2022-12-31            FY           2022   \n",
       "3     BN  7.558044e+10   6.101101    2021-12-31            FY           2021   \n",
       "4     BN  5.081327e+10  71.871666    2020-12-31            FY           2020   \n",
       "\n",
       "   revenue_per_share  capex_per_share  net_income_per_share  \\\n",
       "0          79.082539        10.636542              0.610278   \n",
       "1          62.875842         5.177414              0.725056   \n",
       "2          59.182775         4.616268              3.314195   \n",
       "3          49.287992         4.478360              8.062480   \n",
       "4          41.519121         2.654493              0.467778   \n",
       "\n",
       "   operating_cash_flow_per_share  ...  receivables_turnover  \\\n",
       "0                       7.206229  ...              4.095235   \n",
       "1                       4.149503  ...              4.836007   \n",
       "2                       5.582775  ...              4.760070   \n",
       "3                       5.124634  ...              4.704373   \n",
       "4                       5.518724  ...              6.205083   \n",
       "\n",
       "   payables_turnover  inventory_turnover  return_on_equity  \\\n",
       "0           2.149261           11.950257          0.013950   \n",
       "1           2.328605           11.020963          0.024685   \n",
       "2           6.161108            8.620004          0.118735   \n",
       "3           5.684846            7.479257          0.267242   \n",
       "4           1.832618            4.573938          0.019728   \n",
       "\n",
       "   return_on_invested_capital  return_on_tangible_assets  dividend_yield  \\\n",
       "0                   -0.288754                   0.001532        0.010987   \n",
       "1                    0.036775                   0.002715        0.009628   \n",
       "2                    0.032945                   0.013883        0.020040   \n",
       "3                    0.039700                   0.036417        0.019488   \n",
       "4                    0.014559                   0.002323        0.017964   \n",
       "\n",
       "   graham_number  graham_net_net  Stock  \n",
       "0      24.509301     -273.000210     BN  \n",
       "1      21.890079     -183.678383     BN  \n",
       "2      45.622639     -164.759968     BN  \n",
       "3      73.978852     -143.347218     BN  \n",
       "4      15.797684     -127.612313     BN  \n",
       "\n",
       "[5 rows x 62 columns]"
      ]
     },
     "execution_count": 14,
     "metadata": {},
     "output_type": "execute_result"
    }
   ],
   "source": [
    "df_metrics = df_metrics[~df_metrics['Stock'].isin(metrics_df['Stock'])]\n",
    "\n",
    "df_metrics.head()"
   ]
  },
  {
   "cell_type": "code",
   "execution_count": 15,
   "metadata": {},
   "outputs": [
    {
     "name": "stdout",
     "output_type": "stream",
     "text": [
      "352\n"
     ]
    }
   ],
   "source": [
    "print(len(metrics_df['Stock'].unique()) + len(df_metrics['Stock'].unique()))"
   ]
  },
  {
   "cell_type": "code",
   "execution_count": 16,
   "metadata": {},
   "outputs": [
    {
     "data": {
      "text/html": [
       "<div>\n",
       "<style scoped>\n",
       "    .dataframe tbody tr th:only-of-type {\n",
       "        vertical-align: middle;\n",
       "    }\n",
       "\n",
       "    .dataframe tbody tr th {\n",
       "        vertical-align: top;\n",
       "    }\n",
       "\n",
       "    .dataframe thead th {\n",
       "        text-align: right;\n",
       "    }\n",
       "</style>\n",
       "<table border=\"1\" class=\"dataframe\">\n",
       "  <thead>\n",
       "    <tr style=\"text-align: right;\">\n",
       "      <th></th>\n",
       "      <th>symbol</th>\n",
       "      <th>market_cap</th>\n",
       "      <th>pe_ratio</th>\n",
       "      <th>period_ending</th>\n",
       "      <th>fiscal_period</th>\n",
       "      <th>calendar_year</th>\n",
       "      <th>revenue_per_share</th>\n",
       "      <th>capex_per_share</th>\n",
       "      <th>net_income_per_share</th>\n",
       "      <th>operating_cash_flow_per_share</th>\n",
       "      <th>...</th>\n",
       "      <th>receivables_turnover</th>\n",
       "      <th>payables_turnover</th>\n",
       "      <th>inventory_turnover</th>\n",
       "      <th>return_on_equity</th>\n",
       "      <th>return_on_invested_capital</th>\n",
       "      <th>return_on_tangible_assets</th>\n",
       "      <th>dividend_yield</th>\n",
       "      <th>graham_number</th>\n",
       "      <th>graham_net_net</th>\n",
       "      <th>Stock</th>\n",
       "    </tr>\n",
       "  </thead>\n",
       "  <tbody>\n",
       "    <tr>\n",
       "      <th>1752</th>\n",
       "      <td>HEI</td>\n",
       "      <td>3.391455e+10</td>\n",
       "      <td>65.967630</td>\n",
       "      <td>2024-10-31</td>\n",
       "      <td>FY</td>\n",
       "      <td>2024</td>\n",
       "      <td>27.862258</td>\n",
       "      <td>0.420794</td>\n",
       "      <td>3.713185</td>\n",
       "      <td>4.856235</td>\n",
       "      <td>...</td>\n",
       "      <td>5.928290</td>\n",
       "      <td>11.872977</td>\n",
       "      <td>2.011995</td>\n",
       "      <td>0.141360</td>\n",
       "      <td>0.096315</td>\n",
       "      <td>0.178649</td>\n",
       "      <td>0.000857</td>\n",
       "      <td>46.846217</td>\n",
       "      <td>-19.210552</td>\n",
       "      <td>HEI</td>\n",
       "    </tr>\n",
       "    <tr>\n",
       "      <th>1753</th>\n",
       "      <td>HEI</td>\n",
       "      <td>2.173148e+10</td>\n",
       "      <td>53.844626</td>\n",
       "      <td>2023-10-31</td>\n",
       "      <td>FY</td>\n",
       "      <td>2023</td>\n",
       "      <td>21.635784</td>\n",
       "      <td>0.360346</td>\n",
       "      <td>2.941983</td>\n",
       "      <td>3.271021</td>\n",
       "      <td>...</td>\n",
       "      <td>4.781274</td>\n",
       "      <td>8.813398</td>\n",
       "      <td>1.790128</td>\n",
       "      <td>0.128289</td>\n",
       "      <td>0.076195</td>\n",
       "      <td>0.157442</td>\n",
       "      <td>0.001259</td>\n",
       "      <td>38.961626</td>\n",
       "      <td>-18.177164</td>\n",
       "      <td>HEI</td>\n",
       "    </tr>\n",
       "    <tr>\n",
       "      <th>1754</th>\n",
       "      <td>HEI</td>\n",
       "      <td>2.212067e+10</td>\n",
       "      <td>62.900878</td>\n",
       "      <td>2022-10-31</td>\n",
       "      <td>FY</td>\n",
       "      <td>2022</td>\n",
       "      <td>16.236468</td>\n",
       "      <td>0.235144</td>\n",
       "      <td>2.585655</td>\n",
       "      <td>3.439865</td>\n",
       "      <td>...</td>\n",
       "      <td>5.679461</td>\n",
       "      <td>11.544843</td>\n",
       "      <td>2.310094</td>\n",
       "      <td>0.132792</td>\n",
       "      <td>0.107087</td>\n",
       "      <td>0.208123</td>\n",
       "      <td>0.001106</td>\n",
       "      <td>33.656988</td>\n",
       "      <td>-2.920594</td>\n",
       "      <td>HEI</td>\n",
       "    </tr>\n",
       "    <tr>\n",
       "      <th>1755</th>\n",
       "      <td>HEI</td>\n",
       "      <td>1.864792e+10</td>\n",
       "      <td>61.297491</td>\n",
       "      <td>2021-10-31</td>\n",
       "      <td>FY</td>\n",
       "      <td>2021</td>\n",
       "      <td>13.786575</td>\n",
       "      <td>0.267377</td>\n",
       "      <td>2.248053</td>\n",
       "      <td>3.281587</td>\n",
       "      <td>...</td>\n",
       "      <td>5.740701</td>\n",
       "      <td>13.306123</td>\n",
       "      <td>2.381046</td>\n",
       "      <td>0.132446</td>\n",
       "      <td>0.103990</td>\n",
       "      <td>0.207559</td>\n",
       "      <td>0.001233</td>\n",
       "      <td>29.300743</td>\n",
       "      <td>-4.510597</td>\n",
       "      <td>HEI</td>\n",
       "    </tr>\n",
       "    <tr>\n",
       "      <th>1756</th>\n",
       "      <td>HEI</td>\n",
       "      <td>1.415591e+10</td>\n",
       "      <td>45.084806</td>\n",
       "      <td>2020-10-31</td>\n",
       "      <td>FY</td>\n",
       "      <td>2020</td>\n",
       "      <td>13.261269</td>\n",
       "      <td>0.170236</td>\n",
       "      <td>2.330053</td>\n",
       "      <td>3.036088</td>\n",
       "      <td>...</td>\n",
       "      <td>6.597489</td>\n",
       "      <td>14.492727</td>\n",
       "      <td>2.385298</td>\n",
       "      <td>0.156164</td>\n",
       "      <td>0.104375</td>\n",
       "      <td>0.198034</td>\n",
       "      <td>0.001522</td>\n",
       "      <td>27.968357</td>\n",
       "      <td>-5.161279</td>\n",
       "      <td>HEI</td>\n",
       "    </tr>\n",
       "  </tbody>\n",
       "</table>\n",
       "<p>5 rows × 62 columns</p>\n",
       "</div>"
      ],
      "text/plain": [
       "     symbol    market_cap   pe_ratio period_ending fiscal_period  \\\n",
       "1752    HEI  3.391455e+10  65.967630    2024-10-31            FY   \n",
       "1753    HEI  2.173148e+10  53.844626    2023-10-31            FY   \n",
       "1754    HEI  2.212067e+10  62.900878    2022-10-31            FY   \n",
       "1755    HEI  1.864792e+10  61.297491    2021-10-31            FY   \n",
       "1756    HEI  1.415591e+10  45.084806    2020-10-31            FY   \n",
       "\n",
       "      calendar_year  revenue_per_share  capex_per_share  net_income_per_share  \\\n",
       "1752           2024          27.862258         0.420794              3.713185   \n",
       "1753           2023          21.635784         0.360346              2.941983   \n",
       "1754           2022          16.236468         0.235144              2.585655   \n",
       "1755           2021          13.786575         0.267377              2.248053   \n",
       "1756           2020          13.261269         0.170236              2.330053   \n",
       "\n",
       "      operating_cash_flow_per_share  ...  receivables_turnover  \\\n",
       "1752                       4.856235  ...              5.928290   \n",
       "1753                       3.271021  ...              4.781274   \n",
       "1754                       3.439865  ...              5.679461   \n",
       "1755                       3.281587  ...              5.740701   \n",
       "1756                       3.036088  ...              6.597489   \n",
       "\n",
       "      payables_turnover  inventory_turnover  return_on_equity  \\\n",
       "1752          11.872977            2.011995          0.141360   \n",
       "1753           8.813398            1.790128          0.128289   \n",
       "1754          11.544843            2.310094          0.132792   \n",
       "1755          13.306123            2.381046          0.132446   \n",
       "1756          14.492727            2.385298          0.156164   \n",
       "\n",
       "      return_on_invested_capital  return_on_tangible_assets  dividend_yield  \\\n",
       "1752                    0.096315                   0.178649        0.000857   \n",
       "1753                    0.076195                   0.157442        0.001259   \n",
       "1754                    0.107087                   0.208123        0.001106   \n",
       "1755                    0.103990                   0.207559        0.001233   \n",
       "1756                    0.104375                   0.198034        0.001522   \n",
       "\n",
       "      graham_number  graham_net_net  Stock  \n",
       "1752      46.846217      -19.210552    HEI  \n",
       "1753      38.961626      -18.177164    HEI  \n",
       "1754      33.656988       -2.920594    HEI  \n",
       "1755      29.300743       -4.510597    HEI  \n",
       "1756      27.968357       -5.161279    HEI  \n",
       "\n",
       "[5 rows x 62 columns]"
      ]
     },
     "execution_count": 16,
     "metadata": {},
     "output_type": "execute_result"
    }
   ],
   "source": [
    "upd_df = pd.concat([metrics_df, df_metrics], ignore_index=True)\n",
    "\n",
    "upd_df.tail()"
   ]
  },
  {
   "cell_type": "code",
   "execution_count": 17,
   "metadata": {},
   "outputs": [
    {
     "data": {
      "text/plain": [
       "352"
      ]
     },
     "execution_count": 17,
     "metadata": {},
     "output_type": "execute_result"
    }
   ],
   "source": [
    "len(upd_df['Stock'].unique())"
   ]
  },
  {
   "cell_type": "code",
   "execution_count": 18,
   "metadata": {},
   "outputs": [
    {
     "data": {
      "text/plain": [
       "(1757, 62)"
      ]
     },
     "execution_count": 18,
     "metadata": {},
     "output_type": "execute_result"
    }
   ],
   "source": [
    "upd_df.shape"
   ]
  },
  {
   "cell_type": "code",
   "execution_count": 19,
   "metadata": {},
   "outputs": [],
   "source": [
    "upd_df.to_csv(\"data/stocks_metrics.csv\", index=False)"
   ]
  },
  {
   "cell_type": "markdown",
   "metadata": {},
   "source": [
    "## Download Balance, Cash and Income Growth Data"
   ]
  },
  {
   "cell_type": "markdown",
   "metadata": {},
   "source": [
    "## Download Price Data"
   ]
  },
  {
   "cell_type": "code",
   "execution_count": 2,
   "metadata": {},
   "outputs": [],
   "source": [
    "ratio_df = pd.read_csv(\"data/stocks_ratios.csv\")"
   ]
  },
  {
   "cell_type": "code",
   "execution_count": 3,
   "metadata": {},
   "outputs": [],
   "source": [
    "ratio_df['period_ending'] = pd.to_datetime(ratio_df['period_ending'])"
   ]
  },
  {
   "cell_type": "code",
   "execution_count": 91,
   "metadata": {},
   "outputs": [
    {
     "data": {
      "text/plain": [
       "867"
      ]
     },
     "execution_count": 91,
     "metadata": {},
     "output_type": "execute_result"
    }
   ],
   "source": [
    "len(ratio_df['Stock'].unique())"
   ]
  },
  {
   "cell_type": "code",
   "execution_count": 68,
   "metadata": {},
   "outputs": [],
   "source": [
    "ids = ratio_df['Stock'].unique().tolist()"
   ]
  },
  {
   "cell_type": "code",
   "execution_count": 70,
   "metadata": {},
   "outputs": [],
   "source": [
    "from pandas.errors import EmptyDataError\n",
    "\n",
    "def download_historical_prices(ids, start_date=\"2020-01-01\", provider=\"yfinance\"):\n",
    "\n",
    "    df_list = []\n",
    "\n",
    "    for id in ids:\n",
    "        try:\n",
    "            price = obb.equity.price.historical(symbol=id, start_date=start_date, provider=provider).to_df()\n",
    "            price['Stock'] = id\n",
    "            df_list.append(price)\n",
    "        \n",
    "        except EmptyDataError:\n",
    "            print(f\"No data found for the symbol {id}\")\n",
    "\n",
    "        except Exception as e:\n",
    "            print(f\"Error with {id}: {e}\")\n",
    "\n",
    "\n",
    "    return pd.concat(df_list, ignore_index=False) if df_list else pd.DataFrame()"
   ]
  },
  {
   "cell_type": "code",
   "execution_count": null,
   "metadata": {},
   "outputs": [],
   "source": [
    "price_df = download_historical_prices(ids, start_date=\"2020-01-01\")\n",
    "price_df.head()"
   ]
  },
  {
   "cell_type": "code",
   "execution_count": 16,
   "metadata": {},
   "outputs": [],
   "source": [
    "price_df.to_csv(\"data/stock_prices.csv\", index=True)"
   ]
  },
  {
   "cell_type": "code",
   "execution_count": 4,
   "metadata": {},
   "outputs": [],
   "source": [
    "price_df = pd.read_csv(\"data/stock_prices.csv\")"
   ]
  },
  {
   "cell_type": "code",
   "execution_count": 5,
   "metadata": {},
   "outputs": [],
   "source": [
    "price_df['date'] = pd.to_datetime(price_df['date'])"
   ]
  },
  {
   "cell_type": "code",
   "execution_count": 81,
   "metadata": {},
   "outputs": [
    {
     "data": {
      "text/plain": [
       "Index(['date', 'open', 'high', 'low', 'close', 'volume', 'split_ratio',\n",
       "       'dividend', 'Stock'],\n",
       "      dtype='object')"
      ]
     },
     "execution_count": 81,
     "metadata": {},
     "output_type": "execute_result"
    }
   ],
   "source": [
    "price_df.columns"
   ]
  },
  {
   "cell_type": "code",
   "execution_count": 82,
   "metadata": {},
   "outputs": [
    {
     "data": {
      "text/plain": [
       "841"
      ]
     },
     "execution_count": 82,
     "metadata": {},
     "output_type": "execute_result"
    }
   ],
   "source": [
    "price_df = price_df[price_df['close'].notna()]\n",
    "len(price_df['Stock'].unique())"
   ]
  },
  {
   "cell_type": "code",
   "execution_count": 6,
   "metadata": {},
   "outputs": [],
   "source": [
    "def find_closest_price(stock, date): #Find the closest date for the period ending date\n",
    "    stock_prices = price_df[price_df['Stock'] == stock]  # Filter stock prices\n",
    "    if stock_prices.empty:\n",
    "        return (pd.NaT, None, None)  # Return None if no prices found\n",
    "    closest_row = stock_prices.iloc[(stock_prices['date'] - date).abs().argsort()[:1]]\n",
    "    return tuple(closest_row[['date', 'close', 'split_ratio']].values[0]) if not closest_row.empty else (pd.NaT, None, None)\n",
    "\n",
    "matched_prices = ratio_df.apply(lambda row: find_closest_price(row['Stock'], row['period_ending']), axis=1)\n",
    "\n",
    "ratio_df[['closest_date', 'close_price', 'split_ratio']] = pd.DataFrame(matched_prices.tolist(), index=ratio_df.index)"
   ]
  },
  {
   "cell_type": "code",
   "execution_count": 7,
   "metadata": {},
   "outputs": [
    {
     "data": {
      "text/plain": [
       "841"
      ]
     },
     "execution_count": 7,
     "metadata": {},
     "output_type": "execute_result"
    }
   ],
   "source": [
    "filtered_df = ratio_df[ratio_df['close_price'].notna()]\n",
    "len(filtered_df['Stock'].unique())"
   ]
  },
  {
   "cell_type": "code",
   "execution_count": 8,
   "metadata": {},
   "outputs": [],
   "source": [
    "df_2 = ratio_df.copy()"
   ]
  },
  {
   "cell_type": "code",
   "execution_count": 9,
   "metadata": {},
   "outputs": [
    {
     "name": "stderr",
     "output_type": "stream",
     "text": [
      "/var/folders/n8/s5gn3hhs4z90dmrnk47r93fh0000gn/T/ipykernel_11200/4039875581.py:1: FutureWarning: A value is trying to be set on a copy of a DataFrame or Series through chained assignment using an inplace method.\n",
      "The behavior will change in pandas 3.0. This inplace method will never work because the intermediate object on which we are setting values always behaves as a copy.\n",
      "\n",
      "For example, when doing 'df[col].method(value, inplace=True)', try using 'df.method({col: value}, inplace=True)' or df[col] = df[col].method(value) instead, to perform the operation inplace on the original object.\n",
      "\n",
      "\n",
      "  price_df['split_ratio'].fillna(1, inplace=True)\n"
     ]
    }
   ],
   "source": [
    "price_df['split_ratio'].fillna(1, inplace=True)"
   ]
  },
  {
   "cell_type": "code",
   "execution_count": 10,
   "metadata": {},
   "outputs": [],
   "source": [
    "import numpy as np\n",
    "\n",
    "def adjust_price(stock, date, price):\n",
    "    if pd.isna(price) or pd.isna(date):  # If price or date is missing, return NaN\n",
    "        return np.nan\n",
    "    \n",
    "    stock_splits = price_df[(price_df['Stock'] == stock) & (price_df['date'] >= date)]\n",
    "    \n",
    "    if stock_splits.empty:\n",
    "        return price  # If no splits found, return the original price\n",
    "    \n",
    "    split_factor = stock_splits.sort_values(by=\"date\")['split_ratio'].replace(0, 1).cumprod().iloc[-1] if not stock_splits.empty else 1\n",
    "    \n",
    "    return price / split_factor if split_factor != 0 else price\n",
    "\n",
    "ratio_df['adjusted_price'] = ratio_df.apply(lambda row: adjust_price(row['Stock'], row['closest_date'], row['close_price']), axis=1)"
   ]
  },
  {
   "cell_type": "code",
   "execution_count": 11,
   "metadata": {},
   "outputs": [
    {
     "data": {
      "text/plain": [
       "841"
      ]
     },
     "execution_count": 11,
     "metadata": {},
     "output_type": "execute_result"
    }
   ],
   "source": [
    "filtered_df = ratio_df[ratio_df['adjusted_price'].notna()]\n",
    "len(filtered_df['Stock'].unique())"
   ]
  },
  {
   "cell_type": "code",
   "execution_count": 12,
   "metadata": {},
   "outputs": [],
   "source": [
    "df_r = ratio_df.copy()"
   ]
  },
  {
   "cell_type": "code",
   "execution_count": 13,
   "metadata": {},
   "outputs": [],
   "source": [
    "ratio_df = ratio_df.sort_values(by=['Stock', 'period_ending'])"
   ]
  },
  {
   "cell_type": "code",
   "execution_count": 14,
   "metadata": {},
   "outputs": [],
   "source": [
    "ratio_df['prev_adjusted_price'] = ratio_df.groupby('Stock')['adjusted_price'].shift(1)\n",
    "ratio_df['return'] = (ratio_df['adjusted_price'] - ratio_df['prev_adjusted_price']) / ratio_df['prev_adjusted_price']"
   ]
  },
  {
   "cell_type": "code",
   "execution_count": 15,
   "metadata": {},
   "outputs": [],
   "source": [
    "new_column_order = ['Stock', 'return', 'adjusted_price', 'close_price'] + [col for col in ratio_df.columns if col not in ['Stock', 'return', 'adjusted_price', 'close_price']]\n",
    "\n",
    "ratio_df = ratio_df[new_column_order]"
   ]
  },
  {
   "cell_type": "code",
   "execution_count": 16,
   "metadata": {},
   "outputs": [],
   "source": [
    "ratio_df.drop(columns=['prev_adjusted_price', 'closest_date','split_ratio'], inplace=True)"
   ]
  },
  {
   "cell_type": "code",
   "execution_count": 17,
   "metadata": {},
   "outputs": [
    {
     "data": {
      "text/html": [
       "<div>\n",
       "<style scoped>\n",
       "    .dataframe tbody tr th:only-of-type {\n",
       "        vertical-align: middle;\n",
       "    }\n",
       "\n",
       "    .dataframe tbody tr th {\n",
       "        vertical-align: top;\n",
       "    }\n",
       "\n",
       "    .dataframe thead th {\n",
       "        text-align: right;\n",
       "    }\n",
       "</style>\n",
       "<table border=\"1\" class=\"dataframe\">\n",
       "  <thead>\n",
       "    <tr style=\"text-align: right;\">\n",
       "      <th></th>\n",
       "      <th>Stock</th>\n",
       "      <th>return</th>\n",
       "      <th>adjusted_price</th>\n",
       "      <th>close_price</th>\n",
       "      <th>period_ending</th>\n",
       "      <th>fiscal_period</th>\n",
       "      <th>fiscal_year</th>\n",
       "      <th>current_ratio</th>\n",
       "      <th>quick_ratio</th>\n",
       "      <th>cash_ratio</th>\n",
       "      <th>...</th>\n",
       "      <th>price_earnings_ratio</th>\n",
       "      <th>price_to_free_cash_flows_ratio</th>\n",
       "      <th>price_to_operating_cash_flows_ratio</th>\n",
       "      <th>price_cash_flow_ratio</th>\n",
       "      <th>price_earnings_to_growth_ratio</th>\n",
       "      <th>price_sales_ratio</th>\n",
       "      <th>dividend_yield</th>\n",
       "      <th>enterprise_value_multiple</th>\n",
       "      <th>price_fair_value</th>\n",
       "      <th>interest_coverage</th>\n",
       "    </tr>\n",
       "  </thead>\n",
       "  <tbody>\n",
       "    <tr>\n",
       "      <th>1846</th>\n",
       "      <td>A</td>\n",
       "      <td>NaN</td>\n",
       "      <td>102.089996</td>\n",
       "      <td>102.089996</td>\n",
       "      <td>2020-10-31</td>\n",
       "      <td>FY</td>\n",
       "      <td>2020</td>\n",
       "      <td>2.327880</td>\n",
       "      <td>1.837082</td>\n",
       "      <td>0.982277</td>\n",
       "      <td>...</td>\n",
       "      <td>43.874562</td>\n",
       "      <td>39.333928</td>\n",
       "      <td>34.251694</td>\n",
       "      <td>34.251694</td>\n",
       "      <td>-1.385299</td>\n",
       "      <td>5.908562</td>\n",
       "      <td>0.007037</td>\n",
       "      <td>23.993947</td>\n",
       "      <td>6.473591</td>\n",
       "      <td>10.846154</td>\n",
       "    </tr>\n",
       "    <tr>\n",
       "      <th>1845</th>\n",
       "      <td>A</td>\n",
       "      <td>0.538447</td>\n",
       "      <td>157.059998</td>\n",
       "      <td>157.059998</td>\n",
       "      <td>2021-10-31</td>\n",
       "      <td>FY</td>\n",
       "      <td>2021</td>\n",
       "      <td>2.224239</td>\n",
       "      <td>1.738290</td>\n",
       "      <td>0.868852</td>\n",
       "      <td>...</td>\n",
       "      <td>39.459702</td>\n",
       "      <td>36.841235</td>\n",
       "      <td>32.152350</td>\n",
       "      <td>32.152350</td>\n",
       "      <td>0.557219</td>\n",
       "      <td>7.555980</td>\n",
       "      <td>0.004943</td>\n",
       "      <td>28.400719</td>\n",
       "      <td>8.859944</td>\n",
       "      <td>16.629630</td>\n",
       "    </tr>\n",
       "    <tr>\n",
       "      <th>1844</th>\n",
       "      <td>A</td>\n",
       "      <td>-0.119126</td>\n",
       "      <td>138.350006</td>\n",
       "      <td>138.350006</td>\n",
       "      <td>2022-10-31</td>\n",
       "      <td>FY</td>\n",
       "      <td>2022</td>\n",
       "      <td>2.030091</td>\n",
       "      <td>1.472327</td>\n",
       "      <td>0.565825</td>\n",
       "      <td>...</td>\n",
       "      <td>32.987759</td>\n",
       "      <td>40.515818</td>\n",
       "      <td>31.529459</td>\n",
       "      <td>31.529459</td>\n",
       "      <td>6.251966</td>\n",
       "      <td>6.040691</td>\n",
       "      <td>0.006044</td>\n",
       "      <td>21.606143</td>\n",
       "      <td>7.797672</td>\n",
       "      <td>19.261905</td>\n",
       "    </tr>\n",
       "    <tr>\n",
       "      <th>1843</th>\n",
       "      <td>A</td>\n",
       "      <td>-0.252837</td>\n",
       "      <td>103.370003</td>\n",
       "      <td>103.370003</td>\n",
       "      <td>2023-10-31</td>\n",
       "      <td>FY</td>\n",
       "      <td>2023</td>\n",
       "      <td>2.611354</td>\n",
       "      <td>1.968185</td>\n",
       "      <td>0.991890</td>\n",
       "      <td>...</td>\n",
       "      <td>24.508694</td>\n",
       "      <td>20.617897</td>\n",
       "      <td>17.150553</td>\n",
       "      <td>17.150553</td>\n",
       "      <td>34.230475</td>\n",
       "      <td>4.447648</td>\n",
       "      <td>0.008720</td>\n",
       "      <td>18.517780</td>\n",
       "      <td>5.199449</td>\n",
       "      <td>14.210526</td>\n",
       "    </tr>\n",
       "    <tr>\n",
       "      <th>1842</th>\n",
       "      <td>A</td>\n",
       "      <td>0.260617</td>\n",
       "      <td>130.309998</td>\n",
       "      <td>130.309998</td>\n",
       "      <td>2024-10-31</td>\n",
       "      <td>FY</td>\n",
       "      <td>2024</td>\n",
       "      <td>2.089182</td>\n",
       "      <td>1.576253</td>\n",
       "      <td>0.701319</td>\n",
       "      <td>...</td>\n",
       "      <td>29.317223</td>\n",
       "      <td>27.523598</td>\n",
       "      <td>21.581896</td>\n",
       "      <td>21.581896</td>\n",
       "      <td>5.623576</td>\n",
       "      <td>5.804900</td>\n",
       "      <td>0.007251</td>\n",
       "      <td>26.781519</td>\n",
       "      <td>6.407240</td>\n",
       "      <td>15.500000</td>\n",
       "    </tr>\n",
       "  </tbody>\n",
       "</table>\n",
       "<p>5 rows × 61 columns</p>\n",
       "</div>"
      ],
      "text/plain": [
       "     Stock    return  adjusted_price  close_price period_ending fiscal_period  \\\n",
       "1846     A       NaN      102.089996   102.089996    2020-10-31            FY   \n",
       "1845     A  0.538447      157.059998   157.059998    2021-10-31            FY   \n",
       "1844     A -0.119126      138.350006   138.350006    2022-10-31            FY   \n",
       "1843     A -0.252837      103.370003   103.370003    2023-10-31            FY   \n",
       "1842     A  0.260617      130.309998   130.309998    2024-10-31            FY   \n",
       "\n",
       "      fiscal_year  current_ratio  quick_ratio  cash_ratio  ...  \\\n",
       "1846         2020       2.327880     1.837082    0.982277  ...   \n",
       "1845         2021       2.224239     1.738290    0.868852  ...   \n",
       "1844         2022       2.030091     1.472327    0.565825  ...   \n",
       "1843         2023       2.611354     1.968185    0.991890  ...   \n",
       "1842         2024       2.089182     1.576253    0.701319  ...   \n",
       "\n",
       "      price_earnings_ratio  price_to_free_cash_flows_ratio  \\\n",
       "1846             43.874562                       39.333928   \n",
       "1845             39.459702                       36.841235   \n",
       "1844             32.987759                       40.515818   \n",
       "1843             24.508694                       20.617897   \n",
       "1842             29.317223                       27.523598   \n",
       "\n",
       "      price_to_operating_cash_flows_ratio  price_cash_flow_ratio  \\\n",
       "1846                            34.251694              34.251694   \n",
       "1845                            32.152350              32.152350   \n",
       "1844                            31.529459              31.529459   \n",
       "1843                            17.150553              17.150553   \n",
       "1842                            21.581896              21.581896   \n",
       "\n",
       "      price_earnings_to_growth_ratio  price_sales_ratio  dividend_yield  \\\n",
       "1846                       -1.385299           5.908562        0.007037   \n",
       "1845                        0.557219           7.555980        0.004943   \n",
       "1844                        6.251966           6.040691        0.006044   \n",
       "1843                       34.230475           4.447648        0.008720   \n",
       "1842                        5.623576           5.804900        0.007251   \n",
       "\n",
       "      enterprise_value_multiple  price_fair_value  interest_coverage  \n",
       "1846                  23.993947          6.473591          10.846154  \n",
       "1845                  28.400719          8.859944          16.629630  \n",
       "1844                  21.606143          7.797672          19.261905  \n",
       "1843                  18.517780          5.199449          14.210526  \n",
       "1842                  26.781519          6.407240          15.500000  \n",
       "\n",
       "[5 rows x 61 columns]"
      ]
     },
     "execution_count": 17,
     "metadata": {},
     "output_type": "execute_result"
    }
   ],
   "source": [
    "ratio_df.head()"
   ]
  },
  {
   "cell_type": "code",
   "execution_count": 18,
   "metadata": {},
   "outputs": [],
   "source": [
    "stocks = ratio_df[ratio_df['return'].notna()]"
   ]
  },
  {
   "cell_type": "code",
   "execution_count": 19,
   "metadata": {},
   "outputs": [
    {
     "data": {
      "text/plain": [
       "841"
      ]
     },
     "execution_count": 19,
     "metadata": {},
     "output_type": "execute_result"
    }
   ],
   "source": [
    "len(stocks['Stock'].unique())"
   ]
  },
  {
   "cell_type": "code",
   "execution_count": 20,
   "metadata": {},
   "outputs": [
    {
     "data": {
      "text/plain": [
       "(3357, 61)"
      ]
     },
     "execution_count": 20,
     "metadata": {},
     "output_type": "execute_result"
    }
   ],
   "source": [
    "stocks.shape"
   ]
  },
  {
   "cell_type": "code",
   "execution_count": 21,
   "metadata": {},
   "outputs": [],
   "source": [
    "stocks.to_csv(\"data/stocks.csv\", index=False)"
   ]
  },
  {
   "cell_type": "markdown",
   "metadata": {},
   "source": [
    "## Download Company Profile Data"
   ]
  },
  {
   "cell_type": "code",
   "execution_count": 31,
   "metadata": {},
   "outputs": [],
   "source": [
    "stocks = pd.read_csv(\"data/stocks.csv\")"
   ]
  },
  {
   "cell_type": "code",
   "execution_count": 32,
   "metadata": {},
   "outputs": [],
   "source": [
    "companies = stocks['Stock'].unique().tolist()"
   ]
  },
  {
   "cell_type": "code",
   "execution_count": 5,
   "metadata": {},
   "outputs": [],
   "source": [
    "from pandas.errors import EmptyDataError\n",
    "\n",
    "def get_company_profile(companies):\n",
    "\n",
    "    data = []\n",
    "\n",
    "    for company in companies:\n",
    "        try:\n",
    "            profile = obb.equity.profile(symbol=company, provider='fmp').to_df() \n",
    "            profile['Stock'] = company\n",
    "            data.append(profile)\n",
    "\n",
    "        except EmptyDataError:\n",
    "            print(f\"No data found for the symbol {company}\")\n",
    "\n",
    "        except Exception as e:\n",
    "            print(f\"Error with {company}: {e}\")\n",
    "\n",
    "    return pd.concat(data, ignore_index=True) if data else pd.DataFrame()"
   ]
  },
  {
   "cell_type": "code",
   "execution_count": 6,
   "metadata": {},
   "outputs": [],
   "source": [
    "df_profile = pd.read_csv(\"data/companies_profile.csv\")"
   ]
  },
  {
   "cell_type": "code",
   "execution_count": 7,
   "metadata": {},
   "outputs": [],
   "source": [
    "downloaded_companies = df_profile['Stock'].unique().tolist()"
   ]
  },
  {
   "cell_type": "code",
   "execution_count": 8,
   "metadata": {},
   "outputs": [],
   "source": [
    "def get_remaining_companies(companies, downloaded_companies, limit=250):\n",
    "    return [company for company in companies if company not in downloaded_companies][:limit]"
   ]
  },
  {
   "cell_type": "code",
   "execution_count": 9,
   "metadata": {},
   "outputs": [],
   "source": [
    "companies = get_remaining_companies(companies, downloaded_companies)"
   ]
  },
  {
   "cell_type": "code",
   "execution_count": 19,
   "metadata": {},
   "outputs": [
    {
     "data": {
      "text/plain": [
       "['TSN', 'TT', 'TTD', 'TTE', 'TTWO']"
      ]
     },
     "execution_count": 19,
     "metadata": {},
     "output_type": "execute_result"
    }
   ],
   "source": [
    "companies[:5]"
   ]
  },
  {
   "cell_type": "code",
   "execution_count": 11,
   "metadata": {},
   "outputs": [],
   "source": [
    "df = get_company_profile(companies)"
   ]
  },
  {
   "cell_type": "code",
   "execution_count": 12,
   "metadata": {},
   "outputs": [],
   "source": [
    "df_profile = pd.concat([df_profile, df], ignore_index=True)"
   ]
  },
  {
   "cell_type": "code",
   "execution_count": 13,
   "metadata": {},
   "outputs": [
    {
     "data": {
      "text/html": [
       "<div>\n",
       "<style scoped>\n",
       "    .dataframe tbody tr th:only-of-type {\n",
       "        vertical-align: middle;\n",
       "    }\n",
       "\n",
       "    .dataframe tbody tr th {\n",
       "        vertical-align: top;\n",
       "    }\n",
       "\n",
       "    .dataframe thead th {\n",
       "        text-align: right;\n",
       "    }\n",
       "</style>\n",
       "<table border=\"1\" class=\"dataframe\">\n",
       "  <thead>\n",
       "    <tr style=\"text-align: right;\">\n",
       "      <th></th>\n",
       "      <th>symbol</th>\n",
       "      <th>name</th>\n",
       "      <th>cik</th>\n",
       "      <th>cusip</th>\n",
       "      <th>isin</th>\n",
       "      <th>stock_exchange</th>\n",
       "      <th>long_description</th>\n",
       "      <th>ceo</th>\n",
       "      <th>company_url</th>\n",
       "      <th>business_phone_no</th>\n",
       "      <th>...</th>\n",
       "      <th>image</th>\n",
       "      <th>currency</th>\n",
       "      <th>market_cap</th>\n",
       "      <th>last_price</th>\n",
       "      <th>year_high</th>\n",
       "      <th>year_low</th>\n",
       "      <th>volume_avg</th>\n",
       "      <th>annualized_dividend_amount</th>\n",
       "      <th>beta</th>\n",
       "      <th>Stock</th>\n",
       "    </tr>\n",
       "  </thead>\n",
       "  <tbody>\n",
       "    <tr>\n",
       "      <th>836</th>\n",
       "      <td>ZG</td>\n",
       "      <td>Zillow Group, Inc. Class A</td>\n",
       "      <td>0001617640</td>\n",
       "      <td>98954M101</td>\n",
       "      <td>US98954M1018</td>\n",
       "      <td>NASDAQ Global Select</td>\n",
       "      <td>Zillow Group, Inc., a digital real estate comp...</td>\n",
       "      <td>Mr. Jeremy  Wacksman</td>\n",
       "      <td>https://www.zillowgroup.com</td>\n",
       "      <td>206 470 7000</td>\n",
       "      <td>...</td>\n",
       "      <td>https://images.financialmodelingprep.com/symbo...</td>\n",
       "      <td>USD</td>\n",
       "      <td>16589768563</td>\n",
       "      <td>67.20</td>\n",
       "      <td>86.58</td>\n",
       "      <td>38.06</td>\n",
       "      <td>609268</td>\n",
       "      <td>0.000</td>\n",
       "      <td>2.337</td>\n",
       "      <td>ZG</td>\n",
       "    </tr>\n",
       "    <tr>\n",
       "      <th>837</th>\n",
       "      <td>ZM</td>\n",
       "      <td>Zoom Video Communications, Inc.</td>\n",
       "      <td>0001585521</td>\n",
       "      <td>98980L101</td>\n",
       "      <td>US98980L1017</td>\n",
       "      <td>NASDAQ Global Select</td>\n",
       "      <td>Zoom Video Communications, Inc. provides unifi...</td>\n",
       "      <td>Mr. Eric S. Yuan</td>\n",
       "      <td>https://www.zoom.us</td>\n",
       "      <td>888 799 9666</td>\n",
       "      <td>...</td>\n",
       "      <td>https://images.financialmodelingprep.com/symbo...</td>\n",
       "      <td>USD</td>\n",
       "      <td>22843702008</td>\n",
       "      <td>74.84</td>\n",
       "      <td>92.80</td>\n",
       "      <td>55.06</td>\n",
       "      <td>2606025</td>\n",
       "      <td>0.000</td>\n",
       "      <td>0.253</td>\n",
       "      <td>ZM</td>\n",
       "    </tr>\n",
       "    <tr>\n",
       "      <th>838</th>\n",
       "      <td>ZS</td>\n",
       "      <td>Zscaler, Inc.</td>\n",
       "      <td>0001713683</td>\n",
       "      <td>98980G102</td>\n",
       "      <td>US98980G1022</td>\n",
       "      <td>NASDAQ Global Select</td>\n",
       "      <td>Zscaler, Inc. operates as a cloud security com...</td>\n",
       "      <td>Mr. Jagtar Singh Chaudhry</td>\n",
       "      <td>https://www.zscaler.com</td>\n",
       "      <td>408 533 0288</td>\n",
       "      <td>...</td>\n",
       "      <td>https://images.financialmodelingprep.com/symbo...</td>\n",
       "      <td>USD</td>\n",
       "      <td>31783354460</td>\n",
       "      <td>207.14</td>\n",
       "      <td>217.84</td>\n",
       "      <td>153.45</td>\n",
       "      <td>1813683</td>\n",
       "      <td>0.000</td>\n",
       "      <td>0.878</td>\n",
       "      <td>ZS</td>\n",
       "    </tr>\n",
       "    <tr>\n",
       "      <th>839</th>\n",
       "      <td>ZTO</td>\n",
       "      <td>ZTO Express (Cayman) Inc.</td>\n",
       "      <td>0001677250</td>\n",
       "      <td>98980A105</td>\n",
       "      <td>US98980A1051</td>\n",
       "      <td>New York Stock Exchange</td>\n",
       "      <td>ZTO Express (Cayman) Inc. provides express del...</td>\n",
       "      <td>Mr. Meisong  Lai</td>\n",
       "      <td>https://www.zto.com</td>\n",
       "      <td>86 21 5980 4508</td>\n",
       "      <td>...</td>\n",
       "      <td>https://images.financialmodelingprep.com/symbo...</td>\n",
       "      <td>USD</td>\n",
       "      <td>11736798261</td>\n",
       "      <td>19.82</td>\n",
       "      <td>27.50</td>\n",
       "      <td>17.89</td>\n",
       "      <td>2643056</td>\n",
       "      <td>0.970</td>\n",
       "      <td>-0.126</td>\n",
       "      <td>ZTO</td>\n",
       "    </tr>\n",
       "    <tr>\n",
       "      <th>840</th>\n",
       "      <td>ZTS</td>\n",
       "      <td>Zoetis Inc.</td>\n",
       "      <td>0001555280</td>\n",
       "      <td>98978V103</td>\n",
       "      <td>US98978V1035</td>\n",
       "      <td>New York Stock Exchange</td>\n",
       "      <td>Zoetis Inc. discovers, develops, manufactures,...</td>\n",
       "      <td>Ms. Kristin C. Peck</td>\n",
       "      <td>https://www.zoetis.com</td>\n",
       "      <td>973 822 7000</td>\n",
       "      <td>...</td>\n",
       "      <td>https://images.financialmodelingprep.com/symbo...</td>\n",
       "      <td>USD</td>\n",
       "      <td>73039353120</td>\n",
       "      <td>163.11</td>\n",
       "      <td>200.33</td>\n",
       "      <td>144.80</td>\n",
       "      <td>2984611</td>\n",
       "      <td>1.796</td>\n",
       "      <td>0.941</td>\n",
       "      <td>ZTS</td>\n",
       "    </tr>\n",
       "  </tbody>\n",
       "</table>\n",
       "<p>5 rows × 33 columns</p>\n",
       "</div>"
      ],
      "text/plain": [
       "    symbol                             name         cik      cusip  \\\n",
       "836     ZG       Zillow Group, Inc. Class A  0001617640  98954M101   \n",
       "837     ZM  Zoom Video Communications, Inc.  0001585521  98980L101   \n",
       "838     ZS                    Zscaler, Inc.  0001713683  98980G102   \n",
       "839    ZTO        ZTO Express (Cayman) Inc.  0001677250  98980A105   \n",
       "840    ZTS                      Zoetis Inc.  0001555280  98978V103   \n",
       "\n",
       "             isin           stock_exchange  \\\n",
       "836  US98954M1018     NASDAQ Global Select   \n",
       "837  US98980L1017     NASDAQ Global Select   \n",
       "838  US98980G1022     NASDAQ Global Select   \n",
       "839  US98980A1051  New York Stock Exchange   \n",
       "840  US98978V1035  New York Stock Exchange   \n",
       "\n",
       "                                      long_description  \\\n",
       "836  Zillow Group, Inc., a digital real estate comp...   \n",
       "837  Zoom Video Communications, Inc. provides unifi...   \n",
       "838  Zscaler, Inc. operates as a cloud security com...   \n",
       "839  ZTO Express (Cayman) Inc. provides express del...   \n",
       "840  Zoetis Inc. discovers, develops, manufactures,...   \n",
       "\n",
       "                           ceo                  company_url business_phone_no  \\\n",
       "836       Mr. Jeremy  Wacksman  https://www.zillowgroup.com      206 470 7000   \n",
       "837           Mr. Eric S. Yuan          https://www.zoom.us      888 799 9666   \n",
       "838  Mr. Jagtar Singh Chaudhry      https://www.zscaler.com      408 533 0288   \n",
       "839           Mr. Meisong  Lai          https://www.zto.com   86 21 5980 4508   \n",
       "840        Ms. Kristin C. Peck       https://www.zoetis.com      973 822 7000   \n",
       "\n",
       "     ...                                              image currency  \\\n",
       "836  ...  https://images.financialmodelingprep.com/symbo...      USD   \n",
       "837  ...  https://images.financialmodelingprep.com/symbo...      USD   \n",
       "838  ...  https://images.financialmodelingprep.com/symbo...      USD   \n",
       "839  ...  https://images.financialmodelingprep.com/symbo...      USD   \n",
       "840  ...  https://images.financialmodelingprep.com/symbo...      USD   \n",
       "\n",
       "      market_cap last_price year_high  year_low volume_avg  \\\n",
       "836  16589768563      67.20     86.58     38.06     609268   \n",
       "837  22843702008      74.84     92.80     55.06    2606025   \n",
       "838  31783354460     207.14    217.84    153.45    1813683   \n",
       "839  11736798261      19.82     27.50     17.89    2643056   \n",
       "840  73039353120     163.11    200.33    144.80    2984611   \n",
       "\n",
       "    annualized_dividend_amount   beta  Stock  \n",
       "836                      0.000  2.337     ZG  \n",
       "837                      0.000  0.253     ZM  \n",
       "838                      0.000  0.878     ZS  \n",
       "839                      0.970 -0.126    ZTO  \n",
       "840                      1.796  0.941    ZTS  \n",
       "\n",
       "[5 rows x 33 columns]"
      ]
     },
     "execution_count": 13,
     "metadata": {},
     "output_type": "execute_result"
    }
   ],
   "source": [
    "df_profile.tail()"
   ]
  },
  {
   "cell_type": "code",
   "execution_count": 14,
   "metadata": {},
   "outputs": [
    {
     "data": {
      "text/plain": [
       "841"
      ]
     },
     "execution_count": 14,
     "metadata": {},
     "output_type": "execute_result"
    }
   ],
   "source": [
    "len(df_profile['symbol'].unique())"
   ]
  },
  {
   "cell_type": "code",
   "execution_count": 15,
   "metadata": {},
   "outputs": [
    {
     "data": {
      "text/plain": [
       "841"
      ]
     },
     "execution_count": 15,
     "metadata": {},
     "output_type": "execute_result"
    }
   ],
   "source": [
    "len(stocks['Stock'].unique())"
   ]
  },
  {
   "cell_type": "code",
   "execution_count": 16,
   "metadata": {},
   "outputs": [],
   "source": [
    "df_profile.to_csv(\"data/companies_profile.csv\", index=False)"
   ]
  },
  {
   "cell_type": "code",
   "execution_count": 38,
   "metadata": {},
   "outputs": [
    {
     "data": {
      "text/plain": [
       "<bound method Series.unique of 0                  Healthcare\n",
       "1                  Technology\n",
       "2                  Healthcare\n",
       "3          Consumer Defensive\n",
       "4           Consumer Cyclical\n",
       "                ...          \n",
       "836    Communication Services\n",
       "837                Technology\n",
       "838                Technology\n",
       "839               Industrials\n",
       "840                Healthcare\n",
       "Name: sector, Length: 841, dtype: object>"
      ]
     },
     "execution_count": 38,
     "metadata": {},
     "output_type": "execute_result"
    }
   ],
   "source": [
    "df_profile['sector'].unique"
   ]
  }
 ],
 "metadata": {
  "kernelspec": {
   "display_name": "PracticasIUMA",
   "language": "python",
   "name": "python3"
  },
  "language_info": {
   "codemirror_mode": {
    "name": "ipython",
    "version": 3
   },
   "file_extension": ".py",
   "mimetype": "text/x-python",
   "name": "python",
   "nbconvert_exporter": "python",
   "pygments_lexer": "ipython3",
   "version": "3.12.4"
  }
 },
 "nbformat": 4,
 "nbformat_minor": 2
}
