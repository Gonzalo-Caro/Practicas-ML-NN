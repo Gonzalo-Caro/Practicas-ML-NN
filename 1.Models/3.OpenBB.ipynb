{
 "cells": [
  {
   "cell_type": "markdown",
   "metadata": {},
   "source": [
    "# OpenBB Data Base"
   ]
  },
  {
   "cell_type": "code",
   "execution_count": 1,
   "metadata": {},
   "outputs": [],
   "source": [
    "from openbb import obb\n",
    "import pandas as pd\n",
    "\n",
    "ratios = [\n",
    "    \"gross_margin\", \"operating_margin\", \"net_margin\", \"roe\", \"roce\",  # Profitability\n",
    "    \"asset_turnover\", \"inventory_turnover\", \"receivables_turnover\", \"operating_cycle\",  # Eficciency\n",
    "    \"current_ratio\", \"quick_ratio\", \"debt_to_equity\", \"interest_coverage\",  # Liquidity and Solvency\n",
    "    \"price_to_fcf\"  # Valuation\n",
    "]\n"
   ]
  },
  {
   "cell_type": "code",
   "execution_count": 2,
   "metadata": {},
   "outputs": [
    {
     "data": {
      "text/plain": [
       "9708"
      ]
     },
     "execution_count": 2,
     "metadata": {},
     "output_type": "execute_result"
    }
   ],
   "source": [
    "all_companies = obb.equity.search(\"\", provider=\"sec\")\n",
    "len(all_companies.results)"
   ]
  },
  {
   "cell_type": "code",
   "execution_count": 3,
   "metadata": {},
   "outputs": [],
   "source": [
    "sec_df = all_companies.to_df()"
   ]
  },
  {
   "cell_type": "code",
   "execution_count": 4,
   "metadata": {},
   "outputs": [
    {
     "data": {
      "text/html": [
       "<div>\n",
       "<style scoped>\n",
       "    .dataframe tbody tr th:only-of-type {\n",
       "        vertical-align: middle;\n",
       "    }\n",
       "\n",
       "    .dataframe tbody tr th {\n",
       "        vertical-align: top;\n",
       "    }\n",
       "\n",
       "    .dataframe thead th {\n",
       "        text-align: right;\n",
       "    }\n",
       "</style>\n",
       "<table border=\"1\" class=\"dataframe\">\n",
       "  <thead>\n",
       "    <tr style=\"text-align: right;\">\n",
       "      <th></th>\n",
       "      <th>symbol</th>\n",
       "      <th>name</th>\n",
       "      <th>cik</th>\n",
       "    </tr>\n",
       "  </thead>\n",
       "  <tbody>\n",
       "    <tr>\n",
       "      <th>0</th>\n",
       "      <td>AAPL</td>\n",
       "      <td>Apple Inc.</td>\n",
       "      <td>320193</td>\n",
       "    </tr>\n",
       "    <tr>\n",
       "      <th>1</th>\n",
       "      <td>MSFT</td>\n",
       "      <td>MICROSOFT CORP</td>\n",
       "      <td>789019</td>\n",
       "    </tr>\n",
       "    <tr>\n",
       "      <th>2</th>\n",
       "      <td>NVDA</td>\n",
       "      <td>NVIDIA CORP</td>\n",
       "      <td>1045810</td>\n",
       "    </tr>\n",
       "    <tr>\n",
       "      <th>3</th>\n",
       "      <td>AMZN</td>\n",
       "      <td>AMAZON COM INC</td>\n",
       "      <td>1018724</td>\n",
       "    </tr>\n",
       "    <tr>\n",
       "      <th>4</th>\n",
       "      <td>GOOGL</td>\n",
       "      <td>Alphabet Inc.</td>\n",
       "      <td>1652044</td>\n",
       "    </tr>\n",
       "  </tbody>\n",
       "</table>\n",
       "</div>"
      ],
      "text/plain": [
       "  symbol            name      cik\n",
       "0   AAPL      Apple Inc.   320193\n",
       "1   MSFT  MICROSOFT CORP   789019\n",
       "2   NVDA     NVIDIA CORP  1045810\n",
       "3   AMZN  AMAZON COM INC  1018724\n",
       "4  GOOGL   Alphabet Inc.  1652044"
      ]
     },
     "execution_count": 4,
     "metadata": {},
     "output_type": "execute_result"
    }
   ],
   "source": [
    "sec_df.head()"
   ]
  },
  {
   "cell_type": "code",
   "execution_count": 45,
   "metadata": {},
   "outputs": [
    {
     "data": {
      "text/plain": [
       "503"
      ]
     },
     "execution_count": 45,
     "metadata": {},
     "output_type": "execute_result"
    }
   ],
   "source": [
    "url = \"https://en.wikipedia.org/wiki/List_of_S%26P_500_companies\"\n",
    "\n",
    "\n",
    "tables = pd.read_html(url)\n",
    "sp500_table = tables[0]\n",
    "sp500_tickers = sp500_table['Symbol'].tolist()\n",
    "\n",
    "len(sp500_tickers)"
   ]
  },
  {
   "cell_type": "code",
   "execution_count": 49,
   "metadata": {},
   "outputs": [],
   "source": [
    "stocks = sec_df['symbol'].tolist()\n",
    "stocks = stocks[350:600]"
   ]
  },
  {
   "cell_type": "code",
   "execution_count": 39,
   "metadata": {},
   "outputs": [],
   "source": [
    "from dotenv import load_dotenv\n",
    "import os\n",
    "\n",
    "key = os.getenv(\"PAT_OBB\")\n",
    "obb.account.login(pat=key)"
   ]
  },
  {
   "cell_type": "code",
   "execution_count": 50,
   "metadata": {},
   "outputs": [
    {
     "name": "stdout",
     "output_type": "stream",
     "text": [
      "Error with BRK.B: \n",
      "[Empty] -> No data found for the symbol BRK.B.\n",
      "Error with BF.B: \n",
      "[Empty] -> No data found for the symbol BF.B.\n",
      "Error with PODD: \n",
      "[Error] -> Unauthorized FMP request -> Limit Reach . Please upgrade your plan or visit our documentation for more details at https://site.financialmodelingprep.com/\n"
     ]
    }
   ],
   "source": [
    "from pandas.errors import EmptyDataError\n",
    "\n",
    "ratio_list = []\n",
    "\n",
    "for stock in stocks:\n",
    "    try:\n",
    "        df = obb.equity.fundamental.ratios(stock, provider=\"fmp\", limit=10).to_df() # limit=10 for 10 year historical data, however, the free plan only allows 5 years\n",
    "        df['Stock'] = stock\n",
    "        ratio_list.append(df)\n",
    "\n",
    "    except EmptyDataError:\n",
    "        print(f\"No data found for the symbol {stock}\")\n",
    "\n",
    "    except Exception as e:\n",
    "        print(f\"Error with {stock}: {e}\")\n",
    "\n",
    "\n",
    "if ratio_list:\n",
    "    ratio_df = pd.concat(ratio_list, ignore_index=True)\n",
    "else:\n",
    "    ratio_df = pd.DataFrame()\n"
   ]
  },
  {
   "cell_type": "code",
   "execution_count": 51,
   "metadata": {},
   "outputs": [
    {
     "data": {
      "text/html": [
       "<div>\n",
       "<style scoped>\n",
       "    .dataframe tbody tr th:only-of-type {\n",
       "        vertical-align: middle;\n",
       "    }\n",
       "\n",
       "    .dataframe tbody tr th {\n",
       "        vertical-align: top;\n",
       "    }\n",
       "\n",
       "    .dataframe thead th {\n",
       "        text-align: right;\n",
       "    }\n",
       "</style>\n",
       "<table border=\"1\" class=\"dataframe\">\n",
       "  <thead>\n",
       "    <tr style=\"text-align: right;\">\n",
       "      <th></th>\n",
       "      <th>period_ending</th>\n",
       "      <th>fiscal_period</th>\n",
       "      <th>fiscal_year</th>\n",
       "      <th>current_ratio</th>\n",
       "      <th>quick_ratio</th>\n",
       "      <th>cash_ratio</th>\n",
       "      <th>days_of_sales_outstanding</th>\n",
       "      <th>days_of_inventory_outstanding</th>\n",
       "      <th>operating_cycle</th>\n",
       "      <th>days_of_payables_outstanding</th>\n",
       "      <th>...</th>\n",
       "      <th>price_to_free_cash_flows_ratio</th>\n",
       "      <th>price_to_operating_cash_flows_ratio</th>\n",
       "      <th>price_cash_flow_ratio</th>\n",
       "      <th>price_earnings_to_growth_ratio</th>\n",
       "      <th>price_sales_ratio</th>\n",
       "      <th>dividend_yield</th>\n",
       "      <th>enterprise_value_multiple</th>\n",
       "      <th>price_fair_value</th>\n",
       "      <th>interest_coverage</th>\n",
       "      <th>Stock</th>\n",
       "    </tr>\n",
       "  </thead>\n",
       "  <tbody>\n",
       "    <tr>\n",
       "      <th>0</th>\n",
       "      <td>2024-12-31</td>\n",
       "      <td>FY</td>\n",
       "      <td>2024</td>\n",
       "      <td>1.411158</td>\n",
       "      <td>1.082623</td>\n",
       "      <td>0.497512</td>\n",
       "      <td>48.597355</td>\n",
       "      <td>93.429086</td>\n",
       "      <td>142.026441</td>\n",
       "      <td>67.204264</td>\n",
       "      <td>...</td>\n",
       "      <td>111.446351</td>\n",
       "      <td>39.088935</td>\n",
       "      <td>39.088935</td>\n",
       "      <td>-0.106482</td>\n",
       "      <td>2.893297</td>\n",
       "      <td>0.027875</td>\n",
       "      <td>16.416792</td>\n",
       "      <td>18.506708</td>\n",
       "      <td>NaN</td>\n",
       "      <td>MMM</td>\n",
       "    </tr>\n",
       "    <tr>\n",
       "      <th>1</th>\n",
       "      <td>2023-12-31</td>\n",
       "      <td>FY</td>\n",
       "      <td>2023</td>\n",
       "      <td>1.070733</td>\n",
       "      <td>0.755508</td>\n",
       "      <td>0.387854</td>\n",
       "      <td>53.050702</td>\n",
       "      <td>95.255182</td>\n",
       "      <td>148.305884</td>\n",
       "      <td>64.102668</td>\n",
       "      <td>...</td>\n",
       "      <td>9.995352</td>\n",
       "      <td>7.578811</td>\n",
       "      <td>7.578811</td>\n",
       "      <td>0.032353</td>\n",
       "      <td>1.549110</td>\n",
       "      <td>0.065401</td>\n",
       "      <td>-9.122197</td>\n",
       "      <td>10.531820</td>\n",
       "      <td>-9.690021</td>\n",
       "      <td>MMM</td>\n",
       "    </tr>\n",
       "    <tr>\n",
       "      <th>2</th>\n",
       "      <td>2022-12-31</td>\n",
       "      <td>FY</td>\n",
       "      <td>2022</td>\n",
       "      <td>1.542371</td>\n",
       "      <td>0.978263</td>\n",
       "      <td>0.383808</td>\n",
       "      <td>48.326857</td>\n",
       "      <td>101.954035</td>\n",
       "      <td>150.280892</td>\n",
       "      <td>60.409474</td>\n",
       "      <td>...</td>\n",
       "      <td>14.770213</td>\n",
       "      <td>10.149734</td>\n",
       "      <td>10.149734</td>\n",
       "      <td>-50.244370</td>\n",
       "      <td>1.657868</td>\n",
       "      <td>0.059369</td>\n",
       "      <td>7.945437</td>\n",
       "      <td>3.842056</td>\n",
       "      <td>14.153680</td>\n",
       "      <td>MMM</td>\n",
       "    </tr>\n",
       "    <tr>\n",
       "      <th>3</th>\n",
       "      <td>2021-12-31</td>\n",
       "      <td>FY</td>\n",
       "      <td>2021</td>\n",
       "      <td>1.704815</td>\n",
       "      <td>1.153071</td>\n",
       "      <td>0.505147</td>\n",
       "      <td>48.109178</td>\n",
       "      <td>96.808992</td>\n",
       "      <td>144.918170</td>\n",
       "      <td>58.143655</td>\n",
       "      <td>...</td>\n",
       "      <td>14.696170</td>\n",
       "      <td>11.535724</td>\n",
       "      <td>11.535724</td>\n",
       "      <td>1.711831</td>\n",
       "      <td>2.432111</td>\n",
       "      <td>0.039773</td>\n",
       "      <td>10.343493</td>\n",
       "      <td>5.688119</td>\n",
       "      <td>11.176230</td>\n",
       "      <td>MMM</td>\n",
       "    </tr>\n",
       "    <tr>\n",
       "      <th>4</th>\n",
       "      <td>2020-12-31</td>\n",
       "      <td>FY</td>\n",
       "      <td>2020</td>\n",
       "      <td>1.885003</td>\n",
       "      <td>1.351661</td>\n",
       "      <td>0.583040</td>\n",
       "      <td>53.359589</td>\n",
       "      <td>93.178862</td>\n",
       "      <td>146.538450</td>\n",
       "      <td>56.294188</td>\n",
       "      <td>...</td>\n",
       "      <td>12.766253</td>\n",
       "      <td>10.404347</td>\n",
       "      <td>10.404347</td>\n",
       "      <td>0.812508</td>\n",
       "      <td>2.622746</td>\n",
       "      <td>0.040137</td>\n",
       "      <td>10.673665</td>\n",
       "      <td>6.527760</td>\n",
       "      <td>8.453686</td>\n",
       "      <td>MMM</td>\n",
       "    </tr>\n",
       "    <tr>\n",
       "      <th>...</th>\n",
       "      <td>...</td>\n",
       "      <td>...</td>\n",
       "      <td>...</td>\n",
       "      <td>...</td>\n",
       "      <td>...</td>\n",
       "      <td>...</td>\n",
       "      <td>...</td>\n",
       "      <td>...</td>\n",
       "      <td>...</td>\n",
       "      <td>...</td>\n",
       "      <td>...</td>\n",
       "      <td>...</td>\n",
       "      <td>...</td>\n",
       "      <td>...</td>\n",
       "      <td>...</td>\n",
       "      <td>...</td>\n",
       "      <td>...</td>\n",
       "      <td>...</td>\n",
       "      <td>...</td>\n",
       "      <td>...</td>\n",
       "      <td>...</td>\n",
       "    </tr>\n",
       "    <tr>\n",
       "      <th>1229</th>\n",
       "      <td>2024-12-31</td>\n",
       "      <td>FY</td>\n",
       "      <td>2024</td>\n",
       "      <td>2.289021</td>\n",
       "      <td>1.709000</td>\n",
       "      <td>0.847325</td>\n",
       "      <td>67.369869</td>\n",
       "      <td>94.729397</td>\n",
       "      <td>162.099266</td>\n",
       "      <td>75.747601</td>\n",
       "      <td>...</td>\n",
       "      <td>29.249410</td>\n",
       "      <td>26.126988</td>\n",
       "      <td>26.126988</td>\n",
       "      <td>5.221784</td>\n",
       "      <td>5.043755</td>\n",
       "      <td>0.000885</td>\n",
       "      <td>19.121151</td>\n",
       "      <td>3.584985</td>\n",
       "      <td>6.098030</td>\n",
       "      <td>IR</td>\n",
       "    </tr>\n",
       "    <tr>\n",
       "      <th>1230</th>\n",
       "      <td>2023-12-31</td>\n",
       "      <td>FY</td>\n",
       "      <td>2023</td>\n",
       "      <td>2.216604</td>\n",
       "      <td>1.668746</td>\n",
       "      <td>0.873146</td>\n",
       "      <td>65.514318</td>\n",
       "      <td>91.489897</td>\n",
       "      <td>157.004215</td>\n",
       "      <td>73.221162</td>\n",
       "      <td>...</td>\n",
       "      <td>24.612604</td>\n",
       "      <td>22.729223</td>\n",
       "      <td>22.729223</td>\n",
       "      <td>1.435874</td>\n",
       "      <td>4.553051</td>\n",
       "      <td>0.001035</td>\n",
       "      <td>19.720039</td>\n",
       "      <td>3.199905</td>\n",
       "      <td>7.430121</td>\n",
       "      <td>IR</td>\n",
       "    </tr>\n",
       "    <tr>\n",
       "      <th>1231</th>\n",
       "      <td>2022-12-31</td>\n",
       "      <td>FY</td>\n",
       "      <td>2022</td>\n",
       "      <td>2.369952</td>\n",
       "      <td>1.757407</td>\n",
       "      <td>0.963560</td>\n",
       "      <td>69.220628</td>\n",
       "      <td>104.233436</td>\n",
       "      <td>173.454064</td>\n",
       "      <td>79.156014</td>\n",
       "      <td>...</td>\n",
       "      <td>27.656948</td>\n",
       "      <td>24.615745</td>\n",
       "      <td>24.615745</td>\n",
       "      <td>1.108984</td>\n",
       "      <td>3.579420</td>\n",
       "      <td>0.001530</td>\n",
       "      <td>17.006954</td>\n",
       "      <td>2.302891</td>\n",
       "      <td>7.919574</td>\n",
       "      <td>IR</td>\n",
       "    </tr>\n",
       "    <tr>\n",
       "      <th>1232</th>\n",
       "      <td>2021-12-31</td>\n",
       "      <td>FY</td>\n",
       "      <td>2021</td>\n",
       "      <td>2.803638</td>\n",
       "      <td>2.221639</td>\n",
       "      <td>1.437351</td>\n",
       "      <td>67.199557</td>\n",
       "      <td>98.543886</td>\n",
       "      <td>165.743443</td>\n",
       "      <td>77.351528</td>\n",
       "      <td>...</td>\n",
       "      <td>46.542757</td>\n",
       "      <td>41.695656</td>\n",
       "      <td>41.695656</td>\n",
       "      <td>-0.031519</td>\n",
       "      <td>4.980917</td>\n",
       "      <td>0.000320</td>\n",
       "      <td>25.844592</td>\n",
       "      <td>2.851044</td>\n",
       "      <td>6.450399</td>\n",
       "      <td>IR</td>\n",
       "    </tr>\n",
       "    <tr>\n",
       "      <th>1233</th>\n",
       "      <td>2020-12-31</td>\n",
       "      <td>FY</td>\n",
       "      <td>2020</td>\n",
       "      <td>2.577139</td>\n",
       "      <td>1.947484</td>\n",
       "      <td>1.168357</td>\n",
       "      <td>68.551790</td>\n",
       "      <td>104.469182</td>\n",
       "      <td>173.020972</td>\n",
       "      <td>59.386678</td>\n",
       "      <td>...</td>\n",
       "      <td>20.148299</td>\n",
       "      <td>19.075104</td>\n",
       "      <td>19.075104</td>\n",
       "      <td>4.856127</td>\n",
       "      <td>3.551865</td>\n",
       "      <td>NaN</td>\n",
       "      <td>28.517933</td>\n",
       "      <td>1.912384</td>\n",
       "      <td>0.771377</td>\n",
       "      <td>IR</td>\n",
       "    </tr>\n",
       "  </tbody>\n",
       "</table>\n",
       "<p>1234 rows × 58 columns</p>\n",
       "</div>"
      ],
      "text/plain": [
       "     period_ending fiscal_period  fiscal_year  current_ratio  quick_ratio  \\\n",
       "0       2024-12-31            FY         2024       1.411158     1.082623   \n",
       "1       2023-12-31            FY         2023       1.070733     0.755508   \n",
       "2       2022-12-31            FY         2022       1.542371     0.978263   \n",
       "3       2021-12-31            FY         2021       1.704815     1.153071   \n",
       "4       2020-12-31            FY         2020       1.885003     1.351661   \n",
       "...            ...           ...          ...            ...          ...   \n",
       "1229    2024-12-31            FY         2024       2.289021     1.709000   \n",
       "1230    2023-12-31            FY         2023       2.216604     1.668746   \n",
       "1231    2022-12-31            FY         2022       2.369952     1.757407   \n",
       "1232    2021-12-31            FY         2021       2.803638     2.221639   \n",
       "1233    2020-12-31            FY         2020       2.577139     1.947484   \n",
       "\n",
       "      cash_ratio  days_of_sales_outstanding  days_of_inventory_outstanding  \\\n",
       "0       0.497512                  48.597355                      93.429086   \n",
       "1       0.387854                  53.050702                      95.255182   \n",
       "2       0.383808                  48.326857                     101.954035   \n",
       "3       0.505147                  48.109178                      96.808992   \n",
       "4       0.583040                  53.359589                      93.178862   \n",
       "...          ...                        ...                            ...   \n",
       "1229    0.847325                  67.369869                      94.729397   \n",
       "1230    0.873146                  65.514318                      91.489897   \n",
       "1231    0.963560                  69.220628                     104.233436   \n",
       "1232    1.437351                  67.199557                      98.543886   \n",
       "1233    1.168357                  68.551790                     104.469182   \n",
       "\n",
       "      operating_cycle  days_of_payables_outstanding  ...  \\\n",
       "0          142.026441                     67.204264  ...   \n",
       "1          148.305884                     64.102668  ...   \n",
       "2          150.280892                     60.409474  ...   \n",
       "3          144.918170                     58.143655  ...   \n",
       "4          146.538450                     56.294188  ...   \n",
       "...               ...                           ...  ...   \n",
       "1229       162.099266                     75.747601  ...   \n",
       "1230       157.004215                     73.221162  ...   \n",
       "1231       173.454064                     79.156014  ...   \n",
       "1232       165.743443                     77.351528  ...   \n",
       "1233       173.020972                     59.386678  ...   \n",
       "\n",
       "      price_to_free_cash_flows_ratio  price_to_operating_cash_flows_ratio  \\\n",
       "0                         111.446351                            39.088935   \n",
       "1                           9.995352                             7.578811   \n",
       "2                          14.770213                            10.149734   \n",
       "3                          14.696170                            11.535724   \n",
       "4                          12.766253                            10.404347   \n",
       "...                              ...                                  ...   \n",
       "1229                       29.249410                            26.126988   \n",
       "1230                       24.612604                            22.729223   \n",
       "1231                       27.656948                            24.615745   \n",
       "1232                       46.542757                            41.695656   \n",
       "1233                       20.148299                            19.075104   \n",
       "\n",
       "      price_cash_flow_ratio  price_earnings_to_growth_ratio  \\\n",
       "0                 39.088935                       -0.106482   \n",
       "1                  7.578811                        0.032353   \n",
       "2                 10.149734                      -50.244370   \n",
       "3                 11.535724                        1.711831   \n",
       "4                 10.404347                        0.812508   \n",
       "...                     ...                             ...   \n",
       "1229              26.126988                        5.221784   \n",
       "1230              22.729223                        1.435874   \n",
       "1231              24.615745                        1.108984   \n",
       "1232              41.695656                       -0.031519   \n",
       "1233              19.075104                        4.856127   \n",
       "\n",
       "      price_sales_ratio  dividend_yield  enterprise_value_multiple  \\\n",
       "0              2.893297        0.027875                  16.416792   \n",
       "1              1.549110        0.065401                  -9.122197   \n",
       "2              1.657868        0.059369                   7.945437   \n",
       "3              2.432111        0.039773                  10.343493   \n",
       "4              2.622746        0.040137                  10.673665   \n",
       "...                 ...             ...                        ...   \n",
       "1229           5.043755        0.000885                  19.121151   \n",
       "1230           4.553051        0.001035                  19.720039   \n",
       "1231           3.579420        0.001530                  17.006954   \n",
       "1232           4.980917        0.000320                  25.844592   \n",
       "1233           3.551865             NaN                  28.517933   \n",
       "\n",
       "      price_fair_value  interest_coverage  Stock  \n",
       "0            18.506708                NaN    MMM  \n",
       "1            10.531820          -9.690021    MMM  \n",
       "2             3.842056          14.153680    MMM  \n",
       "3             5.688119          11.176230    MMM  \n",
       "4             6.527760           8.453686    MMM  \n",
       "...                ...                ...    ...  \n",
       "1229          3.584985           6.098030     IR  \n",
       "1230          3.199905           7.430121     IR  \n",
       "1231          2.302891           7.919574     IR  \n",
       "1232          2.851044           6.450399     IR  \n",
       "1233          1.912384           0.771377     IR  \n",
       "\n",
       "[1234 rows x 58 columns]"
      ]
     },
     "execution_count": 51,
     "metadata": {},
     "output_type": "execute_result"
    }
   ],
   "source": [
    "ratio_df = pd.concat(ratio_list, ignore_index=True)\n",
    "\n",
    "ratio_df"
   ]
  },
  {
   "cell_type": "code",
   "execution_count": 52,
   "metadata": {},
   "outputs": [
    {
     "data": {
      "text/plain": [
       "array(['MMM', 'AOS', 'ABT', 'ABBV', 'ACN', 'ADBE', 'AMD', 'AES', 'AFL',\n",
       "       'A', 'APD', 'ABNB', 'AKAM', 'ALB', 'ARE', 'ALGN', 'ALLE', 'LNT',\n",
       "       'ALL', 'GOOGL', 'GOOG', 'MO', 'AMZN', 'AMCR', 'AEE', 'AEP', 'AXP',\n",
       "       'AIG', 'AMT', 'AWK', 'AMP', 'AME', 'AMGN', 'APH', 'ADI', 'ANSS',\n",
       "       'AON', 'APA', 'APO', 'AAPL', 'AMAT', 'APTV', 'ACGL', 'ADM', 'ANET',\n",
       "       'AJG', 'AIZ', 'T', 'ATO', 'ADSK', 'ADP', 'AZO', 'AVB', 'AVY',\n",
       "       'AXON', 'BKR', 'BALL', 'BAC', 'BAX', 'BDX', 'BBY', 'TECH', 'BIIB',\n",
       "       'BLK', 'BX', 'BK', 'BA', 'BKNG', 'BWA', 'BSX', 'BMY', 'AVGO', 'BR',\n",
       "       'BRO', 'BLDR', 'BG', 'BXP', 'CHRW', 'CDNS', 'CZR', 'CPT', 'CPB',\n",
       "       'COF', 'CAH', 'KMX', 'CCL', 'CARR', 'CAT', 'CBOE', 'CBRE', 'CDW',\n",
       "       'CE', 'COR', 'CNC', 'CNP', 'CF', 'CRL', 'SCHW', 'CHTR', 'CVX',\n",
       "       'CMG', 'CB', 'CHD', 'CI', 'CINF', 'CTAS', 'CSCO', 'C', 'CFG',\n",
       "       'CLX', 'CME', 'CMS', 'KO', 'CTSH', 'CL', 'CMCSA', 'CAG', 'COP',\n",
       "       'ED', 'STZ', 'CEG', 'COO', 'CPRT', 'GLW', 'CPAY', 'CTVA', 'CSGP',\n",
       "       'COST', 'CTRA', 'CRWD', 'CCI', 'CSX', 'CMI', 'CVS', 'DHR', 'DRI',\n",
       "       'DVA', 'DAY', 'DECK', 'DE', 'DELL', 'DAL', 'DVN', 'DXCM', 'FANG',\n",
       "       'DLR', 'DFS', 'DG', 'DLTR', 'D', 'DPZ', 'DOV', 'DOW', 'DHI', 'DTE',\n",
       "       'DUK', 'DD', 'EMN', 'ETN', 'EBAY', 'ECL', 'EIX', 'EW', 'EA', 'ELV',\n",
       "       'EMR', 'ENPH', 'ETR', 'EOG', 'EPAM', 'EQT', 'EFX', 'EQIX', 'EQR',\n",
       "       'ERIE', 'ESS', 'EL', 'EG', 'EVRG', 'ES', 'EXC', 'EXPE', 'EXPD',\n",
       "       'EXR', 'XOM', 'FFIV', 'FDS', 'FICO', 'FAST', 'FRT', 'FDX', 'FIS',\n",
       "       'FITB', 'FSLR', 'FE', 'FI', 'FMC', 'F', 'FTNT', 'FTV', 'FOXA',\n",
       "       'FOX', 'BEN', 'FCX', 'GRMN', 'IT', 'GE', 'GEHC', 'GEV', 'GEN',\n",
       "       'GNRC', 'GD', 'GIS', 'GM', 'GPC', 'GILD', 'GPN', 'GL', 'GDDY',\n",
       "       'GS', 'HAL', 'HIG', 'HAS', 'HCA', 'DOC', 'HSIC', 'HSY', 'HES',\n",
       "       'HPE', 'HLT', 'HOLX', 'HD', 'HON', 'HRL', 'HST', 'HWM', 'HPQ',\n",
       "       'HUBB', 'HUM', 'HBAN', 'HII', 'IBM', 'IEX', 'IDXX', 'ITW', 'INCY',\n",
       "       'IR'], dtype=object)"
      ]
     },
     "execution_count": 52,
     "metadata": {},
     "output_type": "execute_result"
    }
   ],
   "source": [
    "ratio_df['Stock'].unique()"
   ]
  },
  {
   "cell_type": "code",
   "execution_count": 53,
   "metadata": {},
   "outputs": [
    {
     "data": {
      "text/plain": [
       "Index(['period_ending', 'fiscal_period', 'fiscal_year', 'current_ratio',\n",
       "       'quick_ratio', 'cash_ratio', 'days_of_sales_outstanding',\n",
       "       'days_of_inventory_outstanding', 'operating_cycle',\n",
       "       'days_of_payables_outstanding', 'cash_conversion_cycle',\n",
       "       'gross_profit_margin', 'operating_profit_margin',\n",
       "       'pretax_profit_margin', 'net_profit_margin', 'effective_tax_rate',\n",
       "       'return_on_assets', 'return_on_equity', 'return_on_capital_employed',\n",
       "       'net_income_per_ebt', 'ebt_per_ebit', 'ebit_per_revenue', 'debt_ratio',\n",
       "       'debt_equity_ratio', 'long_term_debt_to_capitalization',\n",
       "       'total_debt_to_capitalization', 'cash_flow_to_debt_ratio',\n",
       "       'company_equity_multiplier', 'receivables_turnover',\n",
       "       'payables_turnover', 'inventory_turnover', 'fixed_asset_turnover',\n",
       "       'asset_turnover', 'operating_cash_flow_per_share',\n",
       "       'free_cash_flow_per_share', 'cash_per_share', 'payout_ratio',\n",
       "       'operating_cash_flow_sales_ratio',\n",
       "       'free_cash_flow_operating_cash_flow_ratio', 'cash_flow_coverage_ratios',\n",
       "       'short_term_coverage_ratios', 'capital_expenditure_coverage_ratio',\n",
       "       'dividend_paid_and_capex_coverage_ratio', 'dividend_payout_ratio',\n",
       "       'price_book_value_ratio', 'price_to_book_ratio', 'price_to_sales_ratio',\n",
       "       'price_earnings_ratio', 'price_to_free_cash_flows_ratio',\n",
       "       'price_to_operating_cash_flows_ratio', 'price_cash_flow_ratio',\n",
       "       'price_earnings_to_growth_ratio', 'price_sales_ratio', 'dividend_yield',\n",
       "       'enterprise_value_multiple', 'price_fair_value', 'interest_coverage',\n",
       "       'Stock'],\n",
       "      dtype='object')"
      ]
     },
     "execution_count": 53,
     "metadata": {},
     "output_type": "execute_result"
    }
   ],
   "source": [
    "ratio_df.columns"
   ]
  },
  {
   "cell_type": "code",
   "execution_count": 54,
   "metadata": {},
   "outputs": [],
   "source": [
    "df = pd.read_csv(\"data/stocks_ratios.csv\")\n",
    "\n",
    "ratio_df = ratio_df[df.columns]"
   ]
  },
  {
   "cell_type": "code",
   "execution_count": 55,
   "metadata": {},
   "outputs": [
    {
     "data": {
      "text/html": [
       "<div>\n",
       "<style scoped>\n",
       "    .dataframe tbody tr th:only-of-type {\n",
       "        vertical-align: middle;\n",
       "    }\n",
       "\n",
       "    .dataframe tbody tr th {\n",
       "        vertical-align: top;\n",
       "    }\n",
       "\n",
       "    .dataframe thead th {\n",
       "        text-align: right;\n",
       "    }\n",
       "</style>\n",
       "<table border=\"1\" class=\"dataframe\">\n",
       "  <thead>\n",
       "    <tr style=\"text-align: right;\">\n",
       "      <th></th>\n",
       "      <th>period_ending</th>\n",
       "      <th>fiscal_period</th>\n",
       "      <th>fiscal_year</th>\n",
       "      <th>current_ratio</th>\n",
       "      <th>quick_ratio</th>\n",
       "      <th>cash_ratio</th>\n",
       "      <th>days_of_sales_outstanding</th>\n",
       "      <th>days_of_inventory_outstanding</th>\n",
       "      <th>operating_cycle</th>\n",
       "      <th>days_of_payables_outstanding</th>\n",
       "      <th>...</th>\n",
       "      <th>price_to_free_cash_flows_ratio</th>\n",
       "      <th>price_to_operating_cash_flows_ratio</th>\n",
       "      <th>price_cash_flow_ratio</th>\n",
       "      <th>price_earnings_to_growth_ratio</th>\n",
       "      <th>price_sales_ratio</th>\n",
       "      <th>dividend_yield</th>\n",
       "      <th>enterprise_value_multiple</th>\n",
       "      <th>price_fair_value</th>\n",
       "      <th>interest_coverage</th>\n",
       "      <th>Stock</th>\n",
       "    </tr>\n",
       "  </thead>\n",
       "  <tbody>\n",
       "    <tr>\n",
       "      <th>5</th>\n",
       "      <td>2024-12-31</td>\n",
       "      <td>FY</td>\n",
       "      <td>2024</td>\n",
       "      <td>1.552497</td>\n",
       "      <td>0.959429</td>\n",
       "      <td>0.267053</td>\n",
       "      <td>51.756371</td>\n",
       "      <td>82.225445</td>\n",
       "      <td>133.981816</td>\n",
       "      <td>90.971846</td>\n",
       "      <td>...</td>\n",
       "      <td>21.162273</td>\n",
       "      <td>17.233903</td>\n",
       "      <td>17.233903</td>\n",
       "      <td>-8.714159</td>\n",
       "      <td>2.626093</td>\n",
       "      <td>0.018989</td>\n",
       "      <td>12.719370</td>\n",
       "      <td>5.323432</td>\n",
       "      <td>106.985075</td>\n",
       "      <td>AOS</td>\n",
       "    </tr>\n",
       "    <tr>\n",
       "      <th>6</th>\n",
       "      <td>2023-12-31</td>\n",
       "      <td>FY</td>\n",
       "      <td>2023</td>\n",
       "      <td>1.587115</td>\n",
       "      <td>1.060933</td>\n",
       "      <td>0.359568</td>\n",
       "      <td>56.462832</td>\n",
       "      <td>76.668497</td>\n",
       "      <td>133.131329</td>\n",
       "      <td>92.544764</td>\n",
       "      <td>...</td>\n",
       "      <td>20.682782</td>\n",
       "      <td>18.442636</td>\n",
       "      <td>18.442636</td>\n",
       "      <td>0.154152</td>\n",
       "      <td>3.208601</td>\n",
       "      <td>0.014844</td>\n",
       "      <td>14.781985</td>\n",
       "      <td>6.702504</td>\n",
       "      <td>63.116667</td>\n",
       "      <td>AOS</td>\n",
       "    </tr>\n",
       "    <tr>\n",
       "      <th>7</th>\n",
       "      <td>2022-12-31</td>\n",
       "      <td>FY</td>\n",
       "      <td>2022</td>\n",
       "      <td>1.748769</td>\n",
       "      <td>1.195997</td>\n",
       "      <td>0.418754</td>\n",
       "      <td>56.511362</td>\n",
       "      <td>77.748628</td>\n",
       "      <td>134.259990</td>\n",
       "      <td>94.219775</td>\n",
       "      <td>...</td>\n",
       "      <td>27.592555</td>\n",
       "      <td>22.636611</td>\n",
       "      <td>22.636611</td>\n",
       "      <td>-0.749344</td>\n",
       "      <td>2.360204</td>\n",
       "      <td>0.020000</td>\n",
       "      <td>28.502159</td>\n",
       "      <td>5.069502</td>\n",
       "      <td>24.797872</td>\n",
       "      <td>AOS</td>\n",
       "    </tr>\n",
       "    <tr>\n",
       "      <th>8</th>\n",
       "      <td>2021-12-31</td>\n",
       "      <td>FY</td>\n",
       "      <td>2021</td>\n",
       "      <td>1.566500</td>\n",
       "      <td>1.166339</td>\n",
       "      <td>0.396228</td>\n",
       "      <td>65.431631</td>\n",
       "      <td>73.344031</td>\n",
       "      <td>138.775662</td>\n",
       "      <td>122.196364</td>\n",
       "      <td>...</td>\n",
       "      <td>24.254420</td>\n",
       "      <td>21.413199</td>\n",
       "      <td>21.413199</td>\n",
       "      <td>0.662768</td>\n",
       "      <td>3.879172</td>\n",
       "      <td>0.012391</td>\n",
       "      <td>19.078414</td>\n",
       "      <td>7.492633</td>\n",
       "      <td>146.488372</td>\n",
       "      <td>AOS</td>\n",
       "    </tr>\n",
       "    <tr>\n",
       "      <th>9</th>\n",
       "      <td>2020-12-31</td>\n",
       "      <td>FY</td>\n",
       "      <td>2020</td>\n",
       "      <td>1.825567</td>\n",
       "      <td>1.486968</td>\n",
       "      <td>0.646621</td>\n",
       "      <td>73.748834</td>\n",
       "      <td>61.292877</td>\n",
       "      <td>135.041711</td>\n",
       "      <td>121.564546</td>\n",
       "      <td>...</td>\n",
       "      <td>17.524455</td>\n",
       "      <td>15.753615</td>\n",
       "      <td>15.753615</td>\n",
       "      <td>-5.751070</td>\n",
       "      <td>3.058442</td>\n",
       "      <td>0.017922</td>\n",
       "      <td>15.868989</td>\n",
       "      <td>4.790947</td>\n",
       "      <td>62.863014</td>\n",
       "      <td>AOS</td>\n",
       "    </tr>\n",
       "  </tbody>\n",
       "</table>\n",
       "<p>5 rows × 58 columns</p>\n",
       "</div>"
      ],
      "text/plain": [
       "  period_ending fiscal_period  fiscal_year  current_ratio  quick_ratio  \\\n",
       "5    2024-12-31            FY         2024       1.552497     0.959429   \n",
       "6    2023-12-31            FY         2023       1.587115     1.060933   \n",
       "7    2022-12-31            FY         2022       1.748769     1.195997   \n",
       "8    2021-12-31            FY         2021       1.566500     1.166339   \n",
       "9    2020-12-31            FY         2020       1.825567     1.486968   \n",
       "\n",
       "   cash_ratio  days_of_sales_outstanding  days_of_inventory_outstanding  \\\n",
       "5    0.267053                  51.756371                      82.225445   \n",
       "6    0.359568                  56.462832                      76.668497   \n",
       "7    0.418754                  56.511362                      77.748628   \n",
       "8    0.396228                  65.431631                      73.344031   \n",
       "9    0.646621                  73.748834                      61.292877   \n",
       "\n",
       "   operating_cycle  days_of_payables_outstanding  ...  \\\n",
       "5       133.981816                     90.971846  ...   \n",
       "6       133.131329                     92.544764  ...   \n",
       "7       134.259990                     94.219775  ...   \n",
       "8       138.775662                    122.196364  ...   \n",
       "9       135.041711                    121.564546  ...   \n",
       "\n",
       "   price_to_free_cash_flows_ratio  price_to_operating_cash_flows_ratio  \\\n",
       "5                       21.162273                            17.233903   \n",
       "6                       20.682782                            18.442636   \n",
       "7                       27.592555                            22.636611   \n",
       "8                       24.254420                            21.413199   \n",
       "9                       17.524455                            15.753615   \n",
       "\n",
       "   price_cash_flow_ratio  price_earnings_to_growth_ratio  price_sales_ratio  \\\n",
       "5              17.233903                       -8.714159           2.626093   \n",
       "6              18.442636                        0.154152           3.208601   \n",
       "7              22.636611                       -0.749344           2.360204   \n",
       "8              21.413199                        0.662768           3.879172   \n",
       "9              15.753615                       -5.751070           3.058442   \n",
       "\n",
       "   dividend_yield  enterprise_value_multiple  price_fair_value  \\\n",
       "5        0.018989                  12.719370          5.323432   \n",
       "6        0.014844                  14.781985          6.702504   \n",
       "7        0.020000                  28.502159          5.069502   \n",
       "8        0.012391                  19.078414          7.492633   \n",
       "9        0.017922                  15.868989          4.790947   \n",
       "\n",
       "   interest_coverage  Stock  \n",
       "5         106.985075    AOS  \n",
       "6          63.116667    AOS  \n",
       "7          24.797872    AOS  \n",
       "8         146.488372    AOS  \n",
       "9          62.863014    AOS  \n",
       "\n",
       "[5 rows x 58 columns]"
      ]
     },
     "execution_count": 55,
     "metadata": {},
     "output_type": "execute_result"
    }
   ],
   "source": [
    "ratio_df = ratio_df[~ratio_df['Stock'].isin(df['Stock'])]\n",
    "\n",
    "ratio_df.head()"
   ]
  },
  {
   "cell_type": "code",
   "execution_count": 56,
   "metadata": {},
   "outputs": [
    {
     "name": "stdout",
     "output_type": "stream",
     "text": [
      "867\n"
     ]
    }
   ],
   "source": [
    "print(len(df['Stock'].unique()) + len(ratio_df['Stock'].unique()))"
   ]
  },
  {
   "cell_type": "code",
   "execution_count": 57,
   "metadata": {},
   "outputs": [],
   "source": [
    "updated_df = pd.concat([df, ratio_df], ignore_index=True)"
   ]
  },
  {
   "cell_type": "code",
   "execution_count": 58,
   "metadata": {},
   "outputs": [
    {
     "data": {
      "text/plain": [
       "867"
      ]
     },
     "execution_count": 58,
     "metadata": {},
     "output_type": "execute_result"
    }
   ],
   "source": [
    "len(updated_df['Stock'].unique())"
   ]
  },
  {
   "cell_type": "code",
   "execution_count": 59,
   "metadata": {},
   "outputs": [
    {
     "data": {
      "text/plain": [
       "(4328, 58)"
      ]
     },
     "execution_count": 59,
     "metadata": {},
     "output_type": "execute_result"
    }
   ],
   "source": [
    "updated_df.shape"
   ]
  },
  {
   "cell_type": "code",
   "execution_count": 60,
   "metadata": {},
   "outputs": [],
   "source": [
    "updated_df.to_csv(\"data/stocks_ratios.csv\", index=False)"
   ]
  },
  {
   "cell_type": "code",
   "execution_count": 89,
   "metadata": {},
   "outputs": [],
   "source": [
    "ratio_df = pd.read_csv(\"data/stocks_ratios.csv\")"
   ]
  },
  {
   "cell_type": "code",
   "execution_count": 90,
   "metadata": {},
   "outputs": [],
   "source": [
    "ratio_df['period_ending'] = pd.to_datetime(ratio_df['period_ending'])"
   ]
  },
  {
   "cell_type": "code",
   "execution_count": 91,
   "metadata": {},
   "outputs": [
    {
     "data": {
      "text/plain": [
       "867"
      ]
     },
     "execution_count": 91,
     "metadata": {},
     "output_type": "execute_result"
    }
   ],
   "source": [
    "len(ratio_df['Stock'].unique())"
   ]
  },
  {
   "cell_type": "code",
   "execution_count": 68,
   "metadata": {},
   "outputs": [],
   "source": [
    "ids = ratio_df['Stock'].unique().tolist()"
   ]
  },
  {
   "cell_type": "code",
   "execution_count": 70,
   "metadata": {},
   "outputs": [],
   "source": [
    "from pandas.errors import EmptyDataError\n",
    "\n",
    "df_list = []\n",
    "\n",
    "for id in ids:\n",
    "    try:\n",
    "        price = obb.equity.price.historical(symbol=id, start_date=\"2020-01-01\", provider=\"yfinance\").to_df()\n",
    "        price['Stock'] = id\n",
    "        df_list.append(price)\n",
    "    \n",
    "    except EmptyDataError:\n",
    "        print(f\"No data found for the symbol {id}\")\n",
    "\n",
    "    except Exception as e:\n",
    "        print(f\"Error with {id}: {e}\")\n",
    "\n",
    "\n",
    "if df_list:\n",
    "    price_df = pd.concat(df_list, ignore_index=False)\n",
    "else:\n",
    "    price_df = pd.DataFrame()"
   ]
  },
  {
   "cell_type": "code",
   "execution_count": 77,
   "metadata": {},
   "outputs": [],
   "source": [
    "price = price_df.copy()"
   ]
  },
  {
   "cell_type": "code",
   "execution_count": 16,
   "metadata": {},
   "outputs": [],
   "source": [
    "price_df.to_csv(\"data/stock_prices.csv\", index=True)"
   ]
  },
  {
   "cell_type": "code",
   "execution_count": 78,
   "metadata": {},
   "outputs": [],
   "source": [
    "price_df = pd.read_csv(\"data/stock_prices.csv\")"
   ]
  },
  {
   "cell_type": "code",
   "execution_count": 79,
   "metadata": {},
   "outputs": [
    {
     "data": {
      "text/html": [
       "<div>\n",
       "<style scoped>\n",
       "    .dataframe tbody tr th:only-of-type {\n",
       "        vertical-align: middle;\n",
       "    }\n",
       "\n",
       "    .dataframe tbody tr th {\n",
       "        vertical-align: top;\n",
       "    }\n",
       "\n",
       "    .dataframe thead th {\n",
       "        text-align: right;\n",
       "    }\n",
       "</style>\n",
       "<table border=\"1\" class=\"dataframe\">\n",
       "  <thead>\n",
       "    <tr style=\"text-align: right;\">\n",
       "      <th></th>\n",
       "      <th>date</th>\n",
       "      <th>open</th>\n",
       "      <th>high</th>\n",
       "      <th>low</th>\n",
       "      <th>close</th>\n",
       "      <th>volume</th>\n",
       "      <th>split_ratio</th>\n",
       "      <th>dividend</th>\n",
       "      <th>Stock</th>\n",
       "    </tr>\n",
       "  </thead>\n",
       "  <tbody>\n",
       "    <tr>\n",
       "      <th>0</th>\n",
       "      <td>2020-01-02</td>\n",
       "      <td>74.059998</td>\n",
       "      <td>75.150002</td>\n",
       "      <td>73.797501</td>\n",
       "      <td>75.087502</td>\n",
       "      <td>135480400</td>\n",
       "      <td>0.0</td>\n",
       "      <td>0.0</td>\n",
       "      <td>AAPL</td>\n",
       "    </tr>\n",
       "    <tr>\n",
       "      <th>1</th>\n",
       "      <td>2020-01-03</td>\n",
       "      <td>74.287498</td>\n",
       "      <td>75.144997</td>\n",
       "      <td>74.125000</td>\n",
       "      <td>74.357498</td>\n",
       "      <td>146322800</td>\n",
       "      <td>0.0</td>\n",
       "      <td>0.0</td>\n",
       "      <td>AAPL</td>\n",
       "    </tr>\n",
       "    <tr>\n",
       "      <th>2</th>\n",
       "      <td>2020-01-06</td>\n",
       "      <td>73.447502</td>\n",
       "      <td>74.989998</td>\n",
       "      <td>73.187500</td>\n",
       "      <td>74.949997</td>\n",
       "      <td>118387200</td>\n",
       "      <td>0.0</td>\n",
       "      <td>0.0</td>\n",
       "      <td>AAPL</td>\n",
       "    </tr>\n",
       "    <tr>\n",
       "      <th>3</th>\n",
       "      <td>2020-01-07</td>\n",
       "      <td>74.959999</td>\n",
       "      <td>75.224998</td>\n",
       "      <td>74.370003</td>\n",
       "      <td>74.597504</td>\n",
       "      <td>108872000</td>\n",
       "      <td>0.0</td>\n",
       "      <td>0.0</td>\n",
       "      <td>AAPL</td>\n",
       "    </tr>\n",
       "    <tr>\n",
       "      <th>4</th>\n",
       "      <td>2020-01-08</td>\n",
       "      <td>74.290001</td>\n",
       "      <td>76.110001</td>\n",
       "      <td>74.290001</td>\n",
       "      <td>75.797501</td>\n",
       "      <td>132079200</td>\n",
       "      <td>0.0</td>\n",
       "      <td>0.0</td>\n",
       "      <td>AAPL</td>\n",
       "    </tr>\n",
       "  </tbody>\n",
       "</table>\n",
       "</div>"
      ],
      "text/plain": [
       "         date       open       high        low      close     volume  \\\n",
       "0  2020-01-02  74.059998  75.150002  73.797501  75.087502  135480400   \n",
       "1  2020-01-03  74.287498  75.144997  74.125000  74.357498  146322800   \n",
       "2  2020-01-06  73.447502  74.989998  73.187500  74.949997  118387200   \n",
       "3  2020-01-07  74.959999  75.224998  74.370003  74.597504  108872000   \n",
       "4  2020-01-08  74.290001  76.110001  74.290001  75.797501  132079200   \n",
       "\n",
       "   split_ratio  dividend Stock  \n",
       "0          0.0       0.0  AAPL  \n",
       "1          0.0       0.0  AAPL  \n",
       "2          0.0       0.0  AAPL  \n",
       "3          0.0       0.0  AAPL  \n",
       "4          0.0       0.0  AAPL  "
      ]
     },
     "execution_count": 79,
     "metadata": {},
     "output_type": "execute_result"
    }
   ],
   "source": [
    "price_df.head()"
   ]
  },
  {
   "cell_type": "code",
   "execution_count": 80,
   "metadata": {},
   "outputs": [],
   "source": [
    "price_df['date'] = pd.to_datetime(price_df['date'])"
   ]
  },
  {
   "cell_type": "code",
   "execution_count": 81,
   "metadata": {},
   "outputs": [
    {
     "data": {
      "text/plain": [
       "Index(['date', 'open', 'high', 'low', 'close', 'volume', 'split_ratio',\n",
       "       'dividend', 'Stock'],\n",
       "      dtype='object')"
      ]
     },
     "execution_count": 81,
     "metadata": {},
     "output_type": "execute_result"
    }
   ],
   "source": [
    "price_df.columns"
   ]
  },
  {
   "cell_type": "code",
   "execution_count": 82,
   "metadata": {},
   "outputs": [
    {
     "data": {
      "text/plain": [
       "841"
      ]
     },
     "execution_count": 82,
     "metadata": {},
     "output_type": "execute_result"
    }
   ],
   "source": [
    "price_df = price_df[price_df['close'].notna()]\n",
    "len(price_df['Stock'].unique())"
   ]
  },
  {
   "cell_type": "code",
   "execution_count": 92,
   "metadata": {},
   "outputs": [],
   "source": [
    "def find_closest_price(stock, date): #Find the closest date for the period ending date\n",
    "    stock_prices = price_df[price_df['Stock'] == stock]  # Filter stock prices\n",
    "    if stock_prices.empty:\n",
    "        return (pd.NaT, None, None)  # Return None if no prices found\n",
    "    closest_row = stock_prices.iloc[(stock_prices['date'] - date).abs().argsort()[:1]]\n",
    "    return tuple(closest_row[['date', 'close', 'split_ratio']].values[0]) if not closest_row.empty else (pd.NaT, None, None)\n",
    "\n",
    "matched_prices = ratio_df.apply(lambda row: find_closest_price(row['Stock'], row['period_ending']), axis=1)\n",
    "\n",
    "ratio_df[['closest_date', 'close_price', 'split_ratio']] = pd.DataFrame(matched_prices.tolist(), index=ratio_df.index)"
   ]
  },
  {
   "cell_type": "code",
   "execution_count": 93,
   "metadata": {},
   "outputs": [
    {
     "data": {
      "text/plain": [
       "841"
      ]
     },
     "execution_count": 93,
     "metadata": {},
     "output_type": "execute_result"
    }
   ],
   "source": [
    "filtered_df = ratio_df[ratio_df['close_price'].notna()]\n",
    "len(filtered_df['Stock'].unique())"
   ]
  },
  {
   "cell_type": "code",
   "execution_count": 94,
   "metadata": {},
   "outputs": [],
   "source": [
    "df_2 = ratio_df.copy()"
   ]
  },
  {
   "cell_type": "code",
   "execution_count": 105,
   "metadata": {},
   "outputs": [
    {
     "name": "stderr",
     "output_type": "stream",
     "text": [
      "/var/folders/n8/s5gn3hhs4z90dmrnk47r93fh0000gn/T/ipykernel_2057/4039875581.py:1: FutureWarning: A value is trying to be set on a copy of a DataFrame or Series through chained assignment using an inplace method.\n",
      "The behavior will change in pandas 3.0. This inplace method will never work because the intermediate object on which we are setting values always behaves as a copy.\n",
      "\n",
      "For example, when doing 'df[col].method(value, inplace=True)', try using 'df.method({col: value}, inplace=True)' or df[col] = df[col].method(value) instead, to perform the operation inplace on the original object.\n",
      "\n",
      "\n",
      "  price_df['split_ratio'].fillna(1, inplace=True)\n"
     ]
    }
   ],
   "source": [
    "price_df['split_ratio'].fillna(1, inplace=True)"
   ]
  },
  {
   "cell_type": "code",
   "execution_count": 107,
   "metadata": {},
   "outputs": [],
   "source": [
    "import numpy as np\n",
    "\n",
    "def adjust_price(stock, date, price):\n",
    "    if pd.isna(price) or pd.isna(date):  # Si falta el precio o la fecha, devolver NaN\n",
    "        return np.nan\n",
    "    \n",
    "    stock_splits = price_df[(price_df['Stock'] == stock) & (price_df['date'] > date)]\n",
    "    \n",
    "    if stock_splits.empty:\n",
    "        return price  # Si no hay splits, devolver el precio original\n",
    "    \n",
    "    split_factor = stock_splits['split_ratio'].replace(0, 1).cumprod().iloc[-1] if not stock_splits.empty else 1\n",
    "    \n",
    "    return price / split_factor if split_factor != 0 else price\n",
    "\n",
    "ratio_df['adjusted_price'] = ratio_df.apply(lambda row: adjust_price(row['Stock'], row['closest_date'], row['close_price']), axis=1)"
   ]
  },
  {
   "cell_type": "code",
   "execution_count": 108,
   "metadata": {},
   "outputs": [
    {
     "data": {
      "text/plain": [
       "841"
      ]
     },
     "execution_count": 108,
     "metadata": {},
     "output_type": "execute_result"
    }
   ],
   "source": [
    "filtered_df = ratio_df[ratio_df['adjusted_price'].notna()]\n",
    "len(filtered_df['Stock'].unique())"
   ]
  },
  {
   "cell_type": "code",
   "execution_count": 109,
   "metadata": {},
   "outputs": [],
   "source": [
    "df_r = ratio_df.copy()"
   ]
  },
  {
   "cell_type": "code",
   "execution_count": 110,
   "metadata": {},
   "outputs": [],
   "source": [
    "ratio_df = ratio_df.sort_values(by=['Stock', 'period_ending'])"
   ]
  },
  {
   "cell_type": "code",
   "execution_count": 111,
   "metadata": {},
   "outputs": [],
   "source": [
    "ratio_df['prev_adjusted_price'] = ratio_df.groupby('Stock')['adjusted_price'].shift(1)\n",
    "ratio_df['return'] = (ratio_df['adjusted_price'] - ratio_df['prev_adjusted_price']) / ratio_df['prev_adjusted_price']"
   ]
  },
  {
   "cell_type": "code",
   "execution_count": 114,
   "metadata": {},
   "outputs": [],
   "source": [
    "new_column_order = ['Stock', 'return', 'adjusted_price', 'close_price'] + [col for col in ratio_df.columns if col not in ['Stock', 'return', 'adjusted_price', 'close_price']]\n",
    "\n",
    "ratio_df = ratio_df[new_column_order]"
   ]
  },
  {
   "cell_type": "code",
   "execution_count": 116,
   "metadata": {},
   "outputs": [],
   "source": [
    "ratio_df.drop(columns=['prev_adjusted_price', 'closest_date','split_ratio'], inplace=True)"
   ]
  },
  {
   "cell_type": "code",
   "execution_count": 117,
   "metadata": {},
   "outputs": [
    {
     "data": {
      "text/html": [
       "<div>\n",
       "<style scoped>\n",
       "    .dataframe tbody tr th:only-of-type {\n",
       "        vertical-align: middle;\n",
       "    }\n",
       "\n",
       "    .dataframe tbody tr th {\n",
       "        vertical-align: top;\n",
       "    }\n",
       "\n",
       "    .dataframe thead th {\n",
       "        text-align: right;\n",
       "    }\n",
       "</style>\n",
       "<table border=\"1\" class=\"dataframe\">\n",
       "  <thead>\n",
       "    <tr style=\"text-align: right;\">\n",
       "      <th></th>\n",
       "      <th>Stock</th>\n",
       "      <th>return</th>\n",
       "      <th>adjusted_price</th>\n",
       "      <th>close_price</th>\n",
       "      <th>period_ending</th>\n",
       "      <th>fiscal_period</th>\n",
       "      <th>fiscal_year</th>\n",
       "      <th>current_ratio</th>\n",
       "      <th>quick_ratio</th>\n",
       "      <th>cash_ratio</th>\n",
       "      <th>...</th>\n",
       "      <th>price_earnings_ratio</th>\n",
       "      <th>price_to_free_cash_flows_ratio</th>\n",
       "      <th>price_to_operating_cash_flows_ratio</th>\n",
       "      <th>price_cash_flow_ratio</th>\n",
       "      <th>price_earnings_to_growth_ratio</th>\n",
       "      <th>price_sales_ratio</th>\n",
       "      <th>dividend_yield</th>\n",
       "      <th>enterprise_value_multiple</th>\n",
       "      <th>price_fair_value</th>\n",
       "      <th>interest_coverage</th>\n",
       "    </tr>\n",
       "  </thead>\n",
       "  <tbody>\n",
       "    <tr>\n",
       "      <th>1846</th>\n",
       "      <td>A</td>\n",
       "      <td>NaN</td>\n",
       "      <td>102.089996</td>\n",
       "      <td>102.089996</td>\n",
       "      <td>2020-10-31</td>\n",
       "      <td>FY</td>\n",
       "      <td>2020</td>\n",
       "      <td>2.327880</td>\n",
       "      <td>1.837082</td>\n",
       "      <td>0.982277</td>\n",
       "      <td>...</td>\n",
       "      <td>43.874562</td>\n",
       "      <td>39.333928</td>\n",
       "      <td>34.251694</td>\n",
       "      <td>34.251694</td>\n",
       "      <td>-1.385299</td>\n",
       "      <td>5.908562</td>\n",
       "      <td>0.007037</td>\n",
       "      <td>23.993947</td>\n",
       "      <td>6.473591</td>\n",
       "      <td>10.846154</td>\n",
       "    </tr>\n",
       "    <tr>\n",
       "      <th>1845</th>\n",
       "      <td>A</td>\n",
       "      <td>0.538447</td>\n",
       "      <td>157.059998</td>\n",
       "      <td>157.059998</td>\n",
       "      <td>2021-10-31</td>\n",
       "      <td>FY</td>\n",
       "      <td>2021</td>\n",
       "      <td>2.224239</td>\n",
       "      <td>1.738290</td>\n",
       "      <td>0.868852</td>\n",
       "      <td>...</td>\n",
       "      <td>39.459702</td>\n",
       "      <td>36.841235</td>\n",
       "      <td>32.152350</td>\n",
       "      <td>32.152350</td>\n",
       "      <td>0.557219</td>\n",
       "      <td>7.555980</td>\n",
       "      <td>0.004943</td>\n",
       "      <td>28.400719</td>\n",
       "      <td>8.859944</td>\n",
       "      <td>16.629630</td>\n",
       "    </tr>\n",
       "    <tr>\n",
       "      <th>1844</th>\n",
       "      <td>A</td>\n",
       "      <td>-0.119126</td>\n",
       "      <td>138.350006</td>\n",
       "      <td>138.350006</td>\n",
       "      <td>2022-10-31</td>\n",
       "      <td>FY</td>\n",
       "      <td>2022</td>\n",
       "      <td>2.030091</td>\n",
       "      <td>1.472327</td>\n",
       "      <td>0.565825</td>\n",
       "      <td>...</td>\n",
       "      <td>32.987759</td>\n",
       "      <td>40.515818</td>\n",
       "      <td>31.529459</td>\n",
       "      <td>31.529459</td>\n",
       "      <td>6.251966</td>\n",
       "      <td>6.040691</td>\n",
       "      <td>0.006044</td>\n",
       "      <td>21.606143</td>\n",
       "      <td>7.797672</td>\n",
       "      <td>19.261905</td>\n",
       "    </tr>\n",
       "    <tr>\n",
       "      <th>1843</th>\n",
       "      <td>A</td>\n",
       "      <td>-0.252837</td>\n",
       "      <td>103.370003</td>\n",
       "      <td>103.370003</td>\n",
       "      <td>2023-10-31</td>\n",
       "      <td>FY</td>\n",
       "      <td>2023</td>\n",
       "      <td>2.611354</td>\n",
       "      <td>1.968185</td>\n",
       "      <td>0.991890</td>\n",
       "      <td>...</td>\n",
       "      <td>24.508694</td>\n",
       "      <td>20.617897</td>\n",
       "      <td>17.150553</td>\n",
       "      <td>17.150553</td>\n",
       "      <td>34.230475</td>\n",
       "      <td>4.447648</td>\n",
       "      <td>0.008720</td>\n",
       "      <td>18.517780</td>\n",
       "      <td>5.199449</td>\n",
       "      <td>14.210526</td>\n",
       "    </tr>\n",
       "    <tr>\n",
       "      <th>1842</th>\n",
       "      <td>A</td>\n",
       "      <td>0.260617</td>\n",
       "      <td>130.309998</td>\n",
       "      <td>130.309998</td>\n",
       "      <td>2024-10-31</td>\n",
       "      <td>FY</td>\n",
       "      <td>2024</td>\n",
       "      <td>2.089182</td>\n",
       "      <td>1.576253</td>\n",
       "      <td>0.701319</td>\n",
       "      <td>...</td>\n",
       "      <td>29.317223</td>\n",
       "      <td>27.523598</td>\n",
       "      <td>21.581896</td>\n",
       "      <td>21.581896</td>\n",
       "      <td>5.623576</td>\n",
       "      <td>5.804900</td>\n",
       "      <td>0.007251</td>\n",
       "      <td>26.781519</td>\n",
       "      <td>6.407240</td>\n",
       "      <td>15.500000</td>\n",
       "    </tr>\n",
       "  </tbody>\n",
       "</table>\n",
       "<p>5 rows × 61 columns</p>\n",
       "</div>"
      ],
      "text/plain": [
       "     Stock    return  adjusted_price  close_price period_ending fiscal_period  \\\n",
       "1846     A       NaN      102.089996   102.089996    2020-10-31            FY   \n",
       "1845     A  0.538447      157.059998   157.059998    2021-10-31            FY   \n",
       "1844     A -0.119126      138.350006   138.350006    2022-10-31            FY   \n",
       "1843     A -0.252837      103.370003   103.370003    2023-10-31            FY   \n",
       "1842     A  0.260617      130.309998   130.309998    2024-10-31            FY   \n",
       "\n",
       "      fiscal_year  current_ratio  quick_ratio  cash_ratio  ...  \\\n",
       "1846         2020       2.327880     1.837082    0.982277  ...   \n",
       "1845         2021       2.224239     1.738290    0.868852  ...   \n",
       "1844         2022       2.030091     1.472327    0.565825  ...   \n",
       "1843         2023       2.611354     1.968185    0.991890  ...   \n",
       "1842         2024       2.089182     1.576253    0.701319  ...   \n",
       "\n",
       "      price_earnings_ratio  price_to_free_cash_flows_ratio  \\\n",
       "1846             43.874562                       39.333928   \n",
       "1845             39.459702                       36.841235   \n",
       "1844             32.987759                       40.515818   \n",
       "1843             24.508694                       20.617897   \n",
       "1842             29.317223                       27.523598   \n",
       "\n",
       "      price_to_operating_cash_flows_ratio  price_cash_flow_ratio  \\\n",
       "1846                            34.251694              34.251694   \n",
       "1845                            32.152350              32.152350   \n",
       "1844                            31.529459              31.529459   \n",
       "1843                            17.150553              17.150553   \n",
       "1842                            21.581896              21.581896   \n",
       "\n",
       "      price_earnings_to_growth_ratio  price_sales_ratio  dividend_yield  \\\n",
       "1846                       -1.385299           5.908562        0.007037   \n",
       "1845                        0.557219           7.555980        0.004943   \n",
       "1844                        6.251966           6.040691        0.006044   \n",
       "1843                       34.230475           4.447648        0.008720   \n",
       "1842                        5.623576           5.804900        0.007251   \n",
       "\n",
       "      enterprise_value_multiple  price_fair_value  interest_coverage  \n",
       "1846                  23.993947          6.473591          10.846154  \n",
       "1845                  28.400719          8.859944          16.629630  \n",
       "1844                  21.606143          7.797672          19.261905  \n",
       "1843                  18.517780          5.199449          14.210526  \n",
       "1842                  26.781519          6.407240          15.500000  \n",
       "\n",
       "[5 rows x 61 columns]"
      ]
     },
     "execution_count": 117,
     "metadata": {},
     "output_type": "execute_result"
    }
   ],
   "source": [
    "ratio_df.head()"
   ]
  },
  {
   "cell_type": "code",
   "execution_count": 119,
   "metadata": {},
   "outputs": [],
   "source": [
    "stocks = ratio_df[ratio_df['return'].notna()]"
   ]
  },
  {
   "cell_type": "code",
   "execution_count": 120,
   "metadata": {},
   "outputs": [
    {
     "data": {
      "text/plain": [
       "841"
      ]
     },
     "execution_count": 120,
     "metadata": {},
     "output_type": "execute_result"
    }
   ],
   "source": [
    "len(stocks['Stock'].unique())"
   ]
  },
  {
   "cell_type": "code",
   "execution_count": 121,
   "metadata": {},
   "outputs": [
    {
     "data": {
      "text/plain": [
       "(3357, 61)"
      ]
     },
     "execution_count": 121,
     "metadata": {},
     "output_type": "execute_result"
    }
   ],
   "source": [
    "stocks.shape"
   ]
  },
  {
   "cell_type": "code",
   "execution_count": 122,
   "metadata": {},
   "outputs": [],
   "source": [
    "stocks.to_csv(\"data/stocks.csv\", index=False)"
   ]
  }
 ],
 "metadata": {
  "kernelspec": {
   "display_name": "PracticasIUMA",
   "language": "python",
   "name": "python3"
  },
  "language_info": {
   "codemirror_mode": {
    "name": "ipython",
    "version": 3
   },
   "file_extension": ".py",
   "mimetype": "text/x-python",
   "name": "python",
   "nbconvert_exporter": "python",
   "pygments_lexer": "ipython3",
   "version": "3.12.4"
  }
 },
 "nbformat": 4,
 "nbformat_minor": 2
}
