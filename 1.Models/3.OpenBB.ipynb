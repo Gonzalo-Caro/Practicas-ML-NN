{
 "cells": [
  {
   "cell_type": "markdown",
   "metadata": {},
   "source": [
    "# OpenBB Data Base"
   ]
  },
  {
   "cell_type": "code",
   "execution_count": 31,
   "metadata": {},
   "outputs": [],
   "source": [
    "from openbb import obb\n",
    "from openbb_core.provider.standard_models.financial_ratios import (FinancialRatiosData, FinancialRatiosQueryParams,)\n",
    "import pandas as pd\n",
    "\n",
    "stocks = [\"AAPL\", \"MSFT\", \"GOOGL\", \"AMZN\", \"TSLA\", \"META\", \"NFLX\", \"NVDA\", \"BRK.B\", \"V\",\n",
    "            \"JPM\", \"JNJ\", \"PG\", \"UNH\", \"HD\", \"MA\", \"DIS\", \"PYPL\", \"PFE\", \"KO\"]\n",
    "\n",
    "\n",
    "ratios = [\n",
    "    \"gross_margin\", \"operating_margin\", \"net_margin\", \"roe\", \"roce\",  # Profitability\n",
    "    \"asset_turnover\", \"inventory_turnover\", \"receivables_turnover\", \"operating_cycle\",  # Eficciency\n",
    "    \"current_ratio\", \"quick_ratio\", \"debt_to_equity\", \"interest_coverage\",  # Liquidity and Solvency\n",
    "    \"price_to_fcf\"  # Valuation\n",
    "]\n"
   ]
  },
  {
   "cell_type": "code",
   "execution_count": 32,
   "metadata": {},
   "outputs": [
    {
     "data": {
      "text/plain": [
       "9708"
      ]
     },
     "execution_count": 32,
     "metadata": {},
     "output_type": "execute_result"
    }
   ],
   "source": [
    "all_companies = obb.equity.search(\"\", provider=\"sec\")\n",
    "len(all_companies.results)"
   ]
  },
  {
   "cell_type": "code",
   "execution_count": 36,
   "metadata": {},
   "outputs": [
    {
     "data": {
      "text/html": [
       "<div>\n",
       "<style scoped>\n",
       "    .dataframe tbody tr th:only-of-type {\n",
       "        vertical-align: middle;\n",
       "    }\n",
       "\n",
       "    .dataframe tbody tr th {\n",
       "        vertical-align: top;\n",
       "    }\n",
       "\n",
       "    .dataframe thead th {\n",
       "        text-align: right;\n",
       "    }\n",
       "</style>\n",
       "<table border=\"1\" class=\"dataframe\">\n",
       "  <thead>\n",
       "    <tr style=\"text-align: right;\">\n",
       "      <th></th>\n",
       "      <th>symbol</th>\n",
       "      <th>name</th>\n",
       "      <th>cik</th>\n",
       "    </tr>\n",
       "  </thead>\n",
       "  <tbody>\n",
       "    <tr>\n",
       "      <th>0</th>\n",
       "      <td>AAPL</td>\n",
       "      <td>Apple Inc.</td>\n",
       "      <td>320193</td>\n",
       "    </tr>\n",
       "    <tr>\n",
       "      <th>1</th>\n",
       "      <td>MSFT</td>\n",
       "      <td>MICROSOFT CORP</td>\n",
       "      <td>789019</td>\n",
       "    </tr>\n",
       "    <tr>\n",
       "      <th>2</th>\n",
       "      <td>NVDA</td>\n",
       "      <td>NVIDIA CORP</td>\n",
       "      <td>1045810</td>\n",
       "    </tr>\n",
       "    <tr>\n",
       "      <th>3</th>\n",
       "      <td>AMZN</td>\n",
       "      <td>AMAZON COM INC</td>\n",
       "      <td>1018724</td>\n",
       "    </tr>\n",
       "    <tr>\n",
       "      <th>4</th>\n",
       "      <td>GOOGL</td>\n",
       "      <td>Alphabet Inc.</td>\n",
       "      <td>1652044</td>\n",
       "    </tr>\n",
       "  </tbody>\n",
       "</table>\n",
       "</div>"
      ],
      "text/plain": [
       "  symbol            name      cik\n",
       "0   AAPL      Apple Inc.   320193\n",
       "1   MSFT  MICROSOFT CORP   789019\n",
       "2   NVDA     NVIDIA CORP  1045810\n",
       "3   AMZN  AMAZON COM INC  1018724\n",
       "4  GOOGL   Alphabet Inc.  1652044"
      ]
     },
     "execution_count": 36,
     "metadata": {},
     "output_type": "execute_result"
    }
   ],
   "source": [
    "all_companies.to_df().head()"
   ]
  },
  {
   "cell_type": "code",
   "execution_count": 61,
   "metadata": {},
   "outputs": [],
   "source": [
    "metrics = obb.equity.fundamental.metrics(stocks)"
   ]
  },
  {
   "cell_type": "code",
   "execution_count": 78,
   "metadata": {},
   "outputs": [],
   "source": [
    "df = metrics.to_df()"
   ]
  },
  {
   "cell_type": "code",
   "execution_count": 79,
   "metadata": {},
   "outputs": [
    {
     "data": {
      "text/html": [
       "<div>\n",
       "<style scoped>\n",
       "    .dataframe tbody tr th:only-of-type {\n",
       "        vertical-align: middle;\n",
       "    }\n",
       "\n",
       "    .dataframe tbody tr th {\n",
       "        vertical-align: top;\n",
       "    }\n",
       "\n",
       "    .dataframe thead th {\n",
       "        text-align: right;\n",
       "    }\n",
       "</style>\n",
       "<table border=\"1\" class=\"dataframe\">\n",
       "  <thead>\n",
       "    <tr style=\"text-align: right;\">\n",
       "      <th></th>\n",
       "      <th>symbol</th>\n",
       "      <th>market_cap</th>\n",
       "      <th>pe_ratio</th>\n",
       "      <th>forward_pe</th>\n",
       "      <th>peg_ratio_ttm</th>\n",
       "      <th>enterprise_to_ebitda</th>\n",
       "      <th>earnings_growth</th>\n",
       "      <th>earnings_growth_quarterly</th>\n",
       "      <th>revenue_per_share</th>\n",
       "      <th>revenue_growth</th>\n",
       "      <th>...</th>\n",
       "      <th>price_to_book</th>\n",
       "      <th>enterprise_value</th>\n",
       "      <th>overall_risk</th>\n",
       "      <th>audit_risk</th>\n",
       "      <th>board_risk</th>\n",
       "      <th>compensation_risk</th>\n",
       "      <th>shareholder_rights_risk</th>\n",
       "      <th>beta</th>\n",
       "      <th>price_return_1y</th>\n",
       "      <th>currency</th>\n",
       "    </tr>\n",
       "  </thead>\n",
       "  <tbody>\n",
       "    <tr>\n",
       "      <th>0</th>\n",
       "      <td>AAPL</td>\n",
       "      <td>3.540784e+12</td>\n",
       "      <td>37.413490</td>\n",
       "      <td>28.364017</td>\n",
       "      <td>2.1851</td>\n",
       "      <td>26.117</td>\n",
       "      <td>0.101</td>\n",
       "      <td>0.071</td>\n",
       "      <td>25.974</td>\n",
       "      <td>0.040</td>\n",
       "      <td>...</td>\n",
       "      <td>53.110634</td>\n",
       "      <td>3587181641728</td>\n",
       "      <td>1.0</td>\n",
       "      <td>7.0</td>\n",
       "      <td>1.0</td>\n",
       "      <td>3.0</td>\n",
       "      <td>1.0</td>\n",
       "      <td>1.178</td>\n",
       "      <td>0.395045</td>\n",
       "      <td>USD</td>\n",
       "    </tr>\n",
       "    <tr>\n",
       "      <th>1</th>\n",
       "      <td>MSFT</td>\n",
       "      <td>2.974949e+12</td>\n",
       "      <td>32.272790</td>\n",
       "      <td>26.768066</td>\n",
       "      <td>1.7709</td>\n",
       "      <td>20.559</td>\n",
       "      <td>0.102</td>\n",
       "      <td>0.102</td>\n",
       "      <td>35.224</td>\n",
       "      <td>0.123</td>\n",
       "      <td>...</td>\n",
       "      <td>9.829597</td>\n",
       "      <td>2920273936384</td>\n",
       "      <td>3.0</td>\n",
       "      <td>9.0</td>\n",
       "      <td>5.0</td>\n",
       "      <td>3.0</td>\n",
       "      <td>2.0</td>\n",
       "      <td>0.914</td>\n",
       "      <td>-0.033525</td>\n",
       "      <td>USD</td>\n",
       "    </tr>\n",
       "    <tr>\n",
       "      <th>2</th>\n",
       "      <td>GOOGL</td>\n",
       "      <td>2.118159e+12</td>\n",
       "      <td>21.542965</td>\n",
       "      <td>19.306921</td>\n",
       "      <td>1.2365</td>\n",
       "      <td>15.568</td>\n",
       "      <td>0.309</td>\n",
       "      <td>0.283</td>\n",
       "      <td>28.413</td>\n",
       "      <td>0.118</td>\n",
       "      <td>...</td>\n",
       "      <td>6.498009</td>\n",
       "      <td>2015994839040</td>\n",
       "      <td>10.0</td>\n",
       "      <td>8.0</td>\n",
       "      <td>7.0</td>\n",
       "      <td>10.0</td>\n",
       "      <td>10.0</td>\n",
       "      <td>1.025</td>\n",
       "      <td>0.300761</td>\n",
       "      <td>USD</td>\n",
       "    </tr>\n",
       "    <tr>\n",
       "      <th>3</th>\n",
       "      <td>AMZN</td>\n",
       "      <td>2.211104e+12</td>\n",
       "      <td>37.797100</td>\n",
       "      <td>33.925200</td>\n",
       "      <td>1.7185</td>\n",
       "      <td>18.378</td>\n",
       "      <td>0.846</td>\n",
       "      <td>0.883</td>\n",
       "      <td>60.915</td>\n",
       "      <td>0.105</td>\n",
       "      <td>...</td>\n",
       "      <td>7.728552</td>\n",
       "      <td>2214016319488</td>\n",
       "      <td>9.0</td>\n",
       "      <td>2.0</td>\n",
       "      <td>10.0</td>\n",
       "      <td>10.0</td>\n",
       "      <td>3.0</td>\n",
       "      <td>1.192</td>\n",
       "      <td>0.174572</td>\n",
       "      <td>USD</td>\n",
       "    </tr>\n",
       "    <tr>\n",
       "      <th>4</th>\n",
       "      <td>TSLA</td>\n",
       "      <td>8.829672e+11</td>\n",
       "      <td>134.563780</td>\n",
       "      <td>84.725340</td>\n",
       "      <td>3.8294</td>\n",
       "      <td>65.468</td>\n",
       "      <td>-0.709</td>\n",
       "      <td>-0.708</td>\n",
       "      <td>30.557</td>\n",
       "      <td>0.021</td>\n",
       "      <td>...</td>\n",
       "      <td>12.107890</td>\n",
       "      <td>852848279552</td>\n",
       "      <td>10.0</td>\n",
       "      <td>5.0</td>\n",
       "      <td>9.0</td>\n",
       "      <td>10.0</td>\n",
       "      <td>9.0</td>\n",
       "      <td>2.507</td>\n",
       "      <td>0.540954</td>\n",
       "      <td>USD</td>\n",
       "    </tr>\n",
       "  </tbody>\n",
       "</table>\n",
       "<p>5 rows × 34 columns</p>\n",
       "</div>"
      ],
      "text/plain": [
       "  symbol    market_cap    pe_ratio  forward_pe  peg_ratio_ttm  \\\n",
       "0   AAPL  3.540784e+12   37.413490   28.364017         2.1851   \n",
       "1   MSFT  2.974949e+12   32.272790   26.768066         1.7709   \n",
       "2  GOOGL  2.118159e+12   21.542965   19.306921         1.2365   \n",
       "3   AMZN  2.211104e+12   37.797100   33.925200         1.7185   \n",
       "4   TSLA  8.829672e+11  134.563780   84.725340         3.8294   \n",
       "\n",
       "   enterprise_to_ebitda  earnings_growth  earnings_growth_quarterly  \\\n",
       "0                26.117            0.101                      0.071   \n",
       "1                20.559            0.102                      0.102   \n",
       "2                15.568            0.309                      0.283   \n",
       "3                18.378            0.846                      0.883   \n",
       "4                65.468           -0.709                     -0.708   \n",
       "\n",
       "   revenue_per_share  revenue_growth  ...  price_to_book  enterprise_value  \\\n",
       "0             25.974           0.040  ...      53.110634     3587181641728   \n",
       "1             35.224           0.123  ...       9.829597     2920273936384   \n",
       "2             28.413           0.118  ...       6.498009     2015994839040   \n",
       "3             60.915           0.105  ...       7.728552     2214016319488   \n",
       "4             30.557           0.021  ...      12.107890      852848279552   \n",
       "\n",
       "   overall_risk  audit_risk  board_risk  compensation_risk  \\\n",
       "0           1.0         7.0         1.0                3.0   \n",
       "1           3.0         9.0         5.0                3.0   \n",
       "2          10.0         8.0         7.0               10.0   \n",
       "3           9.0         2.0        10.0               10.0   \n",
       "4          10.0         5.0         9.0               10.0   \n",
       "\n",
       "   shareholder_rights_risk   beta  price_return_1y  currency  \n",
       "0                      1.0  1.178         0.395045       USD  \n",
       "1                      2.0  0.914        -0.033525       USD  \n",
       "2                     10.0  1.025         0.300761       USD  \n",
       "3                      3.0  1.192         0.174572       USD  \n",
       "4                      9.0  2.507         0.540954       USD  \n",
       "\n",
       "[5 rows x 34 columns]"
      ]
     },
     "execution_count": 79,
     "metadata": {},
     "output_type": "execute_result"
    }
   ],
   "source": [
    "df.head()"
   ]
  },
  {
   "cell_type": "code",
   "execution_count": 80,
   "metadata": {},
   "outputs": [
    {
     "data": {
      "text/plain": [
       "Index(['symbol', 'market_cap', 'pe_ratio', 'forward_pe', 'peg_ratio_ttm',\n",
       "       'enterprise_to_ebitda', 'earnings_growth', 'earnings_growth_quarterly',\n",
       "       'revenue_per_share', 'revenue_growth', 'enterprise_to_revenue',\n",
       "       'quick_ratio', 'current_ratio', 'debt_to_equity', 'gross_margin',\n",
       "       'operating_margin', 'ebitda_margin', 'profit_margin',\n",
       "       'return_on_assets', 'return_on_equity', 'dividend_yield',\n",
       "       'dividend_yield_5y_avg', 'payout_ratio', 'book_value', 'price_to_book',\n",
       "       'enterprise_value', 'overall_risk', 'audit_risk', 'board_risk',\n",
       "       'compensation_risk', 'shareholder_rights_risk', 'beta',\n",
       "       'price_return_1y', 'currency'],\n",
       "      dtype='object')"
      ]
     },
     "execution_count": 80,
     "metadata": {},
     "output_type": "execute_result"
    }
   ],
   "source": [
    "df.columns"
   ]
  },
  {
   "cell_type": "code",
   "execution_count": 81,
   "metadata": {},
   "outputs": [
    {
     "data": {
      "text/plain": [
       "(19, 34)"
      ]
     },
     "execution_count": 81,
     "metadata": {},
     "output_type": "execute_result"
    }
   ],
   "source": [
    "df.shape"
   ]
  }
 ],
 "metadata": {
  "kernelspec": {
   "display_name": "PracticasIUMA",
   "language": "python",
   "name": "python3"
  },
  "language_info": {
   "codemirror_mode": {
    "name": "ipython",
    "version": 3
   },
   "file_extension": ".py",
   "mimetype": "text/x-python",
   "name": "python",
   "nbconvert_exporter": "python",
   "pygments_lexer": "ipython3",
   "version": "3.12.4"
  }
 },
 "nbformat": 4,
 "nbformat_minor": 2
}
