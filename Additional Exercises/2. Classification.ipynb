{
 "cells": [
  {
   "cell_type": "code",
   "execution_count": null,
   "metadata": {},
   "outputs": [],
   "source": [
    "https://www.kaggle.com/datasets/taweilo/loan-approval-classification-data/data\n",
    "https://www.kaggle.com/datasets/gauravtopre/credit-card-defaulter-prediction\n",
    "https://archive.ics.uci.edu/dataset/573/south+german+credit+update"
   ]
  }
 ],
 "metadata": {
  "language_info": {
   "name": "python"
  }
 },
 "nbformat": 4,
 "nbformat_minor": 2
}
