{
 "cells": [
  {
   "cell_type": "markdown",
   "metadata": {},
   "source": [
    "https://www.kaggle.com/datasets/taweilo/loan-approval-classification-data/data\n",
    "https://www.kaggle.com/datasets/gauravtopre/credit-card-defaulter-prediction\n",
    "https://archive.ics.uci.edu/dataset/573/south+german+credit+update\n",
    "https://www.kaggle.com/datasets/sid321axn/south-german-credit-updated/data"
   ]
  },
  {
   "cell_type": "markdown",
   "metadata": {},
   "source": [
    "## Download the Data"
   ]
  },
  {
   "cell_type": "code",
   "execution_count": 1,
   "metadata": {},
   "outputs": [],
   "source": [
    "import pandas as pd\n",
    "\n",
    "df = pd.read_csv(\"data/german_credit.csv\")"
   ]
  },
  {
   "cell_type": "code",
   "execution_count": 2,
   "metadata": {},
   "outputs": [
    {
     "data": {
      "text/html": [
       "<div>\n",
       "<style scoped>\n",
       "    .dataframe tbody tr th:only-of-type {\n",
       "        vertical-align: middle;\n",
       "    }\n",
       "\n",
       "    .dataframe tbody tr th {\n",
       "        vertical-align: top;\n",
       "    }\n",
       "\n",
       "    .dataframe thead th {\n",
       "        text-align: right;\n",
       "    }\n",
       "</style>\n",
       "<table border=\"1\" class=\"dataframe\">\n",
       "  <thead>\n",
       "    <tr style=\"text-align: right;\">\n",
       "      <th></th>\n",
       "      <th>status</th>\n",
       "      <th>duration</th>\n",
       "      <th>credit_history</th>\n",
       "      <th>purpose</th>\n",
       "      <th>amount</th>\n",
       "      <th>savings</th>\n",
       "      <th>employment_duration</th>\n",
       "      <th>installment_rate</th>\n",
       "      <th>personal_status_sex</th>\n",
       "      <th>other_debtors</th>\n",
       "      <th>...</th>\n",
       "      <th>property</th>\n",
       "      <th>age</th>\n",
       "      <th>other_installment_plans</th>\n",
       "      <th>housing</th>\n",
       "      <th>number_credits</th>\n",
       "      <th>job</th>\n",
       "      <th>people_liable</th>\n",
       "      <th>telephone</th>\n",
       "      <th>foreign_worker</th>\n",
       "      <th>credit_risk</th>\n",
       "    </tr>\n",
       "  </thead>\n",
       "  <tbody>\n",
       "    <tr>\n",
       "      <th>0</th>\n",
       "      <td>no checking account</td>\n",
       "      <td>18</td>\n",
       "      <td>all credits at this bank paid back duly</td>\n",
       "      <td>car (used)</td>\n",
       "      <td>1049</td>\n",
       "      <td>unknown/no savings account</td>\n",
       "      <td>&lt; 1 yr</td>\n",
       "      <td>&lt; 20</td>\n",
       "      <td>female : non-single or male : single</td>\n",
       "      <td>none</td>\n",
       "      <td>...</td>\n",
       "      <td>car or other</td>\n",
       "      <td>21</td>\n",
       "      <td>none</td>\n",
       "      <td>for free</td>\n",
       "      <td>1</td>\n",
       "      <td>skilled employee/official</td>\n",
       "      <td>0 to 2</td>\n",
       "      <td>no</td>\n",
       "      <td>no</td>\n",
       "      <td>good</td>\n",
       "    </tr>\n",
       "    <tr>\n",
       "      <th>1</th>\n",
       "      <td>no checking account</td>\n",
       "      <td>9</td>\n",
       "      <td>all credits at this bank paid back duly</td>\n",
       "      <td>others</td>\n",
       "      <td>2799</td>\n",
       "      <td>unknown/no savings account</td>\n",
       "      <td>1 &lt;= ... &lt; 4 yrs</td>\n",
       "      <td>25 &lt;= ... &lt; 35</td>\n",
       "      <td>male : married/widowed</td>\n",
       "      <td>none</td>\n",
       "      <td>...</td>\n",
       "      <td>unknown / no property</td>\n",
       "      <td>36</td>\n",
       "      <td>none</td>\n",
       "      <td>for free</td>\n",
       "      <td>3-Feb</td>\n",
       "      <td>skilled employee/official</td>\n",
       "      <td>3 or more</td>\n",
       "      <td>no</td>\n",
       "      <td>no</td>\n",
       "      <td>good</td>\n",
       "    </tr>\n",
       "    <tr>\n",
       "      <th>2</th>\n",
       "      <td>... &lt; 0 DM</td>\n",
       "      <td>12</td>\n",
       "      <td>no credits taken/all credits paid back duly</td>\n",
       "      <td>retraining</td>\n",
       "      <td>841</td>\n",
       "      <td>... &lt;  100 DM</td>\n",
       "      <td>4 &lt;= ... &lt; 7 yrs</td>\n",
       "      <td>25 &lt;= ... &lt; 35</td>\n",
       "      <td>female : non-single or male : single</td>\n",
       "      <td>none</td>\n",
       "      <td>...</td>\n",
       "      <td>unknown / no property</td>\n",
       "      <td>23</td>\n",
       "      <td>none</td>\n",
       "      <td>for free</td>\n",
       "      <td>1</td>\n",
       "      <td>unskilled - resident</td>\n",
       "      <td>0 to 2</td>\n",
       "      <td>no</td>\n",
       "      <td>no</td>\n",
       "      <td>good</td>\n",
       "    </tr>\n",
       "    <tr>\n",
       "      <th>3</th>\n",
       "      <td>no checking account</td>\n",
       "      <td>12</td>\n",
       "      <td>all credits at this bank paid back duly</td>\n",
       "      <td>others</td>\n",
       "      <td>2122</td>\n",
       "      <td>unknown/no savings account</td>\n",
       "      <td>1 &lt;= ... &lt; 4 yrs</td>\n",
       "      <td>20 &lt;= ... &lt; 25</td>\n",
       "      <td>male : married/widowed</td>\n",
       "      <td>none</td>\n",
       "      <td>...</td>\n",
       "      <td>unknown / no property</td>\n",
       "      <td>39</td>\n",
       "      <td>none</td>\n",
       "      <td>for free</td>\n",
       "      <td>3-Feb</td>\n",
       "      <td>unskilled - resident</td>\n",
       "      <td>3 or more</td>\n",
       "      <td>no</td>\n",
       "      <td>yes</td>\n",
       "      <td>good</td>\n",
       "    </tr>\n",
       "    <tr>\n",
       "      <th>4</th>\n",
       "      <td>no checking account</td>\n",
       "      <td>12</td>\n",
       "      <td>all credits at this bank paid back duly</td>\n",
       "      <td>others</td>\n",
       "      <td>2171</td>\n",
       "      <td>unknown/no savings account</td>\n",
       "      <td>1 &lt;= ... &lt; 4 yrs</td>\n",
       "      <td>&lt; 20</td>\n",
       "      <td>male : married/widowed</td>\n",
       "      <td>none</td>\n",
       "      <td>...</td>\n",
       "      <td>car or other</td>\n",
       "      <td>38</td>\n",
       "      <td>bank</td>\n",
       "      <td>rent</td>\n",
       "      <td>3-Feb</td>\n",
       "      <td>unskilled - resident</td>\n",
       "      <td>0 to 2</td>\n",
       "      <td>no</td>\n",
       "      <td>yes</td>\n",
       "      <td>good</td>\n",
       "    </tr>\n",
       "  </tbody>\n",
       "</table>\n",
       "<p>5 rows × 21 columns</p>\n",
       "</div>"
      ],
      "text/plain": [
       "                status  duration                               credit_history  \\\n",
       "0  no checking account        18      all credits at this bank paid back duly   \n",
       "1  no checking account         9      all credits at this bank paid back duly   \n",
       "2           ... < 0 DM        12  no credits taken/all credits paid back duly   \n",
       "3  no checking account        12      all credits at this bank paid back duly   \n",
       "4  no checking account        12      all credits at this bank paid back duly   \n",
       "\n",
       "      purpose  amount                     savings employment_duration  \\\n",
       "0  car (used)    1049  unknown/no savings account              < 1 yr   \n",
       "1      others    2799  unknown/no savings account    1 <= ... < 4 yrs   \n",
       "2  retraining     841               ... <  100 DM    4 <= ... < 7 yrs   \n",
       "3      others    2122  unknown/no savings account    1 <= ... < 4 yrs   \n",
       "4      others    2171  unknown/no savings account    1 <= ... < 4 yrs   \n",
       "\n",
       "  installment_rate                   personal_status_sex other_debtors  ...  \\\n",
       "0             < 20  female : non-single or male : single          none  ...   \n",
       "1   25 <= ... < 35                male : married/widowed          none  ...   \n",
       "2   25 <= ... < 35  female : non-single or male : single          none  ...   \n",
       "3   20 <= ... < 25                male : married/widowed          none  ...   \n",
       "4             < 20                male : married/widowed          none  ...   \n",
       "\n",
       "                property age  other_installment_plans   housing  \\\n",
       "0           car or other  21                     none  for free   \n",
       "1  unknown / no property  36                     none  for free   \n",
       "2  unknown / no property  23                     none  for free   \n",
       "3  unknown / no property  39                     none  for free   \n",
       "4           car or other  38                     bank      rent   \n",
       "\n",
       "  number_credits                        job people_liable telephone  \\\n",
       "0              1  skilled employee/official        0 to 2        no   \n",
       "1          3-Feb  skilled employee/official     3 or more        no   \n",
       "2              1       unskilled - resident        0 to 2        no   \n",
       "3          3-Feb       unskilled - resident     3 or more        no   \n",
       "4          3-Feb       unskilled - resident        0 to 2        no   \n",
       "\n",
       "  foreign_worker credit_risk  \n",
       "0             no        good  \n",
       "1             no        good  \n",
       "2             no        good  \n",
       "3            yes        good  \n",
       "4            yes        good  \n",
       "\n",
       "[5 rows x 21 columns]"
      ]
     },
     "execution_count": 2,
     "metadata": {},
     "output_type": "execute_result"
    }
   ],
   "source": [
    "df.head()"
   ]
  },
  {
   "cell_type": "code",
   "execution_count": 3,
   "metadata": {},
   "outputs": [
    {
     "name": "stdout",
     "output_type": "stream",
     "text": [
      "<class 'pandas.core.frame.DataFrame'>\n",
      "RangeIndex: 1000 entries, 0 to 999\n",
      "Data columns (total 21 columns):\n",
      " #   Column                   Non-Null Count  Dtype \n",
      "---  ------                   --------------  ----- \n",
      " 0   status                   1000 non-null   object\n",
      " 1   duration                 1000 non-null   int64 \n",
      " 2   credit_history           1000 non-null   object\n",
      " 3   purpose                  1000 non-null   object\n",
      " 4   amount                   1000 non-null   int64 \n",
      " 5   savings                  1000 non-null   object\n",
      " 6   employment_duration      1000 non-null   object\n",
      " 7   installment_rate         1000 non-null   object\n",
      " 8   personal_status_sex      1000 non-null   object\n",
      " 9   other_debtors            1000 non-null   object\n",
      " 10  present_residence        1000 non-null   object\n",
      " 11  property                 1000 non-null   object\n",
      " 12  age                      1000 non-null   int64 \n",
      " 13  other_installment_plans  1000 non-null   object\n",
      " 14  housing                  1000 non-null   object\n",
      " 15  number_credits           1000 non-null   object\n",
      " 16  job                      1000 non-null   object\n",
      " 17  people_liable            1000 non-null   object\n",
      " 18  telephone                1000 non-null   object\n",
      " 19  foreign_worker           1000 non-null   object\n",
      " 20  credit_risk              1000 non-null   object\n",
      "dtypes: int64(3), object(18)\n",
      "memory usage: 164.2+ KB\n"
     ]
    }
   ],
   "source": [
    "df.info()"
   ]
  },
  {
   "cell_type": "code",
   "execution_count": 4,
   "metadata": {},
   "outputs": [
    {
     "name": "stdout",
     "output_type": "stream",
     "text": [
      "Categorias para 'status':\n",
      "\n",
      "status\n",
      "... >= 200 DM / salary for at least 1 year    394\n",
      "no checking account                           274\n",
      "... < 0 DM                                    269\n",
      "0<= ... < 200 DM                               63\n",
      "Name: count, dtype: int64\n",
      "\n",
      "--------------------------------------------------\n",
      "\n",
      "Categorias para 'credit_history':\n",
      "\n",
      "credit_history\n",
      "no credits taken/all credits paid back duly    530\n",
      "all credits at this bank paid back duly        293\n",
      "existing credits paid back duly till now        88\n",
      "critical account/other credits elsewhere        49\n",
      "delay in paying off in the past                 40\n",
      "Name: count, dtype: int64\n",
      "\n",
      "--------------------------------------------------\n",
      "\n",
      "Categorias para 'purpose':\n",
      "\n",
      "purpose\n",
      "furniture/equipment    280\n",
      "others                 234\n",
      "car (used)             181\n",
      "car (new)              103\n",
      "retraining              97\n",
      "repairs                 50\n",
      "domestic appliances     22\n",
      "business                12\n",
      "radio/television        12\n",
      "vacation                 9\n",
      "Name: count, dtype: int64\n",
      "\n",
      "--------------------------------------------------\n",
      "\n",
      "Categorias para 'savings':\n",
      "\n",
      "savings\n",
      "unknown/no savings account    603\n",
      "... >= 1000 DM                183\n",
      "... <  100 DM                 103\n",
      "100 <= ... <  500 DM           63\n",
      "500 <= ... < 1000 DM           48\n",
      "Name: count, dtype: int64\n",
      "\n",
      "--------------------------------------------------\n",
      "\n",
      "Categorias para 'employment_duration':\n",
      "\n",
      "employment_duration\n",
      "1 <= ... < 4 yrs    339\n",
      ">= 7 yrs            253\n",
      "4 <= ... < 7 yrs    174\n",
      "< 1 yr              172\n",
      "unemployed           62\n",
      "Name: count, dtype: int64\n",
      "\n",
      "--------------------------------------------------\n",
      "\n",
      "Categorias para 'installment_rate':\n",
      "\n",
      "installment_rate\n",
      "< 20              476\n",
      "25 <= ... < 35    231\n",
      "20 <= ... < 25    157\n",
      ">= 35             136\n",
      "Name: count, dtype: int64\n",
      "\n",
      "--------------------------------------------------\n",
      "\n",
      "Categorias para 'personal_status_sex':\n",
      "\n",
      "personal_status_sex\n",
      "male : married/widowed                  548\n",
      "female : non-single or male : single    310\n",
      "female : single                          92\n",
      "male : divorced/separated                50\n",
      "Name: count, dtype: int64\n",
      "\n",
      "--------------------------------------------------\n",
      "\n",
      "Categorias para 'other_debtors':\n",
      "\n",
      "other_debtors\n",
      "none            907\n",
      "guarantor        52\n",
      "co-applicant     41\n",
      "Name: count, dtype: int64\n",
      "\n",
      "--------------------------------------------------\n",
      "\n",
      "Categorias para 'present_residence':\n",
      "\n",
      "present_residence\n",
      ">= 7 yrs            413\n",
      "1 <= ... < 4 yrs    308\n",
      "4 <= ... < 7 yrs    149\n",
      "< 1 yr              130\n",
      "Name: count, dtype: int64\n",
      "\n",
      "--------------------------------------------------\n",
      "\n",
      "Categorias para 'property':\n",
      "\n",
      "property\n",
      "building soc. savings agr./life insurance    332\n",
      "unknown / no property                        282\n",
      "car or other                                 232\n",
      "real estate                                  154\n",
      "Name: count, dtype: int64\n",
      "\n",
      "--------------------------------------------------\n",
      "\n",
      "Categorias para 'other_installment_plans':\n",
      "\n",
      "other_installment_plans\n",
      "none      814\n",
      "bank      139\n",
      "stores     47\n",
      "Name: count, dtype: int64\n",
      "\n",
      "--------------------------------------------------\n",
      "\n",
      "Categorias para 'housing':\n",
      "\n",
      "housing\n",
      "rent        714\n",
      "for free    179\n",
      "own         107\n",
      "Name: count, dtype: int64\n",
      "\n",
      "--------------------------------------------------\n",
      "\n",
      "Categorias para 'number_credits':\n",
      "\n",
      "number_credits\n",
      "1        633\n",
      "3-Feb    333\n",
      "5-Apr     28\n",
      ">= 6       6\n",
      "Name: count, dtype: int64\n",
      "\n",
      "--------------------------------------------------\n",
      "\n",
      "Categorias para 'job':\n",
      "\n",
      "job\n",
      "skilled employee/official                     630\n",
      "unskilled - resident                          200\n",
      "manager/self-empl./highly qualif. employee    148\n",
      "unemployed/unskilled - non-resident            22\n",
      "Name: count, dtype: int64\n",
      "\n",
      "--------------------------------------------------\n",
      "\n",
      "Categorias para 'people_liable':\n",
      "\n",
      "people_liable\n",
      "0 to 2       845\n",
      "3 or more    155\n",
      "Name: count, dtype: int64\n",
      "\n",
      "--------------------------------------------------\n",
      "\n",
      "Categorias para 'telephone':\n",
      "\n",
      "telephone\n",
      "no                           596\n",
      "yes (under customer name)    404\n",
      "Name: count, dtype: int64\n",
      "\n",
      "--------------------------------------------------\n",
      "\n",
      "Categorias para 'foreign_worker':\n",
      "\n",
      "foreign_worker\n",
      "no     963\n",
      "yes     37\n",
      "Name: count, dtype: int64\n",
      "\n",
      "--------------------------------------------------\n",
      "\n",
      "Categorias para 'credit_risk':\n",
      "\n",
      "credit_risk\n",
      "good    700\n",
      "bad     300\n",
      "Name: count, dtype: int64\n",
      "\n",
      "--------------------------------------------------\n",
      "\n"
     ]
    }
   ],
   "source": [
    "categorical_columns = df.select_dtypes(include=['object']).columns\n",
    "\n",
    "for column in categorical_columns:\n",
    "    print(f\"Categorias para '{column}':\\n\")\n",
    "    print(df[column].value_counts())\n",
    "    print(\"\\n\" + \"-\"*50 + \"\\n\")  "
   ]
  },
  {
   "cell_type": "markdown",
   "metadata": {},
   "source": [
    "Tipo de Variable -Método de Tratamiento (a prior)\n",
    "- Variables Ordinales Discretizadas Cuantitativas: Considerarlas como categóricas y aplicar OneHotEncoder o OrdinalEncoder si siguen un orden claro\n",
    "- Variables Categoricas: OneHotEncoder\n",
    "- Variables Numericas: StandardScaler"
   ]
  },
  {
   "cell_type": "code",
   "execution_count": 5,
   "metadata": {},
   "outputs": [
    {
     "data": {
      "text/html": [
       "<div>\n",
       "<style scoped>\n",
       "    .dataframe tbody tr th:only-of-type {\n",
       "        vertical-align: middle;\n",
       "    }\n",
       "\n",
       "    .dataframe tbody tr th {\n",
       "        vertical-align: top;\n",
       "    }\n",
       "\n",
       "    .dataframe thead th {\n",
       "        text-align: right;\n",
       "    }\n",
       "</style>\n",
       "<table border=\"1\" class=\"dataframe\">\n",
       "  <thead>\n",
       "    <tr style=\"text-align: right;\">\n",
       "      <th></th>\n",
       "      <th>duration</th>\n",
       "      <th>amount</th>\n",
       "      <th>age</th>\n",
       "    </tr>\n",
       "  </thead>\n",
       "  <tbody>\n",
       "    <tr>\n",
       "      <th>count</th>\n",
       "      <td>1000.000000</td>\n",
       "      <td>1000.00000</td>\n",
       "      <td>1000.00000</td>\n",
       "    </tr>\n",
       "    <tr>\n",
       "      <th>mean</th>\n",
       "      <td>20.903000</td>\n",
       "      <td>3271.24800</td>\n",
       "      <td>35.54200</td>\n",
       "    </tr>\n",
       "    <tr>\n",
       "      <th>std</th>\n",
       "      <td>12.058814</td>\n",
       "      <td>2822.75176</td>\n",
       "      <td>11.35267</td>\n",
       "    </tr>\n",
       "    <tr>\n",
       "      <th>min</th>\n",
       "      <td>4.000000</td>\n",
       "      <td>250.00000</td>\n",
       "      <td>19.00000</td>\n",
       "    </tr>\n",
       "    <tr>\n",
       "      <th>25%</th>\n",
       "      <td>12.000000</td>\n",
       "      <td>1365.50000</td>\n",
       "      <td>27.00000</td>\n",
       "    </tr>\n",
       "    <tr>\n",
       "      <th>50%</th>\n",
       "      <td>18.000000</td>\n",
       "      <td>2319.50000</td>\n",
       "      <td>33.00000</td>\n",
       "    </tr>\n",
       "    <tr>\n",
       "      <th>75%</th>\n",
       "      <td>24.000000</td>\n",
       "      <td>3972.25000</td>\n",
       "      <td>42.00000</td>\n",
       "    </tr>\n",
       "    <tr>\n",
       "      <th>max</th>\n",
       "      <td>72.000000</td>\n",
       "      <td>18424.00000</td>\n",
       "      <td>75.00000</td>\n",
       "    </tr>\n",
       "  </tbody>\n",
       "</table>\n",
       "</div>"
      ],
      "text/plain": [
       "          duration       amount         age\n",
       "count  1000.000000   1000.00000  1000.00000\n",
       "mean     20.903000   3271.24800    35.54200\n",
       "std      12.058814   2822.75176    11.35267\n",
       "min       4.000000    250.00000    19.00000\n",
       "25%      12.000000   1365.50000    27.00000\n",
       "50%      18.000000   2319.50000    33.00000\n",
       "75%      24.000000   3972.25000    42.00000\n",
       "max      72.000000  18424.00000    75.00000"
      ]
     },
     "execution_count": 5,
     "metadata": {},
     "output_type": "execute_result"
    }
   ],
   "source": [
    "df.describe()"
   ]
  },
  {
   "cell_type": "code",
   "execution_count": 6,
   "metadata": {},
   "outputs": [
    {
     "data": {
      "image/png": "[encoded data removed]",
      "text/plain": [
       "<Figure size 1500x1200 with 4 Axes>"
      ]
     },
     "metadata": {},
     "output_type": "display_data"
    }
   ],
   "source": [
    "import matplotlib.pyplot as plt\n",
    "\n",
    "plt.rc('font', size=14)\n",
    "plt.rc('axes', labelsize=14, titlesize=14)\n",
    "plt.rc('legend', fontsize=14)\n",
    "plt.rc('xtick', labelsize=10)\n",
    "plt.rc('ytick', labelsize=10)\n",
    "\n",
    "df.hist(bins=50, figsize=(15,12))\n",
    "plt.show()"
   ]
  },
  {
   "cell_type": "markdown",
   "metadata": {},
   "source": [
    "## Create a Test Set "
   ]
  },
  {
   "cell_type": "markdown",
   "metadata": {},
   "source": [
    "Stratified Sampling"
   ]
  },
  {
   "cell_type": "code",
   "execution_count": 7,
   "metadata": {},
   "outputs": [],
   "source": [
    "from sklearn.model_selection import train_test_split\n",
    "\n",
    "train_set, test_set = train_test_split(\n",
    "    df, test_size=0.2, stratify=df[\"credit_risk\"], random_state=42)"
   ]
  },
  {
   "cell_type": "markdown",
   "metadata": {},
   "source": [
    "SMOTE (Synthetic Minority Over-sampling Technique)"
   ]
  },
  {
   "cell_type": "code",
   "execution_count": 8,
   "metadata": {},
   "outputs": [],
   "source": [
    "from imblearn.over_sampling import RandomOverSampler\n",
    "\n",
    "ros = RandomOverSampler(random_state=42)\n",
    "\n",
    "X_train = train_set.drop('credit_risk', axis=1)\n",
    "y_train = train_set['credit_risk']  \n",
    "\n",
    "X_train_50, y_train_50 = ros.fit_resample(X_train, y_train)"
   ]
  },
  {
   "cell_type": "code",
   "execution_count": 9,
   "metadata": {},
   "outputs": [
    {
     "data": {
      "text/html": [
       "<div>\n",
       "<style scoped>\n",
       "    .dataframe tbody tr th:only-of-type {\n",
       "        vertical-align: middle;\n",
       "    }\n",
       "\n",
       "    .dataframe tbody tr th {\n",
       "        vertical-align: top;\n",
       "    }\n",
       "\n",
       "    .dataframe thead th {\n",
       "        text-align: right;\n",
       "    }\n",
       "</style>\n",
       "<table border=\"1\" class=\"dataframe\">\n",
       "  <thead>\n",
       "    <tr style=\"text-align: right;\">\n",
       "      <th></th>\n",
       "      <th>Overall %</th>\n",
       "      <th>Stratified %</th>\n",
       "      <th>SMOTE %</th>\n",
       "    </tr>\n",
       "    <tr>\n",
       "      <th>Credit Risk</th>\n",
       "      <th></th>\n",
       "      <th></th>\n",
       "      <th></th>\n",
       "    </tr>\n",
       "  </thead>\n",
       "  <tbody>\n",
       "    <tr>\n",
       "      <th>bad</th>\n",
       "      <td>30.0</td>\n",
       "      <td>30.0</td>\n",
       "      <td>50.0</td>\n",
       "    </tr>\n",
       "    <tr>\n",
       "      <th>good</th>\n",
       "      <td>70.0</td>\n",
       "      <td>70.0</td>\n",
       "      <td>50.0</td>\n",
       "    </tr>\n",
       "  </tbody>\n",
       "</table>\n",
       "</div>"
      ],
      "text/plain": [
       "             Overall %  Stratified %  SMOTE %\n",
       "Credit Risk                                  \n",
       "bad               30.0          30.0     50.0\n",
       "good              70.0          70.0     50.0"
      ]
     },
     "execution_count": 9,
     "metadata": {},
     "output_type": "execute_result"
    }
   ],
   "source": [
    "def credit_risk_proportions(data):\n",
    "    return data[\"credit_risk\"].value_counts() / len(data)\n",
    "\n",
    "smote = (y_train_50.value_counts() / len(y_train_50)).astype(float)\n",
    "\n",
    "compare_props = pd.DataFrame({\n",
    "    \"Overall %\": credit_risk_proportions(df),\n",
    "    \"Stratified %\": credit_risk_proportions(test_set),\n",
    "    \"SMOTE %\": smote,\n",
    "}).sort_index()\n",
    "compare_props.index.name = \"Credit Risk\"\n",
    "(compare_props * 100).round(2)"
   ]
  },
  {
   "cell_type": "markdown",
   "metadata": {},
   "source": [
    "We'll start using the stratified sample and comeback to the SMOTE sample in the event we need more \"bad\" category data to train our classifier."
   ]
  },
  {
   "cell_type": "markdown",
   "metadata": {},
   "source": [
    "## Discover and Visualize the Data to Gain Insights"
   ]
  },
  {
   "cell_type": "code",
   "execution_count": 10,
   "metadata": {},
   "outputs": [],
   "source": [
    "credit = train_set.copy()"
   ]
  },
  {
   "cell_type": "code",
   "execution_count": 11,
   "metadata": {},
   "outputs": [
    {
     "data": {
      "image/png": "[encoded data removed]",
      "text/plain": [
       "<Figure size 1000x600 with 9 Axes>"
      ]
     },
     "metadata": {},
     "output_type": "display_data"
    }
   ],
   "source": [
    "from pandas.plotting import scatter_matrix\n",
    "\n",
    "numerical_columns = credit.select_dtypes(include=['int64']).columns\n",
    "scatter_matrix(credit[numerical_columns], figsize=(10, 6))\n",
    "\n",
    "plt.show()"
   ]
  },
  {
   "cell_type": "code",
   "execution_count": 12,
   "metadata": {},
   "outputs": [
    {
     "data": {
      "image/png": "[encoded data removed]",
      "text/plain": [
       "<Figure size 800x400 with 2 Axes>"
      ]
     },
     "metadata": {},
     "output_type": "display_data"
    }
   ],
   "source": [
    "import seaborn as sns\n",
    "\n",
    "correlation_matrix = credit[numerical_columns].corr()\n",
    "\n",
    "plt.figure(figsize=(8, 4))\n",
    "sns.heatmap(correlation_matrix, annot=True, cmap='coolwarm')\n",
    "plt.title('Heatmap: Correlation Matrix')\n",
    "plt.show()"
   ]
  },
  {
   "cell_type": "code",
   "execution_count": 13,
   "metadata": {},
   "outputs": [
    {
     "data": {
      "image/png": "[encoded data removed]",
      "text/plain": [
       "<Figure size 640x480 with 1 Axes>"
      ]
     },
     "metadata": {},
     "output_type": "display_data"
    }
   ],
   "source": [
    "credit.plot(kind=\"scatter\", x=\"duration\", y=\"amount\",\n",
    "            grid=True)\n",
    "plt.show()"
   ]
  },
  {
   "cell_type": "markdown",
   "metadata": {},
   "source": [
    "## Prepare the Data for Machine Learning Algorithms"
   ]
  },
  {
   "cell_type": "code",
   "execution_count": 14,
   "metadata": {},
   "outputs": [],
   "source": [
    "credit = train_set.drop(\"credit_risk\", axis=1)\n",
    "credit_label = train_set[\"credit_risk\"].copy()"
   ]
  },
  {
   "cell_type": "markdown",
   "metadata": {},
   "source": [
    "### Data Cleaning"
   ]
  },
  {
   "cell_type": "code",
   "execution_count": 15,
   "metadata": {},
   "outputs": [],
   "source": [
    "import numpy as np\n",
    "\n",
    "credit_num = credit.select_dtypes(include=[np.number])"
   ]
  },
  {
   "cell_type": "code",
   "execution_count": 16,
   "metadata": {},
   "outputs": [],
   "source": [
    "from sklearn.ensemble import IsolationForest\n",
    "\n",
    "isolation_forest = IsolationForest(random_state=42)\n",
    "outlier_pred = isolation_forest.fit_predict(credit_num)"
   ]
  },
  {
   "cell_type": "code",
   "execution_count": 17,
   "metadata": {},
   "outputs": [
    {
     "data": {
      "text/plain": [
       "186"
      ]
     },
     "execution_count": 17,
     "metadata": {},
     "output_type": "execute_result"
    }
   ],
   "source": [
    "np.sum(outlier_pred == -1)"
   ]
  },
  {
   "cell_type": "code",
   "execution_count": 18,
   "metadata": {},
   "outputs": [],
   "source": [
    "from sklearn.preprocessing import StandardScaler\n",
    "\n",
    "std_scaler = StandardScaler()\n",
    "credit_num_std_scaled = std_scaler.fit_transform(credit_num)"
   ]
  },
  {
   "cell_type": "code",
   "execution_count": 19,
   "metadata": {},
   "outputs": [
    {
     "data": {
      "image/png": "[encoded data removed]",
      "text/plain": [
       "<Figure size 800x300 with 2 Axes>"
      ]
     },
     "metadata": {},
     "output_type": "display_data"
    }
   ],
   "source": [
    "fig, axs = plt.subplots(1, 2, figsize=(8, 3), sharey=True)\n",
    "credit[\"amount\"].hist(ax=axs[0], bins=50)\n",
    "credit[\"amount\"].apply(np.log).hist(ax=axs[1], bins=50)\n",
    "axs[0].set_xlabel(\"Amount\")\n",
    "axs[1].set_xlabel(\"Log of amount\")\n",
    "\n",
    "plt.show()"
   ]
  },
  {
   "cell_type": "code",
   "execution_count": 20,
   "metadata": {},
   "outputs": [
    {
     "data": {
      "image/png": "[encoded data removed]",
      "text/plain": [
       "<Figure size 800x300 with 2 Axes>"
      ]
     },
     "metadata": {},
     "output_type": "display_data"
    }
   ],
   "source": [
    "fig, axs = plt.subplots(1, 2, figsize=(8, 3), sharey=True)\n",
    "credit[\"duration\"].hist(ax=axs[0], bins=50)\n",
    "credit[\"duration\"].apply(np.log).hist(ax=axs[1], bins=50)\n",
    "axs[0].set_xlabel(\"Duration\")\n",
    "axs[1].set_xlabel(\"Log of duration\")\n",
    "\n",
    "plt.show()"
   ]
  },
  {
   "cell_type": "code",
   "execution_count": 21,
   "metadata": {},
   "outputs": [],
   "source": [
    "from sklearn.preprocessing import FunctionTransformer\n",
    "\n",
    "log_transformer = FunctionTransformer(np.log, inverse_func=np.exp)\n",
    "log_pop = log_transformer.transform(credit[[\"duration\"]])"
   ]
  },
  {
   "cell_type": "code",
   "execution_count": 22,
   "metadata": {},
   "outputs": [
    {
     "data": {
      "text/html": [
       "<div>\n",
       "<style scoped>\n",
       "    .dataframe tbody tr th:only-of-type {\n",
       "        vertical-align: middle;\n",
       "    }\n",
       "\n",
       "    .dataframe tbody tr th {\n",
       "        vertical-align: top;\n",
       "    }\n",
       "\n",
       "    .dataframe thead th {\n",
       "        text-align: right;\n",
       "    }\n",
       "</style>\n",
       "<table border=\"1\" class=\"dataframe\">\n",
       "  <thead>\n",
       "    <tr style=\"text-align: right;\">\n",
       "      <th></th>\n",
       "      <th>duration</th>\n",
       "    </tr>\n",
       "  </thead>\n",
       "  <tbody>\n",
       "    <tr>\n",
       "      <th>485</th>\n",
       "      <td>2.484907</td>\n",
       "    </tr>\n",
       "    <tr>\n",
       "      <th>510</th>\n",
       "      <td>1.791759</td>\n",
       "    </tr>\n",
       "  </tbody>\n",
       "</table>\n",
       "</div>"
      ],
      "text/plain": [
       "     duration\n",
       "485  2.484907\n",
       "510  1.791759"
      ]
     },
     "execution_count": 22,
     "metadata": {},
     "output_type": "execute_result"
    }
   ],
   "source": [
    "log_pop[:2]"
   ]
  },
  {
   "cell_type": "markdown",
   "metadata": {},
   "source": [
    "#### Handling Text and Categorical Attributes"
   ]
  },
  {
   "cell_type": "code",
   "execution_count": 23,
   "metadata": {},
   "outputs": [
    {
     "data": {
      "text/plain": [
       "job\n",
       "skilled employee/official                     503\n",
       "unskilled - resident                          160\n",
       "manager/self-empl./highly qualif. employee    117\n",
       "unemployed/unskilled - non-resident            20\n",
       "Name: count, dtype: int64"
      ]
     },
     "execution_count": 23,
     "metadata": {},
     "output_type": "execute_result"
    }
   ],
   "source": [
    "credit['job'].value_counts()"
   ]
  },
  {
   "cell_type": "code",
   "execution_count": 24,
   "metadata": {},
   "outputs": [],
   "source": [
    "from sklearn.preprocessing import OneHotEncoder\n",
    "\n",
    "cat_encoder = OneHotEncoder(sparse_output=False)\n",
    "credit_cat_1hot = cat_encoder.fit_transform(credit[['job']])"
   ]
  },
  {
   "cell_type": "code",
   "execution_count": 25,
   "metadata": {},
   "outputs": [
    {
     "data": {
      "text/plain": [
       "[array(['manager/self-empl./highly qualif. employee',\n",
       "        'skilled employee/official', 'unemployed/unskilled - non-resident',\n",
       "        'unskilled - resident'], dtype=object)]"
      ]
     },
     "execution_count": 25,
     "metadata": {},
     "output_type": "execute_result"
    }
   ],
   "source": [
    "cat_encoder.categories_"
   ]
  },
  {
   "cell_type": "code",
   "execution_count": 26,
   "metadata": {},
   "outputs": [
    {
     "data": {
      "text/plain": [
       "array(['job'], dtype=object)"
      ]
     },
     "execution_count": 26,
     "metadata": {},
     "output_type": "execute_result"
    }
   ],
   "source": [
    "cat_encoder.feature_names_in_"
   ]
  },
  {
   "cell_type": "code",
   "execution_count": 27,
   "metadata": {},
   "outputs": [],
   "source": [
    "df_test_unknown = pd.DataFrame({\"job\": [\"skilled employee/official\", \"unskilled - resident\"]})"
   ]
  },
  {
   "cell_type": "code",
   "execution_count": 28,
   "metadata": {},
   "outputs": [
    {
     "data": {
      "text/plain": [
       "array([[0., 1., 0., 0.],\n",
       "       [0., 0., 0., 1.]])"
      ]
     },
     "execution_count": 28,
     "metadata": {},
     "output_type": "execute_result"
    }
   ],
   "source": [
    "cat_encoder.handle_unknown = \"ignore\"\n",
    "cat_encoder.transform(df_test_unknown)"
   ]
  },
  {
   "cell_type": "code",
   "execution_count": 29,
   "metadata": {},
   "outputs": [],
   "source": [
    "df_output = pd.DataFrame(cat_encoder.transform(df_test_unknown),\n",
    "                         columns=cat_encoder.get_feature_names_out(),\n",
    "                         index=df_test_unknown.index)"
   ]
  },
  {
   "cell_type": "code",
   "execution_count": 30,
   "metadata": {},
   "outputs": [
    {
     "data": {
      "text/html": [
       "<div>\n",
       "<style scoped>\n",
       "    .dataframe tbody tr th:only-of-type {\n",
       "        vertical-align: middle;\n",
       "    }\n",
       "\n",
       "    .dataframe tbody tr th {\n",
       "        vertical-align: top;\n",
       "    }\n",
       "\n",
       "    .dataframe thead th {\n",
       "        text-align: right;\n",
       "    }\n",
       "</style>\n",
       "<table border=\"1\" class=\"dataframe\">\n",
       "  <thead>\n",
       "    <tr style=\"text-align: right;\">\n",
       "      <th></th>\n",
       "      <th>job_manager/self-empl./highly qualif. employee</th>\n",
       "      <th>job_skilled employee/official</th>\n",
       "      <th>job_unemployed/unskilled - non-resident</th>\n",
       "      <th>job_unskilled - resident</th>\n",
       "    </tr>\n",
       "  </thead>\n",
       "  <tbody>\n",
       "    <tr>\n",
       "      <th>0</th>\n",
       "      <td>0.0</td>\n",
       "      <td>1.0</td>\n",
       "      <td>0.0</td>\n",
       "      <td>0.0</td>\n",
       "    </tr>\n",
       "    <tr>\n",
       "      <th>1</th>\n",
       "      <td>0.0</td>\n",
       "      <td>0.0</td>\n",
       "      <td>0.0</td>\n",
       "      <td>1.0</td>\n",
       "    </tr>\n",
       "  </tbody>\n",
       "</table>\n",
       "</div>"
      ],
      "text/plain": [
       "   job_manager/self-empl./highly qualif. employee  \\\n",
       "0                                             0.0   \n",
       "1                                             0.0   \n",
       "\n",
       "   job_skilled employee/official  job_unemployed/unskilled - non-resident  \\\n",
       "0                            1.0                                      0.0   \n",
       "1                            0.0                                      0.0   \n",
       "\n",
       "   job_unskilled - resident  \n",
       "0                       0.0  \n",
       "1                       1.0  "
      ]
     },
     "execution_count": 30,
     "metadata": {},
     "output_type": "execute_result"
    }
   ],
   "source": [
    "df_output"
   ]
  },
  {
   "cell_type": "code",
   "execution_count": 31,
   "metadata": {},
   "outputs": [
    {
     "data": {
      "text/plain": [
       "employment_duration\n",
       "1 <= ... < 4 yrs    269\n",
       ">= 7 yrs            202\n",
       "4 <= ... < 7 yrs    141\n",
       "< 1 yr              135\n",
       "unemployed           53\n",
       "Name: count, dtype: int64"
      ]
     },
     "execution_count": 31,
     "metadata": {},
     "output_type": "execute_result"
    }
   ],
   "source": [
    "credit['employment_duration'].value_counts()"
   ]
  },
  {
   "cell_type": "code",
   "execution_count": 32,
   "metadata": {},
   "outputs": [],
   "source": [
    "from sklearn.preprocessing import OrdinalEncoder\n",
    "\n",
    "ordered_categories = [['unemployed', '< 1 yr', '1 <= ... < 4 yrs', '4 <= ... < 7 yrs', '>= 7 yrs']]\n",
    "\n",
    "ordinal_encoder = OrdinalEncoder(categories=ordered_categories)\n",
    "credit_cat_encoded = ordinal_encoder.fit_transform(credit[['employment_duration']])"
   ]
  },
  {
   "cell_type": "code",
   "execution_count": 33,
   "metadata": {},
   "outputs": [
    {
     "data": {
      "text/plain": [
       "array([[2.],\n",
       "       [2.],\n",
       "       [1.],\n",
       "       [2.],\n",
       "       [2.]])"
      ]
     },
     "execution_count": 33,
     "metadata": {},
     "output_type": "execute_result"
    }
   ],
   "source": [
    "credit_cat_encoded[:5]"
   ]
  },
  {
   "cell_type": "code",
   "execution_count": 34,
   "metadata": {},
   "outputs": [
    {
     "data": {
      "text/plain": [
       "[array(['unemployed', '< 1 yr', '1 <= ... < 4 yrs', '4 <= ... < 7 yrs',\n",
       "        '>= 7 yrs'], dtype=object)]"
      ]
     },
     "execution_count": 34,
     "metadata": {},
     "output_type": "execute_result"
    }
   ],
   "source": [
    "ordinal_encoder.categories_"
   ]
  },
  {
   "cell_type": "markdown",
   "metadata": {},
   "source": [
    "#### Transformation Pipeline"
   ]
  },
  {
   "cell_type": "code",
   "execution_count": 35,
   "metadata": {},
   "outputs": [],
   "source": [
    "from sklearn.impute import SimpleImputer\n",
    "from sklearn.pipeline import make_pipeline\n",
    "\n",
    "cat_attribs = ['status', 'credit_history', 'purpose', 'savings', 'property', 'job',\n",
    "                'other_debtors', 'other_installment_plans', 'housing', 'people_liable', 'telephone', 'foreign_worker']\n",
    "\n",
    "cat_pipeline = make_pipeline(\n",
    "    SimpleImputer(strategy=\"most_frequent\"),\n",
    "    OneHotEncoder(handle_unknown=\"ignore\"))\n"
   ]
  },
  {
   "cell_type": "code",
   "execution_count": 36,
   "metadata": {},
   "outputs": [],
   "source": [
    "ordinal_columns = ['employment_duration', 'installment_rate', 'present_residence', 'number_credits']\n",
    "\n",
    "categories_dict = {\n",
    "    'employment_duration': ['unemployed', '< 1 yr', '1 <= ... < 4 yrs', '4 <= ... < 7 yrs', '>= 7 yrs'],\n",
    "    'installment_rate': ['< 20', '20 <= ... < 25', '25 <= ... < 35', '>= 35'],\n",
    "    'present_residence': ['< 1 yr', '1 <= ... < 4 yrs', '4 <= ... < 7 yrs', '>= 7 yrs'],\n",
    "    'number_credits': ['1', '3-Feb', '5-Apr', '>= 6']\n",
    "}"
   ]
  },
  {
   "cell_type": "code",
   "execution_count": 37,
   "metadata": {},
   "outputs": [],
   "source": [
    "ord_pipeline = make_pipeline(\n",
    "    SimpleImputer(strategy=\"most_frequent\"),\n",
    "    OrdinalEncoder(categories=[categories_dict[col] for col in ordinal_columns]))"
   ]
  },
  {
   "cell_type": "code",
   "execution_count": 49,
   "metadata": {},
   "outputs": [],
   "source": [
    "from sklearn.compose import ColumnTransformer\n",
    "\n",
    "def column_ratio(X):\n",
    "    X = np.array(X)\n",
    "    ratio = X[:, 0] / X[:, 1]\n",
    "    return ratio.reshape(-1, 1)\n",
    "\n",
    "def ratio_name(function_transformer, feature_names_in):\n",
    "    return [\"ratio\"]  # feature names out\n",
    "\n",
    "def ratio_pipeline():\n",
    "    return make_pipeline(\n",
    "        FunctionTransformer(column_ratio, feature_names_out=ratio_name),\n",
    "        StandardScaler())\n",
    "\n",
    "log_pipeline = make_pipeline(\n",
    "    FunctionTransformer(np.log, feature_names_out=\"one-to-one\"),\n",
    "    StandardScaler())\n",
    "\n",
    "preprocessing = ColumnTransformer([\n",
    "        (\"annual_amount\", ratio_pipeline(), [\"amount\", \"duration\"]),\n",
    "        (\"log\", log_pipeline, [\"amount\", \"duration\", \"age\"]),\n",
    "        (\"cat\", cat_pipeline, cat_attribs),\n",
    "        (\"ord\", ord_pipeline, ordinal_columns),\n",
    "        (\"drop_personal_status_sex\", \"drop\", [\"personal_status_sex\"]) ,\n",
    "    ],\n",
    "    remainder='passthrough')"
   ]
  },
  {
   "cell_type": "code",
   "execution_count": 50,
   "metadata": {},
   "outputs": [
    {
     "data": {
      "text/plain": [
       "(800, 55)"
      ]
     },
     "execution_count": 50,
     "metadata": {},
     "output_type": "execute_result"
    }
   ],
   "source": [
    "credit_prepared = preprocessing.fit_transform(credit)\n",
    "credit_prepared.shape"
   ]
  },
  {
   "cell_type": "code",
   "execution_count": 51,
   "metadata": {},
   "outputs": [
    {
     "data": {
      "text/plain": [
       "(800, 20)"
      ]
     },
     "execution_count": 51,
     "metadata": {},
     "output_type": "execute_result"
    }
   ],
   "source": [
    "credit.shape"
   ]
  },
  {
   "cell_type": "code",
   "execution_count": 52,
   "metadata": {},
   "outputs": [
    {
     "data": {
      "text/plain": [
       "array(['annual_amount__ratio', 'log__amount', 'log__duration', 'log__age',\n",
       "       'cat__status_... < 0 DM',\n",
       "       'cat__status_... >= 200 DM / salary for at least 1 year',\n",
       "       'cat__status_0<= ... < 200 DM', 'cat__status_no checking account',\n",
       "       'cat__credit_history_all credits at this bank paid back duly',\n",
       "       'cat__credit_history_critical account/other credits elsewhere',\n",
       "       'cat__credit_history_delay in paying off in the past',\n",
       "       'cat__credit_history_existing credits paid back duly till now',\n",
       "       'cat__credit_history_no credits taken/all credits paid back duly',\n",
       "       'cat__purpose_business', 'cat__purpose_car (new)',\n",
       "       'cat__purpose_car (used)', 'cat__purpose_domestic appliances',\n",
       "       'cat__purpose_furniture/equipment', 'cat__purpose_others',\n",
       "       'cat__purpose_radio/television', 'cat__purpose_repairs',\n",
       "       'cat__purpose_retraining', 'cat__purpose_vacation',\n",
       "       'cat__savings_... <  100 DM', 'cat__savings_... >= 1000 DM',\n",
       "       'cat__savings_100 <= ... <  500 DM',\n",
       "       'cat__savings_500 <= ... < 1000 DM',\n",
       "       'cat__savings_unknown/no savings account',\n",
       "       'cat__property_building soc. savings agr./life insurance',\n",
       "       'cat__property_car or other', 'cat__property_real estate',\n",
       "       'cat__property_unknown / no property',\n",
       "       'cat__job_manager/self-empl./highly qualif. employee',\n",
       "       'cat__job_skilled employee/official',\n",
       "       'cat__job_unemployed/unskilled - non-resident',\n",
       "       'cat__job_unskilled - resident', 'cat__other_debtors_co-applicant',\n",
       "       'cat__other_debtors_guarantor', 'cat__other_debtors_none',\n",
       "       'cat__other_installment_plans_bank',\n",
       "       'cat__other_installment_plans_none',\n",
       "       'cat__other_installment_plans_stores', 'cat__housing_for free',\n",
       "       'cat__housing_own', 'cat__housing_rent',\n",
       "       'cat__people_liable_0 to 2', 'cat__people_liable_3 or more',\n",
       "       'cat__telephone_no', 'cat__telephone_yes (under customer name)',\n",
       "       'cat__foreign_worker_no', 'cat__foreign_worker_yes',\n",
       "       'ord__employment_duration', 'ord__installment_rate',\n",
       "       'ord__present_residence', 'ord__number_credits'], dtype=object)"
      ]
     },
     "execution_count": 52,
     "metadata": {},
     "output_type": "execute_result"
    }
   ],
   "source": [
    "preprocessing.get_feature_names_out()"
   ]
  },
  {
   "cell_type": "markdown",
   "metadata": {},
   "source": [
    "## Select and Train a Classifier"
   ]
  },
  {
   "cell_type": "code",
   "execution_count": 62,
   "metadata": {},
   "outputs": [],
   "source": [
    "y_test = test_set[\"credit_risk\"].copy()\n",
    "X_train = credit.copy()\n",
    "\n",
    "y_train_good = (credit_label == 'good') \n",
    "y_test_good = (y_test == 'good')"
   ]
  },
  {
   "cell_type": "markdown",
   "metadata": {},
   "source": [
    "### Training a Binary Classifier"
   ]
  },
  {
   "cell_type": "code",
   "execution_count": 63,
   "metadata": {},
   "outputs": [
    {
     "data": {
      "text/html": [
       "<style>#sk-container-id-2 {\n",
       "  /* Definition of color scheme common for light and dark mode */\n",
       "  --sklearn-color-text: #000;\n",
       "  --sklearn-color-text-muted: #666;\n",
       "  --sklearn-color-line: gray;\n",
       "  /* Definition of color scheme for unfitted estimators */\n",
       "  --sklearn-color-unfitted-level-0: #fff5e6;\n",
       "  --sklearn-color-unfitted-level-1: #f6e4d2;\n",
       "  --sklearn-color-unfitted-level-2: #ffe0b3;\n",
       "  --sklearn-color-unfitted-level-3: chocolate;\n",
       "  /* Definition of color scheme for fitted estimators */\n",
       "  --sklearn-color-fitted-level-0: #f0f8ff;\n",
       "  --sklearn-color-fitted-level-1: #d4ebff;\n",
       "  --sklearn-color-fitted-level-2: #b3dbfd;\n",
       "  --sklearn-color-fitted-level-3: cornflowerblue;\n",
       "\n",
       "  /* Specific color for light theme */\n",
       "  --sklearn-color-text-on-default-background: var(--sg-text-color, var(--theme-code-foreground, var(--jp-content-font-color1, black)));\n",
       "  --sklearn-color-background: var(--sg-background-color, var(--theme-background, var(--jp-layout-color0, white)));\n",
       "  --sklearn-color-border-box: var(--sg-text-color, var(--theme-code-foreground, var(--jp-content-font-color1, black)));\n",
       "  --sklearn-color-icon: #696969;\n",
       "\n",
       "  @media (prefers-color-scheme: dark) {\n",
       "    /* Redefinition of color scheme for dark theme */\n",
       "    --sklearn-color-text-on-default-background: var(--sg-text-color, var(--theme-code-foreground, var(--jp-content-font-color1, white)));\n",
       "    --sklearn-color-background: var(--sg-background-color, var(--theme-background, var(--jp-layout-color0, #111)));\n",
       "    --sklearn-color-border-box: var(--sg-text-color, var(--theme-code-foreground, var(--jp-content-font-color1, white)));\n",
       "    --sklearn-color-icon: #878787;\n",
       "  }\n",
       "}\n",
       "\n",
       "#sk-container-id-2 {\n",
       "  color: var(--sklearn-color-text);\n",
       "}\n",
       "\n",
       "#sk-container-id-2 pre {\n",
       "  padding: 0;\n",
       "}\n",
       "\n",
       "#sk-container-id-2 input.sk-hidden--visually {\n",
       "  border: 0;\n",
       "  clip: rect(1px 1px 1px 1px);\n",
       "  clip: rect(1px, 1px, 1px, 1px);\n",
       "  height: 1px;\n",
       "  margin: -1px;\n",
       "  overflow: hidden;\n",
       "  padding: 0;\n",
       "  position: absolute;\n",
       "  width: 1px;\n",
       "}\n",
       "\n",
       "#sk-container-id-2 div.sk-dashed-wrapped {\n",
       "  border: 1px dashed var(--sklearn-color-line);\n",
       "  margin: 0 0.4em 0.5em 0.4em;\n",
       "  box-sizing: border-box;\n",
       "  padding-bottom: 0.4em;\n",
       "  background-color: var(--sklearn-color-background);\n",
       "}\n",
       "\n",
       "#sk-container-id-2 div.sk-container {\n",
       "  /* jupyter's `normalize.less` sets `[hidden] { display: none; }`\n",
       "     but bootstrap.min.css set `[hidden] { display: none !important; }`\n",
       "     so we also need the `!important` here to be able to override the\n",
       "     default hidden behavior on the sphinx rendered scikit-learn.org.\n",
       "     See: https://github.com/scikit-learn/scikit-learn/issues/21755 */\n",
       "  display: inline-block !important;\n",
       "  position: relative;\n",
       "}\n",
       "\n",
       "#sk-container-id-2 div.sk-text-repr-fallback {\n",
       "  display: none;\n",
       "}\n",
       "\n",
       "div.sk-parallel-item,\n",
       "div.sk-serial,\n",
       "div.sk-item {\n",
       "  /* draw centered vertical line to link estimators */\n",
       "  background-image: linear-gradient(var(--sklearn-color-text-on-default-background), var(--sklearn-color-text-on-default-background));\n",
       "  background-size: 2px 100%;\n",
       "  background-repeat: no-repeat;\n",
       "  background-position: center center;\n",
       "}\n",
       "\n",
       "/* Parallel-specific style estimator block */\n",
       "\n",
       "#sk-container-id-2 div.sk-parallel-item::after {\n",
       "  content: \"\";\n",
       "  width: 100%;\n",
       "  border-bottom: 2px solid var(--sklearn-color-text-on-default-background);\n",
       "  flex-grow: 1;\n",
       "}\n",
       "\n",
       "#sk-container-id-2 div.sk-parallel {\n",
       "  display: flex;\n",
       "  align-items: stretch;\n",
       "  justify-content: center;\n",
       "  background-color: var(--sklearn-color-background);\n",
       "  position: relative;\n",
       "}\n",
       "\n",
       "#sk-container-id-2 div.sk-parallel-item {\n",
       "  display: flex;\n",
       "  flex-direction: column;\n",
       "}\n",
       "\n",
       "#sk-container-id-2 div.sk-parallel-item:first-child::after {\n",
       "  align-self: flex-end;\n",
       "  width: 50%;\n",
       "}\n",
       "\n",
       "#sk-container-id-2 div.sk-parallel-item:last-child::after {\n",
       "  align-self: flex-start;\n",
       "  width: 50%;\n",
       "}\n",
       "\n",
       "#sk-container-id-2 div.sk-parallel-item:only-child::after {\n",
       "  width: 0;\n",
       "}\n",
       "\n",
       "/* Serial-specific style estimator block */\n",
       "\n",
       "#sk-container-id-2 div.sk-serial {\n",
       "  display: flex;\n",
       "  flex-direction: column;\n",
       "  align-items: center;\n",
       "  background-color: var(--sklearn-color-background);\n",
       "  padding-right: 1em;\n",
       "  padding-left: 1em;\n",
       "}\n",
       "\n",
       "\n",
       "/* Toggleable style: style used for estimator/Pipeline/ColumnTransformer box that is\n",
       "clickable and can be expanded/collapsed.\n",
       "- Pipeline and ColumnTransformer use this feature and define the default style\n",
       "- Estimators will overwrite some part of the style using the `sk-estimator` class\n",
       "*/\n",
       "\n",
       "/* Pipeline and ColumnTransformer style (default) */\n",
       "\n",
       "#sk-container-id-2 div.sk-toggleable {\n",
       "  /* Default theme specific background. It is overwritten whether we have a\n",
       "  specific estimator or a Pipeline/ColumnTransformer */\n",
       "  background-color: var(--sklearn-color-background);\n",
       "}\n",
       "\n",
       "/* Toggleable label */\n",
       "#sk-container-id-2 label.sk-toggleable__label {\n",
       "  cursor: pointer;\n",
       "  display: flex;\n",
       "  width: 100%;\n",
       "  margin-bottom: 0;\n",
       "  padding: 0.5em;\n",
       "  box-sizing: border-box;\n",
       "  text-align: center;\n",
       "  align-items: start;\n",
       "  justify-content: space-between;\n",
       "  gap: 0.5em;\n",
       "}\n",
       "\n",
       "#sk-container-id-2 label.sk-toggleable__label .caption {\n",
       "  font-size: 0.6rem;\n",
       "  font-weight: lighter;\n",
       "  color: var(--sklearn-color-text-muted);\n",
       "}\n",
       "\n",
       "#sk-container-id-2 label.sk-toggleable__label-arrow:before {\n",
       "  /* Arrow on the left of the label */\n",
       "  content: \"▸\";\n",
       "  float: left;\n",
       "  margin-right: 0.25em;\n",
       "  color: var(--sklearn-color-icon);\n",
       "}\n",
       "\n",
       "#sk-container-id-2 label.sk-toggleable__label-arrow:hover:before {\n",
       "  color: var(--sklearn-color-text);\n",
       "}\n",
       "\n",
       "/* Toggleable content - dropdown */\n",
       "\n",
       "#sk-container-id-2 div.sk-toggleable__content {\n",
       "  max-height: 0;\n",
       "  max-width: 0;\n",
       "  overflow: hidden;\n",
       "  text-align: left;\n",
       "  /* unfitted */\n",
       "  background-color: var(--sklearn-color-unfitted-level-0);\n",
       "}\n",
       "\n",
       "#sk-container-id-2 div.sk-toggleable__content.fitted {\n",
       "  /* fitted */\n",
       "  background-color: var(--sklearn-color-fitted-level-0);\n",
       "}\n",
       "\n",
       "#sk-container-id-2 div.sk-toggleable__content pre {\n",
       "  margin: 0.2em;\n",
       "  border-radius: 0.25em;\n",
       "  color: var(--sklearn-color-text);\n",
       "  /* unfitted */\n",
       "  background-color: var(--sklearn-color-unfitted-level-0);\n",
       "}\n",
       "\n",
       "#sk-container-id-2 div.sk-toggleable__content.fitted pre {\n",
       "  /* unfitted */\n",
       "  background-color: var(--sklearn-color-fitted-level-0);\n",
       "}\n",
       "\n",
       "#sk-container-id-2 input.sk-toggleable__control:checked~div.sk-toggleable__content {\n",
       "  /* Expand drop-down */\n",
       "  max-height: 200px;\n",
       "  max-width: 100%;\n",
       "  overflow: auto;\n",
       "}\n",
       "\n",
       "#sk-container-id-2 input.sk-toggleable__control:checked~label.sk-toggleable__label-arrow:before {\n",
       "  content: \"▾\";\n",
       "}\n",
       "\n",
       "/* Pipeline/ColumnTransformer-specific style */\n",
       "\n",
       "#sk-container-id-2 div.sk-label input.sk-toggleable__control:checked~label.sk-toggleable__label {\n",
       "  color: var(--sklearn-color-text);\n",
       "  background-color: var(--sklearn-color-unfitted-level-2);\n",
       "}\n",
       "\n",
       "#sk-container-id-2 div.sk-label.fitted input.sk-toggleable__control:checked~label.sk-toggleable__label {\n",
       "  background-color: var(--sklearn-color-fitted-level-2);\n",
       "}\n",
       "\n",
       "/* Estimator-specific style */\n",
       "\n",
       "/* Colorize estimator box */\n",
       "#sk-container-id-2 div.sk-estimator input.sk-toggleable__control:checked~label.sk-toggleable__label {\n",
       "  /* unfitted */\n",
       "  background-color: var(--sklearn-color-unfitted-level-2);\n",
       "}\n",
       "\n",
       "#sk-container-id-2 div.sk-estimator.fitted input.sk-toggleable__control:checked~label.sk-toggleable__label {\n",
       "  /* fitted */\n",
       "  background-color: var(--sklearn-color-fitted-level-2);\n",
       "}\n",
       "\n",
       "#sk-container-id-2 div.sk-label label.sk-toggleable__label,\n",
       "#sk-container-id-2 div.sk-label label {\n",
       "  /* The background is the default theme color */\n",
       "  color: var(--sklearn-color-text-on-default-background);\n",
       "}\n",
       "\n",
       "/* On hover, darken the color of the background */\n",
       "#sk-container-id-2 div.sk-label:hover label.sk-toggleable__label {\n",
       "  color: var(--sklearn-color-text);\n",
       "  background-color: var(--sklearn-color-unfitted-level-2);\n",
       "}\n",
       "\n",
       "/* Label box, darken color on hover, fitted */\n",
       "#sk-container-id-2 div.sk-label.fitted:hover label.sk-toggleable__label.fitted {\n",
       "  color: var(--sklearn-color-text);\n",
       "  background-color: var(--sklearn-color-fitted-level-2);\n",
       "}\n",
       "\n",
       "/* Estimator label */\n",
       "\n",
       "#sk-container-id-2 div.sk-label label {\n",
       "  font-family: monospace;\n",
       "  font-weight: bold;\n",
       "  display: inline-block;\n",
       "  line-height: 1.2em;\n",
       "}\n",
       "\n",
       "#sk-container-id-2 div.sk-label-container {\n",
       "  text-align: center;\n",
       "}\n",
       "\n",
       "/* Estimator-specific */\n",
       "#sk-container-id-2 div.sk-estimator {\n",
       "  font-family: monospace;\n",
       "  border: 1px dotted var(--sklearn-color-border-box);\n",
       "  border-radius: 0.25em;\n",
       "  box-sizing: border-box;\n",
       "  margin-bottom: 0.5em;\n",
       "  /* unfitted */\n",
       "  background-color: var(--sklearn-color-unfitted-level-0);\n",
       "}\n",
       "\n",
       "#sk-container-id-2 div.sk-estimator.fitted {\n",
       "  /* fitted */\n",
       "  background-color: var(--sklearn-color-fitted-level-0);\n",
       "}\n",
       "\n",
       "/* on hover */\n",
       "#sk-container-id-2 div.sk-estimator:hover {\n",
       "  /* unfitted */\n",
       "  background-color: var(--sklearn-color-unfitted-level-2);\n",
       "}\n",
       "\n",
       "#sk-container-id-2 div.sk-estimator.fitted:hover {\n",
       "  /* fitted */\n",
       "  background-color: var(--sklearn-color-fitted-level-2);\n",
       "}\n",
       "\n",
       "/* Specification for estimator info (e.g. \"i\" and \"?\") */\n",
       "\n",
       "/* Common style for \"i\" and \"?\" */\n",
       "\n",
       ".sk-estimator-doc-link,\n",
       "a:link.sk-estimator-doc-link,\n",
       "a:visited.sk-estimator-doc-link {\n",
       "  float: right;\n",
       "  font-size: smaller;\n",
       "  line-height: 1em;\n",
       "  font-family: monospace;\n",
       "  background-color: var(--sklearn-color-background);\n",
       "  border-radius: 1em;\n",
       "  height: 1em;\n",
       "  width: 1em;\n",
       "  text-decoration: none !important;\n",
       "  margin-left: 0.5em;\n",
       "  text-align: center;\n",
       "  /* unfitted */\n",
       "  border: var(--sklearn-color-unfitted-level-1) 1pt solid;\n",
       "  color: var(--sklearn-color-unfitted-level-1);\n",
       "}\n",
       "\n",
       ".sk-estimator-doc-link.fitted,\n",
       "a:link.sk-estimator-doc-link.fitted,\n",
       "a:visited.sk-estimator-doc-link.fitted {\n",
       "  /* fitted */\n",
       "  border: var(--sklearn-color-fitted-level-1) 1pt solid;\n",
       "  color: var(--sklearn-color-fitted-level-1);\n",
       "}\n",
       "\n",
       "/* On hover */\n",
       "div.sk-estimator:hover .sk-estimator-doc-link:hover,\n",
       ".sk-estimator-doc-link:hover,\n",
       "div.sk-label-container:hover .sk-estimator-doc-link:hover,\n",
       ".sk-estimator-doc-link:hover {\n",
       "  /* unfitted */\n",
       "  background-color: var(--sklearn-color-unfitted-level-3);\n",
       "  color: var(--sklearn-color-background);\n",
       "  text-decoration: none;\n",
       "}\n",
       "\n",
       "div.sk-estimator.fitted:hover .sk-estimator-doc-link.fitted:hover,\n",
       ".sk-estimator-doc-link.fitted:hover,\n",
       "div.sk-label-container:hover .sk-estimator-doc-link.fitted:hover,\n",
       ".sk-estimator-doc-link.fitted:hover {\n",
       "  /* fitted */\n",
       "  background-color: var(--sklearn-color-fitted-level-3);\n",
       "  color: var(--sklearn-color-background);\n",
       "  text-decoration: none;\n",
       "}\n",
       "\n",
       "/* Span, style for the box shown on hovering the info icon */\n",
       ".sk-estimator-doc-link span {\n",
       "  display: none;\n",
       "  z-index: 9999;\n",
       "  position: relative;\n",
       "  font-weight: normal;\n",
       "  right: .2ex;\n",
       "  padding: .5ex;\n",
       "  margin: .5ex;\n",
       "  width: min-content;\n",
       "  min-width: 20ex;\n",
       "  max-width: 50ex;\n",
       "  color: var(--sklearn-color-text);\n",
       "  box-shadow: 2pt 2pt 4pt #999;\n",
       "  /* unfitted */\n",
       "  background: var(--sklearn-color-unfitted-level-0);\n",
       "  border: .5pt solid var(--sklearn-color-unfitted-level-3);\n",
       "}\n",
       "\n",
       ".sk-estimator-doc-link.fitted span {\n",
       "  /* fitted */\n",
       "  background: var(--sklearn-color-fitted-level-0);\n",
       "  border: var(--sklearn-color-fitted-level-3);\n",
       "}\n",
       "\n",
       ".sk-estimator-doc-link:hover span {\n",
       "  display: block;\n",
       "}\n",
       "\n",
       "/* \"?\"-specific style due to the `<a>` HTML tag */\n",
       "\n",
       "#sk-container-id-2 a.estimator_doc_link {\n",
       "  float: right;\n",
       "  font-size: 1rem;\n",
       "  line-height: 1em;\n",
       "  font-family: monospace;\n",
       "  background-color: var(--sklearn-color-background);\n",
       "  border-radius: 1rem;\n",
       "  height: 1rem;\n",
       "  width: 1rem;\n",
       "  text-decoration: none;\n",
       "  /* unfitted */\n",
       "  color: var(--sklearn-color-unfitted-level-1);\n",
       "  border: var(--sklearn-color-unfitted-level-1) 1pt solid;\n",
       "}\n",
       "\n",
       "#sk-container-id-2 a.estimator_doc_link.fitted {\n",
       "  /* fitted */\n",
       "  border: var(--sklearn-color-fitted-level-1) 1pt solid;\n",
       "  color: var(--sklearn-color-fitted-level-1);\n",
       "}\n",
       "\n",
       "/* On hover */\n",
       "#sk-container-id-2 a.estimator_doc_link:hover {\n",
       "  /* unfitted */\n",
       "  background-color: var(--sklearn-color-unfitted-level-3);\n",
       "  color: var(--sklearn-color-background);\n",
       "  text-decoration: none;\n",
       "}\n",
       "\n",
       "#sk-container-id-2 a.estimator_doc_link.fitted:hover {\n",
       "  /* fitted */\n",
       "  background-color: var(--sklearn-color-fitted-level-3);\n",
       "}\n",
       "</style><div id=\"sk-container-id-2\" class=\"sk-top-container\"><div class=\"sk-text-repr-fallback\"><pre>Pipeline(steps=[(&#x27;columntransformer&#x27;,\n",
       "                 ColumnTransformer(remainder=&#x27;passthrough&#x27;,\n",
       "                                   transformers=[(&#x27;annual_amount&#x27;,\n",
       "                                                  Pipeline(steps=[(&#x27;functiontransformer&#x27;,\n",
       "                                                                   FunctionTransformer(feature_names_out=&lt;function ratio_name at 0x118e556c0&gt;,\n",
       "                                                                                       func=&lt;function column_ratio at 0x118e54a40&gt;)),\n",
       "                                                                  (&#x27;standardscaler&#x27;,\n",
       "                                                                   StandardScaler())]),\n",
       "                                                  [&#x27;amount&#x27;, &#x27;duration&#x27;]),\n",
       "                                                 (&#x27;log&#x27;,\n",
       "                                                  Pipeline(steps=[(&#x27;...\n",
       "                                                                                               &#x27;&lt;= &#x27;\n",
       "                                                                                               &#x27;... &#x27;\n",
       "                                                                                               &#x27;&lt; &#x27;\n",
       "                                                                                               &#x27;25&#x27;,\n",
       "                                                                                               &#x27;25 &#x27;\n",
       "                                                                                               &#x27;&lt;= &#x27;\n",
       "                                                                                               &#x27;... &#x27;\n",
       "                                                                                               &#x27;&lt; &#x27;\n",
       "                                                                                               &#x27;35&#x27;,\n",
       "                                                                                               &#x27;&gt;= &#x27;\n",
       "                                                                                               &#x27;35&#x27;],\n",
       "                                                                                              [&#x27;&lt; &#x27;\n",
       "                                                                                               &#x27;1 &#x27;\n",
       "                                                                                               &#x27;yr&#x27;,\n",
       "                                                                                               &#x27;1 &#x27;\n",
       "                                                                                               &#x27;&lt;= &#x27;\n",
       "                                                                                               &#x27;... &#x27;\n",
       "                                                                                               &#x27;&lt; &#x27;\n",
       "                                                                                               &#x27;4 &#x27;\n",
       "                                                                                               &#x27;yrs&#x27;,\n",
       "                                                                                               &#x27;4 &#x27;\n",
       "                                                                                               &#x27;&lt;= &#x27;\n",
       "                                                                                               &#x27;... &#x27;\n",
       "                                                                                               &#x27;&lt; &#x27;\n",
       "                                                                                               &#x27;7 &#x27;\n",
       "                                                                                               &#x27;yrs&#x27;,\n",
       "                                                                                               &#x27;&gt;= &#x27;\n",
       "                                                                                               &#x27;7 &#x27;\n",
       "                                                                                               &#x27;yrs&#x27;],\n",
       "                                                                                              [&#x27;1&#x27;,\n",
       "                                                                                               &#x27;3-Feb&#x27;,\n",
       "                                                                                               &#x27;5-Apr&#x27;,\n",
       "                                                                                               &#x27;&gt;= &#x27;\n",
       "                                                                                               &#x27;6&#x27;]]))]),\n",
       "                                                  [&#x27;employment_duration&#x27;,\n",
       "                                                   &#x27;installment_rate&#x27;,\n",
       "                                                   &#x27;present_residence&#x27;,\n",
       "                                                   &#x27;number_credits&#x27;]),\n",
       "                                                 (&#x27;drop_personal_status_sex&#x27;,\n",
       "                                                  &#x27;drop&#x27;,\n",
       "                                                  [&#x27;personal_status_sex&#x27;])])),\n",
       "                (&#x27;sgdclassifier&#x27;, SGDClassifier(random_state=42))])</pre><b>In a Jupyter environment, please rerun this cell to show the HTML representation or trust the notebook. <br />On GitHub, the HTML representation is unable to render, please try loading this page with nbviewer.org.</b></div><div class=\"sk-container\" hidden><div class=\"sk-item sk-dashed-wrapped\"><div class=\"sk-label-container\"><div class=\"sk-label fitted sk-toggleable\"><input class=\"sk-toggleable__control sk-hidden--visually\" id=\"sk-estimator-id-20\" type=\"checkbox\" ><label for=\"sk-estimator-id-20\" class=\"sk-toggleable__label fitted sk-toggleable__label-arrow\"><div><div>Pipeline</div></div><div><a class=\"sk-estimator-doc-link fitted\" rel=\"noreferrer\" target=\"_blank\" href=\"https://scikit-learn.org/1.6/modules/generated/sklearn.pipeline.Pipeline.html\">?<span>Documentation for Pipeline</span></a><span class=\"sk-estimator-doc-link fitted\">i<span>Fitted</span></span></div></label><div class=\"sk-toggleable__content fitted\"><pre>Pipeline(steps=[(&#x27;columntransformer&#x27;,\n",
       "                 ColumnTransformer(remainder=&#x27;passthrough&#x27;,\n",
       "                                   transformers=[(&#x27;annual_amount&#x27;,\n",
       "                                                  Pipeline(steps=[(&#x27;functiontransformer&#x27;,\n",
       "                                                                   FunctionTransformer(feature_names_out=&lt;function ratio_name at 0x118e556c0&gt;,\n",
       "                                                                                       func=&lt;function column_ratio at 0x118e54a40&gt;)),\n",
       "                                                                  (&#x27;standardscaler&#x27;,\n",
       "                                                                   StandardScaler())]),\n",
       "                                                  [&#x27;amount&#x27;, &#x27;duration&#x27;]),\n",
       "                                                 (&#x27;log&#x27;,\n",
       "                                                  Pipeline(steps=[(&#x27;...\n",
       "                                                                                               &#x27;&lt;= &#x27;\n",
       "                                                                                               &#x27;... &#x27;\n",
       "                                                                                               &#x27;&lt; &#x27;\n",
       "                                                                                               &#x27;25&#x27;,\n",
       "                                                                                               &#x27;25 &#x27;\n",
       "                                                                                               &#x27;&lt;= &#x27;\n",
       "                                                                                               &#x27;... &#x27;\n",
       "                                                                                               &#x27;&lt; &#x27;\n",
       "                                                                                               &#x27;35&#x27;,\n",
       "                                                                                               &#x27;&gt;= &#x27;\n",
       "                                                                                               &#x27;35&#x27;],\n",
       "                                                                                              [&#x27;&lt; &#x27;\n",
       "                                                                                               &#x27;1 &#x27;\n",
       "                                                                                               &#x27;yr&#x27;,\n",
       "                                                                                               &#x27;1 &#x27;\n",
       "                                                                                               &#x27;&lt;= &#x27;\n",
       "                                                                                               &#x27;... &#x27;\n",
       "                                                                                               &#x27;&lt; &#x27;\n",
       "                                                                                               &#x27;4 &#x27;\n",
       "                                                                                               &#x27;yrs&#x27;,\n",
       "                                                                                               &#x27;4 &#x27;\n",
       "                                                                                               &#x27;&lt;= &#x27;\n",
       "                                                                                               &#x27;... &#x27;\n",
       "                                                                                               &#x27;&lt; &#x27;\n",
       "                                                                                               &#x27;7 &#x27;\n",
       "                                                                                               &#x27;yrs&#x27;,\n",
       "                                                                                               &#x27;&gt;= &#x27;\n",
       "                                                                                               &#x27;7 &#x27;\n",
       "                                                                                               &#x27;yrs&#x27;],\n",
       "                                                                                              [&#x27;1&#x27;,\n",
       "                                                                                               &#x27;3-Feb&#x27;,\n",
       "                                                                                               &#x27;5-Apr&#x27;,\n",
       "                                                                                               &#x27;&gt;= &#x27;\n",
       "                                                                                               &#x27;6&#x27;]]))]),\n",
       "                                                  [&#x27;employment_duration&#x27;,\n",
       "                                                   &#x27;installment_rate&#x27;,\n",
       "                                                   &#x27;present_residence&#x27;,\n",
       "                                                   &#x27;number_credits&#x27;]),\n",
       "                                                 (&#x27;drop_personal_status_sex&#x27;,\n",
       "                                                  &#x27;drop&#x27;,\n",
       "                                                  [&#x27;personal_status_sex&#x27;])])),\n",
       "                (&#x27;sgdclassifier&#x27;, SGDClassifier(random_state=42))])</pre></div> </div></div><div class=\"sk-serial\"><div class=\"sk-item sk-dashed-wrapped\"><div class=\"sk-label-container\"><div class=\"sk-label fitted sk-toggleable\"><input class=\"sk-toggleable__control sk-hidden--visually\" id=\"sk-estimator-id-21\" type=\"checkbox\" ><label for=\"sk-estimator-id-21\" class=\"sk-toggleable__label fitted sk-toggleable__label-arrow\"><div><div>columntransformer: ColumnTransformer</div></div><div><a class=\"sk-estimator-doc-link fitted\" rel=\"noreferrer\" target=\"_blank\" href=\"https://scikit-learn.org/1.6/modules/generated/sklearn.compose.ColumnTransformer.html\">?<span>Documentation for columntransformer: ColumnTransformer</span></a></div></label><div class=\"sk-toggleable__content fitted\"><pre>ColumnTransformer(remainder=&#x27;passthrough&#x27;,\n",
       "                  transformers=[(&#x27;annual_amount&#x27;,\n",
       "                                 Pipeline(steps=[(&#x27;functiontransformer&#x27;,\n",
       "                                                  FunctionTransformer(feature_names_out=&lt;function ratio_name at 0x118e556c0&gt;,\n",
       "                                                                      func=&lt;function column_ratio at 0x118e54a40&gt;)),\n",
       "                                                 (&#x27;standardscaler&#x27;,\n",
       "                                                  StandardScaler())]),\n",
       "                                 [&#x27;amount&#x27;, &#x27;duration&#x27;]),\n",
       "                                (&#x27;log&#x27;,\n",
       "                                 Pipeline(steps=[(&#x27;functiontransformer&#x27;,\n",
       "                                                  FunctionTransfor...\n",
       "                                                                              &#x27;4 &#x27;\n",
       "                                                                              &#x27;&lt;= &#x27;\n",
       "                                                                              &#x27;... &#x27;\n",
       "                                                                              &#x27;&lt; &#x27;\n",
       "                                                                              &#x27;7 &#x27;\n",
       "                                                                              &#x27;yrs&#x27;,\n",
       "                                                                              &#x27;&gt;= &#x27;\n",
       "                                                                              &#x27;7 &#x27;\n",
       "                                                                              &#x27;yrs&#x27;],\n",
       "                                                                             [&#x27;&lt; &#x27;\n",
       "                                                                              &#x27;20&#x27;,\n",
       "                                                                              &#x27;20 &#x27;\n",
       "                                                                              &#x27;&lt;= &#x27;\n",
       "                                                                              &#x27;... &#x27;\n",
       "                                                                              &#x27;&lt; &#x27;\n",
       "                                                                              &#x27;25&#x27;,\n",
       "                                                                              &#x27;25 &#x27;\n",
       "                                                                              &#x27;&lt;= &#x27;\n",
       "                                                                              &#x27;... &#x27;\n",
       "                                                                              &#x27;&lt; &#x27;\n",
       "                                                                              &#x27;35&#x27;,\n",
       "                                                                              &#x27;&gt;= &#x27;\n",
       "                                                                              &#x27;35&#x27;],\n",
       "                                                                             [&#x27;&lt; &#x27;\n",
       "                                                                              &#x27;1 &#x27;\n",
       "                                                                              &#x27;yr&#x27;,\n",
       "                                                                              &#x27;1 &#x27;\n",
       "                                                                              &#x27;&lt;= &#x27;\n",
       "                                                                              &#x27;... &#x27;\n",
       "                                                                              &#x27;&lt; &#x27;\n",
       "                                                                              &#x27;4 &#x27;\n",
       "                                                                              &#x27;yrs&#x27;,\n",
       "                                                                              &#x27;4 &#x27;\n",
       "                                                                              &#x27;&lt;= &#x27;\n",
       "                                                                              &#x27;... &#x27;\n",
       "                                                                              &#x27;&lt; &#x27;\n",
       "                                                                              &#x27;7 &#x27;\n",
       "                                                                              &#x27;yrs&#x27;,\n",
       "                                                                              &#x27;&gt;= &#x27;\n",
       "                                                                              &#x27;7 &#x27;\n",
       "                                                                              &#x27;yrs&#x27;],\n",
       "                                                                             [&#x27;1&#x27;,\n",
       "                                                                              &#x27;3-Feb&#x27;,\n",
       "                                                                              &#x27;5-Apr&#x27;,\n",
       "                                                                              &#x27;&gt;= &#x27;\n",
       "                                                                              &#x27;6&#x27;]]))]),\n",
       "                                 [&#x27;employment_duration&#x27;, &#x27;installment_rate&#x27;,\n",
       "                                  &#x27;present_residence&#x27;, &#x27;number_credits&#x27;]),\n",
       "                                (&#x27;drop_personal_status_sex&#x27;, &#x27;drop&#x27;,\n",
       "                                 [&#x27;personal_status_sex&#x27;])])</pre></div> </div></div><div class=\"sk-parallel\"><div class=\"sk-parallel-item\"><div class=\"sk-item\"><div class=\"sk-label-container\"><div class=\"sk-label fitted sk-toggleable\"><input class=\"sk-toggleable__control sk-hidden--visually\" id=\"sk-estimator-id-22\" type=\"checkbox\" ><label for=\"sk-estimator-id-22\" class=\"sk-toggleable__label fitted sk-toggleable__label-arrow\"><div><div>annual_amount</div></div></label><div class=\"sk-toggleable__content fitted\"><pre>[&#x27;amount&#x27;, &#x27;duration&#x27;]</pre></div> </div></div><div class=\"sk-serial\"><div class=\"sk-item\"><div class=\"sk-serial\"><div class=\"sk-item\"><div class=\"sk-estimator fitted sk-toggleable\"><input class=\"sk-toggleable__control sk-hidden--visually\" id=\"sk-estimator-id-23\" type=\"checkbox\" ><label for=\"sk-estimator-id-23\" class=\"sk-toggleable__label fitted sk-toggleable__label-arrow\"><div><div>column_ratio</div><div class=\"caption\">FunctionTransformer</div></div><div><a class=\"sk-estimator-doc-link fitted\" rel=\"noreferrer\" target=\"_blank\" href=\"https://scikit-learn.org/1.6/modules/generated/sklearn.preprocessing.FunctionTransformer.html\">?<span>Documentation for FunctionTransformer</span></a></div></label><div class=\"sk-toggleable__content fitted\"><pre>FunctionTransformer(feature_names_out=&lt;function ratio_name at 0x118e556c0&gt;,\n",
       "                    func=&lt;function column_ratio at 0x118e54a40&gt;)</pre></div> </div></div><div class=\"sk-item\"><div class=\"sk-estimator fitted sk-toggleable\"><input class=\"sk-toggleable__control sk-hidden--visually\" id=\"sk-estimator-id-24\" type=\"checkbox\" ><label for=\"sk-estimator-id-24\" class=\"sk-toggleable__label fitted sk-toggleable__label-arrow\"><div><div>StandardScaler</div></div><div><a class=\"sk-estimator-doc-link fitted\" rel=\"noreferrer\" target=\"_blank\" href=\"https://scikit-learn.org/1.6/modules/generated/sklearn.preprocessing.StandardScaler.html\">?<span>Documentation for StandardScaler</span></a></div></label><div class=\"sk-toggleable__content fitted\"><pre>StandardScaler()</pre></div> </div></div></div></div></div></div></div><div class=\"sk-parallel-item\"><div class=\"sk-item\"><div class=\"sk-label-container\"><div class=\"sk-label fitted sk-toggleable\"><input class=\"sk-toggleable__control sk-hidden--visually\" id=\"sk-estimator-id-25\" type=\"checkbox\" ><label for=\"sk-estimator-id-25\" class=\"sk-toggleable__label fitted sk-toggleable__label-arrow\"><div><div>log</div></div></label><div class=\"sk-toggleable__content fitted\"><pre>[&#x27;amount&#x27;, &#x27;duration&#x27;, &#x27;age&#x27;]</pre></div> </div></div><div class=\"sk-serial\"><div class=\"sk-item\"><div class=\"sk-serial\"><div class=\"sk-item\"><div class=\"sk-estimator fitted sk-toggleable\"><input class=\"sk-toggleable__control sk-hidden--visually\" id=\"sk-estimator-id-26\" type=\"checkbox\" ><label for=\"sk-estimator-id-26\" class=\"sk-toggleable__label fitted sk-toggleable__label-arrow\"><div><div>log</div><div class=\"caption\">FunctionTransformer</div></div><div><a class=\"sk-estimator-doc-link fitted\" rel=\"noreferrer\" target=\"_blank\" href=\"https://scikit-learn.org/1.6/modules/generated/sklearn.preprocessing.FunctionTransformer.html\">?<span>Documentation for FunctionTransformer</span></a></div></label><div class=\"sk-toggleable__content fitted\"><pre>FunctionTransformer(feature_names_out=&#x27;one-to-one&#x27;, func=&lt;ufunc &#x27;log&#x27;&gt;)</pre></div> </div></div><div class=\"sk-item\"><div class=\"sk-estimator fitted sk-toggleable\"><input class=\"sk-toggleable__control sk-hidden--visually\" id=\"sk-estimator-id-27\" type=\"checkbox\" ><label for=\"sk-estimator-id-27\" class=\"sk-toggleable__label fitted sk-toggleable__label-arrow\"><div><div>StandardScaler</div></div><div><a class=\"sk-estimator-doc-link fitted\" rel=\"noreferrer\" target=\"_blank\" href=\"https://scikit-learn.org/1.6/modules/generated/sklearn.preprocessing.StandardScaler.html\">?<span>Documentation for StandardScaler</span></a></div></label><div class=\"sk-toggleable__content fitted\"><pre>StandardScaler()</pre></div> </div></div></div></div></div></div></div><div class=\"sk-parallel-item\"><div class=\"sk-item\"><div class=\"sk-label-container\"><div class=\"sk-label fitted sk-toggleable\"><input class=\"sk-toggleable__control sk-hidden--visually\" id=\"sk-estimator-id-28\" type=\"checkbox\" ><label for=\"sk-estimator-id-28\" class=\"sk-toggleable__label fitted sk-toggleable__label-arrow\"><div><div>cat</div></div></label><div class=\"sk-toggleable__content fitted\"><pre>[&#x27;status&#x27;, &#x27;credit_history&#x27;, &#x27;purpose&#x27;, &#x27;savings&#x27;, &#x27;property&#x27;, &#x27;job&#x27;, &#x27;other_debtors&#x27;, &#x27;other_installment_plans&#x27;, &#x27;housing&#x27;, &#x27;people_liable&#x27;, &#x27;telephone&#x27;, &#x27;foreign_worker&#x27;]</pre></div> </div></div><div class=\"sk-serial\"><div class=\"sk-item\"><div class=\"sk-serial\"><div class=\"sk-item\"><div class=\"sk-estimator fitted sk-toggleable\"><input class=\"sk-toggleable__control sk-hidden--visually\" id=\"sk-estimator-id-29\" type=\"checkbox\" ><label for=\"sk-estimator-id-29\" class=\"sk-toggleable__label fitted sk-toggleable__label-arrow\"><div><div>SimpleImputer</div></div><div><a class=\"sk-estimator-doc-link fitted\" rel=\"noreferrer\" target=\"_blank\" href=\"https://scikit-learn.org/1.6/modules/generated/sklearn.impute.SimpleImputer.html\">?<span>Documentation for SimpleImputer</span></a></div></label><div class=\"sk-toggleable__content fitted\"><pre>SimpleImputer(strategy=&#x27;most_frequent&#x27;)</pre></div> </div></div><div class=\"sk-item\"><div class=\"sk-estimator fitted sk-toggleable\"><input class=\"sk-toggleable__control sk-hidden--visually\" id=\"sk-estimator-id-30\" type=\"checkbox\" ><label for=\"sk-estimator-id-30\" class=\"sk-toggleable__label fitted sk-toggleable__label-arrow\"><div><div>OneHotEncoder</div></div><div><a class=\"sk-estimator-doc-link fitted\" rel=\"noreferrer\" target=\"_blank\" href=\"https://scikit-learn.org/1.6/modules/generated/sklearn.preprocessing.OneHotEncoder.html\">?<span>Documentation for OneHotEncoder</span></a></div></label><div class=\"sk-toggleable__content fitted\"><pre>OneHotEncoder(handle_unknown=&#x27;ignore&#x27;)</pre></div> </div></div></div></div></div></div></div><div class=\"sk-parallel-item\"><div class=\"sk-item\"><div class=\"sk-label-container\"><div class=\"sk-label fitted sk-toggleable\"><input class=\"sk-toggleable__control sk-hidden--visually\" id=\"sk-estimator-id-31\" type=\"checkbox\" ><label for=\"sk-estimator-id-31\" class=\"sk-toggleable__label fitted sk-toggleable__label-arrow\"><div><div>ord</div></div></label><div class=\"sk-toggleable__content fitted\"><pre>[&#x27;employment_duration&#x27;, &#x27;installment_rate&#x27;, &#x27;present_residence&#x27;, &#x27;number_credits&#x27;]</pre></div> </div></div><div class=\"sk-serial\"><div class=\"sk-item\"><div class=\"sk-serial\"><div class=\"sk-item\"><div class=\"sk-estimator fitted sk-toggleable\"><input class=\"sk-toggleable__control sk-hidden--visually\" id=\"sk-estimator-id-32\" type=\"checkbox\" ><label for=\"sk-estimator-id-32\" class=\"sk-toggleable__label fitted sk-toggleable__label-arrow\"><div><div>SimpleImputer</div></div><div><a class=\"sk-estimator-doc-link fitted\" rel=\"noreferrer\" target=\"_blank\" href=\"https://scikit-learn.org/1.6/modules/generated/sklearn.impute.SimpleImputer.html\">?<span>Documentation for SimpleImputer</span></a></div></label><div class=\"sk-toggleable__content fitted\"><pre>SimpleImputer(strategy=&#x27;most_frequent&#x27;)</pre></div> </div></div><div class=\"sk-item\"><div class=\"sk-estimator fitted sk-toggleable\"><input class=\"sk-toggleable__control sk-hidden--visually\" id=\"sk-estimator-id-33\" type=\"checkbox\" ><label for=\"sk-estimator-id-33\" class=\"sk-toggleable__label fitted sk-toggleable__label-arrow\"><div><div>OrdinalEncoder</div></div><div><a class=\"sk-estimator-doc-link fitted\" rel=\"noreferrer\" target=\"_blank\" href=\"https://scikit-learn.org/1.6/modules/generated/sklearn.preprocessing.OrdinalEncoder.html\">?<span>Documentation for OrdinalEncoder</span></a></div></label><div class=\"sk-toggleable__content fitted\"><pre>OrdinalEncoder(categories=[[&#x27;unemployed&#x27;, &#x27;&lt; 1 yr&#x27;, &#x27;1 &lt;= ... &lt; 4 yrs&#x27;,\n",
       "                            &#x27;4 &lt;= ... &lt; 7 yrs&#x27;, &#x27;&gt;= 7 yrs&#x27;],\n",
       "                           [&#x27;&lt; 20&#x27;, &#x27;20 &lt;= ... &lt; 25&#x27;, &#x27;25 &lt;= ... &lt; 35&#x27;,\n",
       "                            &#x27;&gt;= 35&#x27;],\n",
       "                           [&#x27;&lt; 1 yr&#x27;, &#x27;1 &lt;= ... &lt; 4 yrs&#x27;, &#x27;4 &lt;= ... &lt; 7 yrs&#x27;,\n",
       "                            &#x27;&gt;= 7 yrs&#x27;],\n",
       "                           [&#x27;1&#x27;, &#x27;3-Feb&#x27;, &#x27;5-Apr&#x27;, &#x27;&gt;= 6&#x27;]])</pre></div> </div></div></div></div></div></div></div><div class=\"sk-parallel-item\"><div class=\"sk-item\"><div class=\"sk-label-container\"><div class=\"sk-label fitted sk-toggleable\"><input class=\"sk-toggleable__control sk-hidden--visually\" id=\"sk-estimator-id-34\" type=\"checkbox\" ><label for=\"sk-estimator-id-34\" class=\"sk-toggleable__label fitted sk-toggleable__label-arrow\"><div><div>drop_personal_status_sex</div></div></label><div class=\"sk-toggleable__content fitted\"><pre>[&#x27;personal_status_sex&#x27;]</pre></div> </div></div><div class=\"sk-serial\"><div class=\"sk-item\"><div class=\"sk-estimator fitted sk-toggleable\"><input class=\"sk-toggleable__control sk-hidden--visually\" id=\"sk-estimator-id-35\" type=\"checkbox\" ><label for=\"sk-estimator-id-35\" class=\"sk-toggleable__label fitted sk-toggleable__label-arrow\"><div><div>drop</div></div></label><div class=\"sk-toggleable__content fitted\"><pre>drop</pre></div> </div></div></div></div></div><div class=\"sk-parallel-item\"><div class=\"sk-item\"><div class=\"sk-label-container\"><div class=\"sk-label fitted sk-toggleable\"><input class=\"sk-toggleable__control sk-hidden--visually\" id=\"sk-estimator-id-36\" type=\"checkbox\" ><label for=\"sk-estimator-id-36\" class=\"sk-toggleable__label fitted sk-toggleable__label-arrow\"><div><div>remainder</div></div></label><div class=\"sk-toggleable__content fitted\"><pre>[]</pre></div> </div></div><div class=\"sk-serial\"><div class=\"sk-item\"><div class=\"sk-estimator fitted sk-toggleable\"><input class=\"sk-toggleable__control sk-hidden--visually\" id=\"sk-estimator-id-37\" type=\"checkbox\" ><label for=\"sk-estimator-id-37\" class=\"sk-toggleable__label fitted sk-toggleable__label-arrow\"><div><div>passthrough</div></div></label><div class=\"sk-toggleable__content fitted\"><pre>passthrough</pre></div> </div></div></div></div></div></div></div><div class=\"sk-item\"><div class=\"sk-estimator fitted sk-toggleable\"><input class=\"sk-toggleable__control sk-hidden--visually\" id=\"sk-estimator-id-38\" type=\"checkbox\" ><label for=\"sk-estimator-id-38\" class=\"sk-toggleable__label fitted sk-toggleable__label-arrow\"><div><div>SGDClassifier</div></div><div><a class=\"sk-estimator-doc-link fitted\" rel=\"noreferrer\" target=\"_blank\" href=\"https://scikit-learn.org/1.6/modules/generated/sklearn.linear_model.SGDClassifier.html\">?<span>Documentation for SGDClassifier</span></a></div></label><div class=\"sk-toggleable__content fitted\"><pre>SGDClassifier(random_state=42)</pre></div> </div></div></div></div></div></div>"
      ],
      "text/plain": [
       "Pipeline(steps=[('columntransformer',\n",
       "                 ColumnTransformer(remainder='passthrough',\n",
       "                                   transformers=[('annual_amount',\n",
       "                                                  Pipeline(steps=[('functiontransformer',\n",
       "                                                                   FunctionTransformer(feature_names_out=<function ratio_name at 0x118e556c0>,\n",
       "                                                                                       func=<function column_ratio at 0x118e54a40>)),\n",
       "                                                                  ('standardscaler',\n",
       "                                                                   StandardScaler())]),\n",
       "                                                  ['amount', 'duration']),\n",
       "                                                 ('log',\n",
       "                                                  Pipeline(steps=[('...\n",
       "                                                                                               '<= '\n",
       "                                                                                               '... '\n",
       "                                                                                               '< '\n",
       "                                                                                               '25',\n",
       "                                                                                               '25 '\n",
       "                                                                                               '<= '\n",
       "                                                                                               '... '\n",
       "                                                                                               '< '\n",
       "                                                                                               '35',\n",
       "                                                                                               '>= '\n",
       "                                                                                               '35'],\n",
       "                                                                                              ['< '\n",
       "                                                                                               '1 '\n",
       "                                                                                               'yr',\n",
       "                                                                                               '1 '\n",
       "                                                                                               '<= '\n",
       "                                                                                               '... '\n",
       "                                                                                               '< '\n",
       "                                                                                               '4 '\n",
       "                                                                                               'yrs',\n",
       "                                                                                               '4 '\n",
       "                                                                                               '<= '\n",
       "                                                                                               '... '\n",
       "                                                                                               '< '\n",
       "                                                                                               '7 '\n",
       "                                                                                               'yrs',\n",
       "                                                                                               '>= '\n",
       "                                                                                               '7 '\n",
       "                                                                                               'yrs'],\n",
       "                                                                                              ['1',\n",
       "                                                                                               '3-Feb',\n",
       "                                                                                               '5-Apr',\n",
       "                                                                                               '>= '\n",
       "                                                                                               '6']]))]),\n",
       "                                                  ['employment_duration',\n",
       "                                                   'installment_rate',\n",
       "                                                   'present_residence',\n",
       "                                                   'number_credits']),\n",
       "                                                 ('drop_personal_status_sex',\n",
       "                                                  'drop',\n",
       "                                                  ['personal_status_sex'])])),\n",
       "                ('sgdclassifier', SGDClassifier(random_state=42))])"
      ]
     },
     "execution_count": 63,
     "metadata": {},
     "output_type": "execute_result"
    }
   ],
   "source": [
    "from sklearn.linear_model import SGDClassifier\n",
    "\n",
    "sgd_clf = make_pipeline(preprocessing, SGDClassifier(random_state=42)) \n",
    "sgd_clf.fit(X_train, y_train_good)"
   ]
  },
  {
   "cell_type": "code",
   "execution_count": 76,
   "metadata": {},
   "outputs": [],
   "source": [
    "sample = X_train.iloc[:1]"
   ]
  },
  {
   "cell_type": "code",
   "execution_count": 79,
   "metadata": {},
   "outputs": [
    {
     "data": {
      "text/plain": [
       "'good'"
      ]
     },
     "execution_count": 79,
     "metadata": {},
     "output_type": "execute_result"
    }
   ],
   "source": [
    "credit_label[0]"
   ]
  },
  {
   "cell_type": "code",
   "execution_count": 78,
   "metadata": {},
   "outputs": [
    {
     "data": {
      "text/plain": [
       "array([ True])"
      ]
     },
     "execution_count": 78,
     "metadata": {},
     "output_type": "execute_result"
    }
   ],
   "source": [
    "sgd_clf.predict(sample)"
   ]
  },
  {
   "cell_type": "markdown",
   "metadata": {},
   "source": [
    "### Performance Measures"
   ]
  },
  {
   "cell_type": "code",
   "execution_count": 82,
   "metadata": {},
   "outputs": [
    {
     "data": {
      "text/plain": [
       "array([0.65543071, 0.54307116, 0.76315789])"
      ]
     },
     "execution_count": 82,
     "metadata": {},
     "output_type": "execute_result"
    }
   ],
   "source": [
    "from sklearn.model_selection import cross_val_score\n",
    "\n",
    "scores = cross_val_score(sgd_clf, X_train, y_train_good, cv=3, scoring=\"accuracy\")\n",
    "\n",
    "scores"
   ]
  },
  {
   "cell_type": "code",
   "execution_count": 84,
   "metadata": {},
   "outputs": [
    {
     "data": {
      "text/plain": [
       "0.6538865891320061"
      ]
     },
     "execution_count": 84,
     "metadata": {},
     "output_type": "execute_result"
    }
   ],
   "source": [
    "mean_score = np.mean(scores)\n",
    "\n",
    "mean_score"
   ]
  },
  {
   "cell_type": "markdown",
   "metadata": {},
   "source": [
    "The model presents an average of 65.39% accuracy (correct predictions / total predictions)"
   ]
  },
  {
   "cell_type": "code",
   "execution_count": 85,
   "metadata": {},
   "outputs": [
    {
     "name": "stdout",
     "output_type": "stream",
     "text": [
      "True\n"
     ]
    }
   ],
   "source": [
    "from sklearn.dummy import DummyClassifier\n",
    "\n",
    "dummy_clf = make_pipeline(preprocessing, DummyClassifier())\n",
    "dummy_clf.fit(X_train, y_train_good)\n",
    "print(any(dummy_clf.predict(X_train)))"
   ]
  },
  {
   "cell_type": "markdown",
   "metadata": {},
   "source": [
    "The dummy classfier classifies every insntance in the most frequent class --> \"good credit risk\""
   ]
  },
  {
   "cell_type": "code",
   "execution_count": 88,
   "metadata": {},
   "outputs": [
    {
     "name": "stdout",
     "output_type": "stream",
     "text": [
      "[0.70037453 0.70037453 0.69924812] 0.6999990613237213\n"
     ]
    }
   ],
   "source": [
    "scores = cross_val_score(dummy_clf, X_train, y_train_good, cv=3, scoring=\"accuracy\")\n",
    "\n",
    "mean_score = np.mean(scores)\n",
    "\n",
    "print(scores, mean_score)"
   ]
  },
  {
   "cell_type": "markdown",
   "metadata": {},
   "source": [
    "As the train set had 70% of instances under good credit risk, a classifier that predits all instances to be good, will be right 70% of the time"
   ]
  },
  {
   "cell_type": "markdown",
   "metadata": {},
   "source": [
    "What'll happen if we train our classifier with the 50-50 training set?"
   ]
  },
  {
   "cell_type": "code",
   "execution_count": 93,
   "metadata": {},
   "outputs": [],
   "source": [
    "y_train_good_50 = (y_train_50 == 'good')"
   ]
  },
  {
   "cell_type": "code",
   "execution_count": 90,
   "metadata": {},
   "outputs": [
    {
     "data": {
      "text/html": [
       "<style>#sk-container-id-3 {\n",
       "  /* Definition of color scheme common for light and dark mode */\n",
       "  --sklearn-color-text: #000;\n",
       "  --sklearn-color-text-muted: #666;\n",
       "  --sklearn-color-line: gray;\n",
       "  /* Definition of color scheme for unfitted estimators */\n",
       "  --sklearn-color-unfitted-level-0: #fff5e6;\n",
       "  --sklearn-color-unfitted-level-1: #f6e4d2;\n",
       "  --sklearn-color-unfitted-level-2: #ffe0b3;\n",
       "  --sklearn-color-unfitted-level-3: chocolate;\n",
       "  /* Definition of color scheme for fitted estimators */\n",
       "  --sklearn-color-fitted-level-0: #f0f8ff;\n",
       "  --sklearn-color-fitted-level-1: #d4ebff;\n",
       "  --sklearn-color-fitted-level-2: #b3dbfd;\n",
       "  --sklearn-color-fitted-level-3: cornflowerblue;\n",
       "\n",
       "  /* Specific color for light theme */\n",
       "  --sklearn-color-text-on-default-background: var(--sg-text-color, var(--theme-code-foreground, var(--jp-content-font-color1, black)));\n",
       "  --sklearn-color-background: var(--sg-background-color, var(--theme-background, var(--jp-layout-color0, white)));\n",
       "  --sklearn-color-border-box: var(--sg-text-color, var(--theme-code-foreground, var(--jp-content-font-color1, black)));\n",
       "  --sklearn-color-icon: #696969;\n",
       "\n",
       "  @media (prefers-color-scheme: dark) {\n",
       "    /* Redefinition of color scheme for dark theme */\n",
       "    --sklearn-color-text-on-default-background: var(--sg-text-color, var(--theme-code-foreground, var(--jp-content-font-color1, white)));\n",
       "    --sklearn-color-background: var(--sg-background-color, var(--theme-background, var(--jp-layout-color0, #111)));\n",
       "    --sklearn-color-border-box: var(--sg-text-color, var(--theme-code-foreground, var(--jp-content-font-color1, white)));\n",
       "    --sklearn-color-icon: #878787;\n",
       "  }\n",
       "}\n",
       "\n",
       "#sk-container-id-3 {\n",
       "  color: var(--sklearn-color-text);\n",
       "}\n",
       "\n",
       "#sk-container-id-3 pre {\n",
       "  padding: 0;\n",
       "}\n",
       "\n",
       "#sk-container-id-3 input.sk-hidden--visually {\n",
       "  border: 0;\n",
       "  clip: rect(1px 1px 1px 1px);\n",
       "  clip: rect(1px, 1px, 1px, 1px);\n",
       "  height: 1px;\n",
       "  margin: -1px;\n",
       "  overflow: hidden;\n",
       "  padding: 0;\n",
       "  position: absolute;\n",
       "  width: 1px;\n",
       "}\n",
       "\n",
       "#sk-container-id-3 div.sk-dashed-wrapped {\n",
       "  border: 1px dashed var(--sklearn-color-line);\n",
       "  margin: 0 0.4em 0.5em 0.4em;\n",
       "  box-sizing: border-box;\n",
       "  padding-bottom: 0.4em;\n",
       "  background-color: var(--sklearn-color-background);\n",
       "}\n",
       "\n",
       "#sk-container-id-3 div.sk-container {\n",
       "  /* jupyter's `normalize.less` sets `[hidden] { display: none; }`\n",
       "     but bootstrap.min.css set `[hidden] { display: none !important; }`\n",
       "     so we also need the `!important` here to be able to override the\n",
       "     default hidden behavior on the sphinx rendered scikit-learn.org.\n",
       "     See: https://github.com/scikit-learn/scikit-learn/issues/21755 */\n",
       "  display: inline-block !important;\n",
       "  position: relative;\n",
       "}\n",
       "\n",
       "#sk-container-id-3 div.sk-text-repr-fallback {\n",
       "  display: none;\n",
       "}\n",
       "\n",
       "div.sk-parallel-item,\n",
       "div.sk-serial,\n",
       "div.sk-item {\n",
       "  /* draw centered vertical line to link estimators */\n",
       "  background-image: linear-gradient(var(--sklearn-color-text-on-default-background), var(--sklearn-color-text-on-default-background));\n",
       "  background-size: 2px 100%;\n",
       "  background-repeat: no-repeat;\n",
       "  background-position: center center;\n",
       "}\n",
       "\n",
       "/* Parallel-specific style estimator block */\n",
       "\n",
       "#sk-container-id-3 div.sk-parallel-item::after {\n",
       "  content: \"\";\n",
       "  width: 100%;\n",
       "  border-bottom: 2px solid var(--sklearn-color-text-on-default-background);\n",
       "  flex-grow: 1;\n",
       "}\n",
       "\n",
       "#sk-container-id-3 div.sk-parallel {\n",
       "  display: flex;\n",
       "  align-items: stretch;\n",
       "  justify-content: center;\n",
       "  background-color: var(--sklearn-color-background);\n",
       "  position: relative;\n",
       "}\n",
       "\n",
       "#sk-container-id-3 div.sk-parallel-item {\n",
       "  display: flex;\n",
       "  flex-direction: column;\n",
       "}\n",
       "\n",
       "#sk-container-id-3 div.sk-parallel-item:first-child::after {\n",
       "  align-self: flex-end;\n",
       "  width: 50%;\n",
       "}\n",
       "\n",
       "#sk-container-id-3 div.sk-parallel-item:last-child::after {\n",
       "  align-self: flex-start;\n",
       "  width: 50%;\n",
       "}\n",
       "\n",
       "#sk-container-id-3 div.sk-parallel-item:only-child::after {\n",
       "  width: 0;\n",
       "}\n",
       "\n",
       "/* Serial-specific style estimator block */\n",
       "\n",
       "#sk-container-id-3 div.sk-serial {\n",
       "  display: flex;\n",
       "  flex-direction: column;\n",
       "  align-items: center;\n",
       "  background-color: var(--sklearn-color-background);\n",
       "  padding-right: 1em;\n",
       "  padding-left: 1em;\n",
       "}\n",
       "\n",
       "\n",
       "/* Toggleable style: style used for estimator/Pipeline/ColumnTransformer box that is\n",
       "clickable and can be expanded/collapsed.\n",
       "- Pipeline and ColumnTransformer use this feature and define the default style\n",
       "- Estimators will overwrite some part of the style using the `sk-estimator` class\n",
       "*/\n",
       "\n",
       "/* Pipeline and ColumnTransformer style (default) */\n",
       "\n",
       "#sk-container-id-3 div.sk-toggleable {\n",
       "  /* Default theme specific background. It is overwritten whether we have a\n",
       "  specific estimator or a Pipeline/ColumnTransformer */\n",
       "  background-color: var(--sklearn-color-background);\n",
       "}\n",
       "\n",
       "/* Toggleable label */\n",
       "#sk-container-id-3 label.sk-toggleable__label {\n",
       "  cursor: pointer;\n",
       "  display: flex;\n",
       "  width: 100%;\n",
       "  margin-bottom: 0;\n",
       "  padding: 0.5em;\n",
       "  box-sizing: border-box;\n",
       "  text-align: center;\n",
       "  align-items: start;\n",
       "  justify-content: space-between;\n",
       "  gap: 0.5em;\n",
       "}\n",
       "\n",
       "#sk-container-id-3 label.sk-toggleable__label .caption {\n",
       "  font-size: 0.6rem;\n",
       "  font-weight: lighter;\n",
       "  color: var(--sklearn-color-text-muted);\n",
       "}\n",
       "\n",
       "#sk-container-id-3 label.sk-toggleable__label-arrow:before {\n",
       "  /* Arrow on the left of the label */\n",
       "  content: \"▸\";\n",
       "  float: left;\n",
       "  margin-right: 0.25em;\n",
       "  color: var(--sklearn-color-icon);\n",
       "}\n",
       "\n",
       "#sk-container-id-3 label.sk-toggleable__label-arrow:hover:before {\n",
       "  color: var(--sklearn-color-text);\n",
       "}\n",
       "\n",
       "/* Toggleable content - dropdown */\n",
       "\n",
       "#sk-container-id-3 div.sk-toggleable__content {\n",
       "  max-height: 0;\n",
       "  max-width: 0;\n",
       "  overflow: hidden;\n",
       "  text-align: left;\n",
       "  /* unfitted */\n",
       "  background-color: var(--sklearn-color-unfitted-level-0);\n",
       "}\n",
       "\n",
       "#sk-container-id-3 div.sk-toggleable__content.fitted {\n",
       "  /* fitted */\n",
       "  background-color: var(--sklearn-color-fitted-level-0);\n",
       "}\n",
       "\n",
       "#sk-container-id-3 div.sk-toggleable__content pre {\n",
       "  margin: 0.2em;\n",
       "  border-radius: 0.25em;\n",
       "  color: var(--sklearn-color-text);\n",
       "  /* unfitted */\n",
       "  background-color: var(--sklearn-color-unfitted-level-0);\n",
       "}\n",
       "\n",
       "#sk-container-id-3 div.sk-toggleable__content.fitted pre {\n",
       "  /* unfitted */\n",
       "  background-color: var(--sklearn-color-fitted-level-0);\n",
       "}\n",
       "\n",
       "#sk-container-id-3 input.sk-toggleable__control:checked~div.sk-toggleable__content {\n",
       "  /* Expand drop-down */\n",
       "  max-height: 200px;\n",
       "  max-width: 100%;\n",
       "  overflow: auto;\n",
       "}\n",
       "\n",
       "#sk-container-id-3 input.sk-toggleable__control:checked~label.sk-toggleable__label-arrow:before {\n",
       "  content: \"▾\";\n",
       "}\n",
       "\n",
       "/* Pipeline/ColumnTransformer-specific style */\n",
       "\n",
       "#sk-container-id-3 div.sk-label input.sk-toggleable__control:checked~label.sk-toggleable__label {\n",
       "  color: var(--sklearn-color-text);\n",
       "  background-color: var(--sklearn-color-unfitted-level-2);\n",
       "}\n",
       "\n",
       "#sk-container-id-3 div.sk-label.fitted input.sk-toggleable__control:checked~label.sk-toggleable__label {\n",
       "  background-color: var(--sklearn-color-fitted-level-2);\n",
       "}\n",
       "\n",
       "/* Estimator-specific style */\n",
       "\n",
       "/* Colorize estimator box */\n",
       "#sk-container-id-3 div.sk-estimator input.sk-toggleable__control:checked~label.sk-toggleable__label {\n",
       "  /* unfitted */\n",
       "  background-color: var(--sklearn-color-unfitted-level-2);\n",
       "}\n",
       "\n",
       "#sk-container-id-3 div.sk-estimator.fitted input.sk-toggleable__control:checked~label.sk-toggleable__label {\n",
       "  /* fitted */\n",
       "  background-color: var(--sklearn-color-fitted-level-2);\n",
       "}\n",
       "\n",
       "#sk-container-id-3 div.sk-label label.sk-toggleable__label,\n",
       "#sk-container-id-3 div.sk-label label {\n",
       "  /* The background is the default theme color */\n",
       "  color: var(--sklearn-color-text-on-default-background);\n",
       "}\n",
       "\n",
       "/* On hover, darken the color of the background */\n",
       "#sk-container-id-3 div.sk-label:hover label.sk-toggleable__label {\n",
       "  color: var(--sklearn-color-text);\n",
       "  background-color: var(--sklearn-color-unfitted-level-2);\n",
       "}\n",
       "\n",
       "/* Label box, darken color on hover, fitted */\n",
       "#sk-container-id-3 div.sk-label.fitted:hover label.sk-toggleable__label.fitted {\n",
       "  color: var(--sklearn-color-text);\n",
       "  background-color: var(--sklearn-color-fitted-level-2);\n",
       "}\n",
       "\n",
       "/* Estimator label */\n",
       "\n",
       "#sk-container-id-3 div.sk-label label {\n",
       "  font-family: monospace;\n",
       "  font-weight: bold;\n",
       "  display: inline-block;\n",
       "  line-height: 1.2em;\n",
       "}\n",
       "\n",
       "#sk-container-id-3 div.sk-label-container {\n",
       "  text-align: center;\n",
       "}\n",
       "\n",
       "/* Estimator-specific */\n",
       "#sk-container-id-3 div.sk-estimator {\n",
       "  font-family: monospace;\n",
       "  border: 1px dotted var(--sklearn-color-border-box);\n",
       "  border-radius: 0.25em;\n",
       "  box-sizing: border-box;\n",
       "  margin-bottom: 0.5em;\n",
       "  /* unfitted */\n",
       "  background-color: var(--sklearn-color-unfitted-level-0);\n",
       "}\n",
       "\n",
       "#sk-container-id-3 div.sk-estimator.fitted {\n",
       "  /* fitted */\n",
       "  background-color: var(--sklearn-color-fitted-level-0);\n",
       "}\n",
       "\n",
       "/* on hover */\n",
       "#sk-container-id-3 div.sk-estimator:hover {\n",
       "  /* unfitted */\n",
       "  background-color: var(--sklearn-color-unfitted-level-2);\n",
       "}\n",
       "\n",
       "#sk-container-id-3 div.sk-estimator.fitted:hover {\n",
       "  /* fitted */\n",
       "  background-color: var(--sklearn-color-fitted-level-2);\n",
       "}\n",
       "\n",
       "/* Specification for estimator info (e.g. \"i\" and \"?\") */\n",
       "\n",
       "/* Common style for \"i\" and \"?\" */\n",
       "\n",
       ".sk-estimator-doc-link,\n",
       "a:link.sk-estimator-doc-link,\n",
       "a:visited.sk-estimator-doc-link {\n",
       "  float: right;\n",
       "  font-size: smaller;\n",
       "  line-height: 1em;\n",
       "  font-family: monospace;\n",
       "  background-color: var(--sklearn-color-background);\n",
       "  border-radius: 1em;\n",
       "  height: 1em;\n",
       "  width: 1em;\n",
       "  text-decoration: none !important;\n",
       "  margin-left: 0.5em;\n",
       "  text-align: center;\n",
       "  /* unfitted */\n",
       "  border: var(--sklearn-color-unfitted-level-1) 1pt solid;\n",
       "  color: var(--sklearn-color-unfitted-level-1);\n",
       "}\n",
       "\n",
       ".sk-estimator-doc-link.fitted,\n",
       "a:link.sk-estimator-doc-link.fitted,\n",
       "a:visited.sk-estimator-doc-link.fitted {\n",
       "  /* fitted */\n",
       "  border: var(--sklearn-color-fitted-level-1) 1pt solid;\n",
       "  color: var(--sklearn-color-fitted-level-1);\n",
       "}\n",
       "\n",
       "/* On hover */\n",
       "div.sk-estimator:hover .sk-estimator-doc-link:hover,\n",
       ".sk-estimator-doc-link:hover,\n",
       "div.sk-label-container:hover .sk-estimator-doc-link:hover,\n",
       ".sk-estimator-doc-link:hover {\n",
       "  /* unfitted */\n",
       "  background-color: var(--sklearn-color-unfitted-level-3);\n",
       "  color: var(--sklearn-color-background);\n",
       "  text-decoration: none;\n",
       "}\n",
       "\n",
       "div.sk-estimator.fitted:hover .sk-estimator-doc-link.fitted:hover,\n",
       ".sk-estimator-doc-link.fitted:hover,\n",
       "div.sk-label-container:hover .sk-estimator-doc-link.fitted:hover,\n",
       ".sk-estimator-doc-link.fitted:hover {\n",
       "  /* fitted */\n",
       "  background-color: var(--sklearn-color-fitted-level-3);\n",
       "  color: var(--sklearn-color-background);\n",
       "  text-decoration: none;\n",
       "}\n",
       "\n",
       "/* Span, style for the box shown on hovering the info icon */\n",
       ".sk-estimator-doc-link span {\n",
       "  display: none;\n",
       "  z-index: 9999;\n",
       "  position: relative;\n",
       "  font-weight: normal;\n",
       "  right: .2ex;\n",
       "  padding: .5ex;\n",
       "  margin: .5ex;\n",
       "  width: min-content;\n",
       "  min-width: 20ex;\n",
       "  max-width: 50ex;\n",
       "  color: var(--sklearn-color-text);\n",
       "  box-shadow: 2pt 2pt 4pt #999;\n",
       "  /* unfitted */\n",
       "  background: var(--sklearn-color-unfitted-level-0);\n",
       "  border: .5pt solid var(--sklearn-color-unfitted-level-3);\n",
       "}\n",
       "\n",
       ".sk-estimator-doc-link.fitted span {\n",
       "  /* fitted */\n",
       "  background: var(--sklearn-color-fitted-level-0);\n",
       "  border: var(--sklearn-color-fitted-level-3);\n",
       "}\n",
       "\n",
       ".sk-estimator-doc-link:hover span {\n",
       "  display: block;\n",
       "}\n",
       "\n",
       "/* \"?\"-specific style due to the `<a>` HTML tag */\n",
       "\n",
       "#sk-container-id-3 a.estimator_doc_link {\n",
       "  float: right;\n",
       "  font-size: 1rem;\n",
       "  line-height: 1em;\n",
       "  font-family: monospace;\n",
       "  background-color: var(--sklearn-color-background);\n",
       "  border-radius: 1rem;\n",
       "  height: 1rem;\n",
       "  width: 1rem;\n",
       "  text-decoration: none;\n",
       "  /* unfitted */\n",
       "  color: var(--sklearn-color-unfitted-level-1);\n",
       "  border: var(--sklearn-color-unfitted-level-1) 1pt solid;\n",
       "}\n",
       "\n",
       "#sk-container-id-3 a.estimator_doc_link.fitted {\n",
       "  /* fitted */\n",
       "  border: var(--sklearn-color-fitted-level-1) 1pt solid;\n",
       "  color: var(--sklearn-color-fitted-level-1);\n",
       "}\n",
       "\n",
       "/* On hover */\n",
       "#sk-container-id-3 a.estimator_doc_link:hover {\n",
       "  /* unfitted */\n",
       "  background-color: var(--sklearn-color-unfitted-level-3);\n",
       "  color: var(--sklearn-color-background);\n",
       "  text-decoration: none;\n",
       "}\n",
       "\n",
       "#sk-container-id-3 a.estimator_doc_link.fitted:hover {\n",
       "  /* fitted */\n",
       "  background-color: var(--sklearn-color-fitted-level-3);\n",
       "}\n",
       "</style><div id=\"sk-container-id-3\" class=\"sk-top-container\"><div class=\"sk-text-repr-fallback\"><pre>Pipeline(steps=[(&#x27;columntransformer&#x27;,\n",
       "                 ColumnTransformer(remainder=&#x27;passthrough&#x27;,\n",
       "                                   transformers=[(&#x27;annual_amount&#x27;,\n",
       "                                                  Pipeline(steps=[(&#x27;functiontransformer&#x27;,\n",
       "                                                                   FunctionTransformer(feature_names_out=&lt;function ratio_name at 0x118e556c0&gt;,\n",
       "                                                                                       func=&lt;function column_ratio at 0x118e54a40&gt;)),\n",
       "                                                                  (&#x27;standardscaler&#x27;,\n",
       "                                                                   StandardScaler())]),\n",
       "                                                  [&#x27;amount&#x27;, &#x27;duration&#x27;]),\n",
       "                                                 (&#x27;log&#x27;,\n",
       "                                                  Pipeline(steps=[(&#x27;...\n",
       "                                                                                               &#x27;&lt;= &#x27;\n",
       "                                                                                               &#x27;... &#x27;\n",
       "                                                                                               &#x27;&lt; &#x27;\n",
       "                                                                                               &#x27;25&#x27;,\n",
       "                                                                                               &#x27;25 &#x27;\n",
       "                                                                                               &#x27;&lt;= &#x27;\n",
       "                                                                                               &#x27;... &#x27;\n",
       "                                                                                               &#x27;&lt; &#x27;\n",
       "                                                                                               &#x27;35&#x27;,\n",
       "                                                                                               &#x27;&gt;= &#x27;\n",
       "                                                                                               &#x27;35&#x27;],\n",
       "                                                                                              [&#x27;&lt; &#x27;\n",
       "                                                                                               &#x27;1 &#x27;\n",
       "                                                                                               &#x27;yr&#x27;,\n",
       "                                                                                               &#x27;1 &#x27;\n",
       "                                                                                               &#x27;&lt;= &#x27;\n",
       "                                                                                               &#x27;... &#x27;\n",
       "                                                                                               &#x27;&lt; &#x27;\n",
       "                                                                                               &#x27;4 &#x27;\n",
       "                                                                                               &#x27;yrs&#x27;,\n",
       "                                                                                               &#x27;4 &#x27;\n",
       "                                                                                               &#x27;&lt;= &#x27;\n",
       "                                                                                               &#x27;... &#x27;\n",
       "                                                                                               &#x27;&lt; &#x27;\n",
       "                                                                                               &#x27;7 &#x27;\n",
       "                                                                                               &#x27;yrs&#x27;,\n",
       "                                                                                               &#x27;&gt;= &#x27;\n",
       "                                                                                               &#x27;7 &#x27;\n",
       "                                                                                               &#x27;yrs&#x27;],\n",
       "                                                                                              [&#x27;1&#x27;,\n",
       "                                                                                               &#x27;3-Feb&#x27;,\n",
       "                                                                                               &#x27;5-Apr&#x27;,\n",
       "                                                                                               &#x27;&gt;= &#x27;\n",
       "                                                                                               &#x27;6&#x27;]]))]),\n",
       "                                                  [&#x27;employment_duration&#x27;,\n",
       "                                                   &#x27;installment_rate&#x27;,\n",
       "                                                   &#x27;present_residence&#x27;,\n",
       "                                                   &#x27;number_credits&#x27;]),\n",
       "                                                 (&#x27;drop_personal_status_sex&#x27;,\n",
       "                                                  &#x27;drop&#x27;,\n",
       "                                                  [&#x27;personal_status_sex&#x27;])])),\n",
       "                (&#x27;sgdclassifier&#x27;, SGDClassifier(random_state=42))])</pre><b>In a Jupyter environment, please rerun this cell to show the HTML representation or trust the notebook. <br />On GitHub, the HTML representation is unable to render, please try loading this page with nbviewer.org.</b></div><div class=\"sk-container\" hidden><div class=\"sk-item sk-dashed-wrapped\"><div class=\"sk-label-container\"><div class=\"sk-label fitted sk-toggleable\"><input class=\"sk-toggleable__control sk-hidden--visually\" id=\"sk-estimator-id-39\" type=\"checkbox\" ><label for=\"sk-estimator-id-39\" class=\"sk-toggleable__label fitted sk-toggleable__label-arrow\"><div><div>Pipeline</div></div><div><a class=\"sk-estimator-doc-link fitted\" rel=\"noreferrer\" target=\"_blank\" href=\"https://scikit-learn.org/1.6/modules/generated/sklearn.pipeline.Pipeline.html\">?<span>Documentation for Pipeline</span></a><span class=\"sk-estimator-doc-link fitted\">i<span>Fitted</span></span></div></label><div class=\"sk-toggleable__content fitted\"><pre>Pipeline(steps=[(&#x27;columntransformer&#x27;,\n",
       "                 ColumnTransformer(remainder=&#x27;passthrough&#x27;,\n",
       "                                   transformers=[(&#x27;annual_amount&#x27;,\n",
       "                                                  Pipeline(steps=[(&#x27;functiontransformer&#x27;,\n",
       "                                                                   FunctionTransformer(feature_names_out=&lt;function ratio_name at 0x118e556c0&gt;,\n",
       "                                                                                       func=&lt;function column_ratio at 0x118e54a40&gt;)),\n",
       "                                                                  (&#x27;standardscaler&#x27;,\n",
       "                                                                   StandardScaler())]),\n",
       "                                                  [&#x27;amount&#x27;, &#x27;duration&#x27;]),\n",
       "                                                 (&#x27;log&#x27;,\n",
       "                                                  Pipeline(steps=[(&#x27;...\n",
       "                                                                                               &#x27;&lt;= &#x27;\n",
       "                                                                                               &#x27;... &#x27;\n",
       "                                                                                               &#x27;&lt; &#x27;\n",
       "                                                                                               &#x27;25&#x27;,\n",
       "                                                                                               &#x27;25 &#x27;\n",
       "                                                                                               &#x27;&lt;= &#x27;\n",
       "                                                                                               &#x27;... &#x27;\n",
       "                                                                                               &#x27;&lt; &#x27;\n",
       "                                                                                               &#x27;35&#x27;,\n",
       "                                                                                               &#x27;&gt;= &#x27;\n",
       "                                                                                               &#x27;35&#x27;],\n",
       "                                                                                              [&#x27;&lt; &#x27;\n",
       "                                                                                               &#x27;1 &#x27;\n",
       "                                                                                               &#x27;yr&#x27;,\n",
       "                                                                                               &#x27;1 &#x27;\n",
       "                                                                                               &#x27;&lt;= &#x27;\n",
       "                                                                                               &#x27;... &#x27;\n",
       "                                                                                               &#x27;&lt; &#x27;\n",
       "                                                                                               &#x27;4 &#x27;\n",
       "                                                                                               &#x27;yrs&#x27;,\n",
       "                                                                                               &#x27;4 &#x27;\n",
       "                                                                                               &#x27;&lt;= &#x27;\n",
       "                                                                                               &#x27;... &#x27;\n",
       "                                                                                               &#x27;&lt; &#x27;\n",
       "                                                                                               &#x27;7 &#x27;\n",
       "                                                                                               &#x27;yrs&#x27;,\n",
       "                                                                                               &#x27;&gt;= &#x27;\n",
       "                                                                                               &#x27;7 &#x27;\n",
       "                                                                                               &#x27;yrs&#x27;],\n",
       "                                                                                              [&#x27;1&#x27;,\n",
       "                                                                                               &#x27;3-Feb&#x27;,\n",
       "                                                                                               &#x27;5-Apr&#x27;,\n",
       "                                                                                               &#x27;&gt;= &#x27;\n",
       "                                                                                               &#x27;6&#x27;]]))]),\n",
       "                                                  [&#x27;employment_duration&#x27;,\n",
       "                                                   &#x27;installment_rate&#x27;,\n",
       "                                                   &#x27;present_residence&#x27;,\n",
       "                                                   &#x27;number_credits&#x27;]),\n",
       "                                                 (&#x27;drop_personal_status_sex&#x27;,\n",
       "                                                  &#x27;drop&#x27;,\n",
       "                                                  [&#x27;personal_status_sex&#x27;])])),\n",
       "                (&#x27;sgdclassifier&#x27;, SGDClassifier(random_state=42))])</pre></div> </div></div><div class=\"sk-serial\"><div class=\"sk-item sk-dashed-wrapped\"><div class=\"sk-label-container\"><div class=\"sk-label fitted sk-toggleable\"><input class=\"sk-toggleable__control sk-hidden--visually\" id=\"sk-estimator-id-40\" type=\"checkbox\" ><label for=\"sk-estimator-id-40\" class=\"sk-toggleable__label fitted sk-toggleable__label-arrow\"><div><div>columntransformer: ColumnTransformer</div></div><div><a class=\"sk-estimator-doc-link fitted\" rel=\"noreferrer\" target=\"_blank\" href=\"https://scikit-learn.org/1.6/modules/generated/sklearn.compose.ColumnTransformer.html\">?<span>Documentation for columntransformer: ColumnTransformer</span></a></div></label><div class=\"sk-toggleable__content fitted\"><pre>ColumnTransformer(remainder=&#x27;passthrough&#x27;,\n",
       "                  transformers=[(&#x27;annual_amount&#x27;,\n",
       "                                 Pipeline(steps=[(&#x27;functiontransformer&#x27;,\n",
       "                                                  FunctionTransformer(feature_names_out=&lt;function ratio_name at 0x118e556c0&gt;,\n",
       "                                                                      func=&lt;function column_ratio at 0x118e54a40&gt;)),\n",
       "                                                 (&#x27;standardscaler&#x27;,\n",
       "                                                  StandardScaler())]),\n",
       "                                 [&#x27;amount&#x27;, &#x27;duration&#x27;]),\n",
       "                                (&#x27;log&#x27;,\n",
       "                                 Pipeline(steps=[(&#x27;functiontransformer&#x27;,\n",
       "                                                  FunctionTransfor...\n",
       "                                                                              &#x27;4 &#x27;\n",
       "                                                                              &#x27;&lt;= &#x27;\n",
       "                                                                              &#x27;... &#x27;\n",
       "                                                                              &#x27;&lt; &#x27;\n",
       "                                                                              &#x27;7 &#x27;\n",
       "                                                                              &#x27;yrs&#x27;,\n",
       "                                                                              &#x27;&gt;= &#x27;\n",
       "                                                                              &#x27;7 &#x27;\n",
       "                                                                              &#x27;yrs&#x27;],\n",
       "                                                                             [&#x27;&lt; &#x27;\n",
       "                                                                              &#x27;20&#x27;,\n",
       "                                                                              &#x27;20 &#x27;\n",
       "                                                                              &#x27;&lt;= &#x27;\n",
       "                                                                              &#x27;... &#x27;\n",
       "                                                                              &#x27;&lt; &#x27;\n",
       "                                                                              &#x27;25&#x27;,\n",
       "                                                                              &#x27;25 &#x27;\n",
       "                                                                              &#x27;&lt;= &#x27;\n",
       "                                                                              &#x27;... &#x27;\n",
       "                                                                              &#x27;&lt; &#x27;\n",
       "                                                                              &#x27;35&#x27;,\n",
       "                                                                              &#x27;&gt;= &#x27;\n",
       "                                                                              &#x27;35&#x27;],\n",
       "                                                                             [&#x27;&lt; &#x27;\n",
       "                                                                              &#x27;1 &#x27;\n",
       "                                                                              &#x27;yr&#x27;,\n",
       "                                                                              &#x27;1 &#x27;\n",
       "                                                                              &#x27;&lt;= &#x27;\n",
       "                                                                              &#x27;... &#x27;\n",
       "                                                                              &#x27;&lt; &#x27;\n",
       "                                                                              &#x27;4 &#x27;\n",
       "                                                                              &#x27;yrs&#x27;,\n",
       "                                                                              &#x27;4 &#x27;\n",
       "                                                                              &#x27;&lt;= &#x27;\n",
       "                                                                              &#x27;... &#x27;\n",
       "                                                                              &#x27;&lt; &#x27;\n",
       "                                                                              &#x27;7 &#x27;\n",
       "                                                                              &#x27;yrs&#x27;,\n",
       "                                                                              &#x27;&gt;= &#x27;\n",
       "                                                                              &#x27;7 &#x27;\n",
       "                                                                              &#x27;yrs&#x27;],\n",
       "                                                                             [&#x27;1&#x27;,\n",
       "                                                                              &#x27;3-Feb&#x27;,\n",
       "                                                                              &#x27;5-Apr&#x27;,\n",
       "                                                                              &#x27;&gt;= &#x27;\n",
       "                                                                              &#x27;6&#x27;]]))]),\n",
       "                                 [&#x27;employment_duration&#x27;, &#x27;installment_rate&#x27;,\n",
       "                                  &#x27;present_residence&#x27;, &#x27;number_credits&#x27;]),\n",
       "                                (&#x27;drop_personal_status_sex&#x27;, &#x27;drop&#x27;,\n",
       "                                 [&#x27;personal_status_sex&#x27;])])</pre></div> </div></div><div class=\"sk-parallel\"><div class=\"sk-parallel-item\"><div class=\"sk-item\"><div class=\"sk-label-container\"><div class=\"sk-label fitted sk-toggleable\"><input class=\"sk-toggleable__control sk-hidden--visually\" id=\"sk-estimator-id-41\" type=\"checkbox\" ><label for=\"sk-estimator-id-41\" class=\"sk-toggleable__label fitted sk-toggleable__label-arrow\"><div><div>annual_amount</div></div></label><div class=\"sk-toggleable__content fitted\"><pre>[&#x27;amount&#x27;, &#x27;duration&#x27;]</pre></div> </div></div><div class=\"sk-serial\"><div class=\"sk-item\"><div class=\"sk-serial\"><div class=\"sk-item\"><div class=\"sk-estimator fitted sk-toggleable\"><input class=\"sk-toggleable__control sk-hidden--visually\" id=\"sk-estimator-id-42\" type=\"checkbox\" ><label for=\"sk-estimator-id-42\" class=\"sk-toggleable__label fitted sk-toggleable__label-arrow\"><div><div>column_ratio</div><div class=\"caption\">FunctionTransformer</div></div><div><a class=\"sk-estimator-doc-link fitted\" rel=\"noreferrer\" target=\"_blank\" href=\"https://scikit-learn.org/1.6/modules/generated/sklearn.preprocessing.FunctionTransformer.html\">?<span>Documentation for FunctionTransformer</span></a></div></label><div class=\"sk-toggleable__content fitted\"><pre>FunctionTransformer(feature_names_out=&lt;function ratio_name at 0x118e556c0&gt;,\n",
       "                    func=&lt;function column_ratio at 0x118e54a40&gt;)</pre></div> </div></div><div class=\"sk-item\"><div class=\"sk-estimator fitted sk-toggleable\"><input class=\"sk-toggleable__control sk-hidden--visually\" id=\"sk-estimator-id-43\" type=\"checkbox\" ><label for=\"sk-estimator-id-43\" class=\"sk-toggleable__label fitted sk-toggleable__label-arrow\"><div><div>StandardScaler</div></div><div><a class=\"sk-estimator-doc-link fitted\" rel=\"noreferrer\" target=\"_blank\" href=\"https://scikit-learn.org/1.6/modules/generated/sklearn.preprocessing.StandardScaler.html\">?<span>Documentation for StandardScaler</span></a></div></label><div class=\"sk-toggleable__content fitted\"><pre>StandardScaler()</pre></div> </div></div></div></div></div></div></div><div class=\"sk-parallel-item\"><div class=\"sk-item\"><div class=\"sk-label-container\"><div class=\"sk-label fitted sk-toggleable\"><input class=\"sk-toggleable__control sk-hidden--visually\" id=\"sk-estimator-id-44\" type=\"checkbox\" ><label for=\"sk-estimator-id-44\" class=\"sk-toggleable__label fitted sk-toggleable__label-arrow\"><div><div>log</div></div></label><div class=\"sk-toggleable__content fitted\"><pre>[&#x27;amount&#x27;, &#x27;duration&#x27;, &#x27;age&#x27;]</pre></div> </div></div><div class=\"sk-serial\"><div class=\"sk-item\"><div class=\"sk-serial\"><div class=\"sk-item\"><div class=\"sk-estimator fitted sk-toggleable\"><input class=\"sk-toggleable__control sk-hidden--visually\" id=\"sk-estimator-id-45\" type=\"checkbox\" ><label for=\"sk-estimator-id-45\" class=\"sk-toggleable__label fitted sk-toggleable__label-arrow\"><div><div>log</div><div class=\"caption\">FunctionTransformer</div></div><div><a class=\"sk-estimator-doc-link fitted\" rel=\"noreferrer\" target=\"_blank\" href=\"https://scikit-learn.org/1.6/modules/generated/sklearn.preprocessing.FunctionTransformer.html\">?<span>Documentation for FunctionTransformer</span></a></div></label><div class=\"sk-toggleable__content fitted\"><pre>FunctionTransformer(feature_names_out=&#x27;one-to-one&#x27;, func=&lt;ufunc &#x27;log&#x27;&gt;)</pre></div> </div></div><div class=\"sk-item\"><div class=\"sk-estimator fitted sk-toggleable\"><input class=\"sk-toggleable__control sk-hidden--visually\" id=\"sk-estimator-id-46\" type=\"checkbox\" ><label for=\"sk-estimator-id-46\" class=\"sk-toggleable__label fitted sk-toggleable__label-arrow\"><div><div>StandardScaler</div></div><div><a class=\"sk-estimator-doc-link fitted\" rel=\"noreferrer\" target=\"_blank\" href=\"https://scikit-learn.org/1.6/modules/generated/sklearn.preprocessing.StandardScaler.html\">?<span>Documentation for StandardScaler</span></a></div></label><div class=\"sk-toggleable__content fitted\"><pre>StandardScaler()</pre></div> </div></div></div></div></div></div></div><div class=\"sk-parallel-item\"><div class=\"sk-item\"><div class=\"sk-label-container\"><div class=\"sk-label fitted sk-toggleable\"><input class=\"sk-toggleable__control sk-hidden--visually\" id=\"sk-estimator-id-47\" type=\"checkbox\" ><label for=\"sk-estimator-id-47\" class=\"sk-toggleable__label fitted sk-toggleable__label-arrow\"><div><div>cat</div></div></label><div class=\"sk-toggleable__content fitted\"><pre>[&#x27;status&#x27;, &#x27;credit_history&#x27;, &#x27;purpose&#x27;, &#x27;savings&#x27;, &#x27;property&#x27;, &#x27;job&#x27;, &#x27;other_debtors&#x27;, &#x27;other_installment_plans&#x27;, &#x27;housing&#x27;, &#x27;people_liable&#x27;, &#x27;telephone&#x27;, &#x27;foreign_worker&#x27;]</pre></div> </div></div><div class=\"sk-serial\"><div class=\"sk-item\"><div class=\"sk-serial\"><div class=\"sk-item\"><div class=\"sk-estimator fitted sk-toggleable\"><input class=\"sk-toggleable__control sk-hidden--visually\" id=\"sk-estimator-id-48\" type=\"checkbox\" ><label for=\"sk-estimator-id-48\" class=\"sk-toggleable__label fitted sk-toggleable__label-arrow\"><div><div>SimpleImputer</div></div><div><a class=\"sk-estimator-doc-link fitted\" rel=\"noreferrer\" target=\"_blank\" href=\"https://scikit-learn.org/1.6/modules/generated/sklearn.impute.SimpleImputer.html\">?<span>Documentation for SimpleImputer</span></a></div></label><div class=\"sk-toggleable__content fitted\"><pre>SimpleImputer(strategy=&#x27;most_frequent&#x27;)</pre></div> </div></div><div class=\"sk-item\"><div class=\"sk-estimator fitted sk-toggleable\"><input class=\"sk-toggleable__control sk-hidden--visually\" id=\"sk-estimator-id-49\" type=\"checkbox\" ><label for=\"sk-estimator-id-49\" class=\"sk-toggleable__label fitted sk-toggleable__label-arrow\"><div><div>OneHotEncoder</div></div><div><a class=\"sk-estimator-doc-link fitted\" rel=\"noreferrer\" target=\"_blank\" href=\"https://scikit-learn.org/1.6/modules/generated/sklearn.preprocessing.OneHotEncoder.html\">?<span>Documentation for OneHotEncoder</span></a></div></label><div class=\"sk-toggleable__content fitted\"><pre>OneHotEncoder(handle_unknown=&#x27;ignore&#x27;)</pre></div> </div></div></div></div></div></div></div><div class=\"sk-parallel-item\"><div class=\"sk-item\"><div class=\"sk-label-container\"><div class=\"sk-label fitted sk-toggleable\"><input class=\"sk-toggleable__control sk-hidden--visually\" id=\"sk-estimator-id-50\" type=\"checkbox\" ><label for=\"sk-estimator-id-50\" class=\"sk-toggleable__label fitted sk-toggleable__label-arrow\"><div><div>ord</div></div></label><div class=\"sk-toggleable__content fitted\"><pre>[&#x27;employment_duration&#x27;, &#x27;installment_rate&#x27;, &#x27;present_residence&#x27;, &#x27;number_credits&#x27;]</pre></div> </div></div><div class=\"sk-serial\"><div class=\"sk-item\"><div class=\"sk-serial\"><div class=\"sk-item\"><div class=\"sk-estimator fitted sk-toggleable\"><input class=\"sk-toggleable__control sk-hidden--visually\" id=\"sk-estimator-id-51\" type=\"checkbox\" ><label for=\"sk-estimator-id-51\" class=\"sk-toggleable__label fitted sk-toggleable__label-arrow\"><div><div>SimpleImputer</div></div><div><a class=\"sk-estimator-doc-link fitted\" rel=\"noreferrer\" target=\"_blank\" href=\"https://scikit-learn.org/1.6/modules/generated/sklearn.impute.SimpleImputer.html\">?<span>Documentation for SimpleImputer</span></a></div></label><div class=\"sk-toggleable__content fitted\"><pre>SimpleImputer(strategy=&#x27;most_frequent&#x27;)</pre></div> </div></div><div class=\"sk-item\"><div class=\"sk-estimator fitted sk-toggleable\"><input class=\"sk-toggleable__control sk-hidden--visually\" id=\"sk-estimator-id-52\" type=\"checkbox\" ><label for=\"sk-estimator-id-52\" class=\"sk-toggleable__label fitted sk-toggleable__label-arrow\"><div><div>OrdinalEncoder</div></div><div><a class=\"sk-estimator-doc-link fitted\" rel=\"noreferrer\" target=\"_blank\" href=\"https://scikit-learn.org/1.6/modules/generated/sklearn.preprocessing.OrdinalEncoder.html\">?<span>Documentation for OrdinalEncoder</span></a></div></label><div class=\"sk-toggleable__content fitted\"><pre>OrdinalEncoder(categories=[[&#x27;unemployed&#x27;, &#x27;&lt; 1 yr&#x27;, &#x27;1 &lt;= ... &lt; 4 yrs&#x27;,\n",
       "                            &#x27;4 &lt;= ... &lt; 7 yrs&#x27;, &#x27;&gt;= 7 yrs&#x27;],\n",
       "                           [&#x27;&lt; 20&#x27;, &#x27;20 &lt;= ... &lt; 25&#x27;, &#x27;25 &lt;= ... &lt; 35&#x27;,\n",
       "                            &#x27;&gt;= 35&#x27;],\n",
       "                           [&#x27;&lt; 1 yr&#x27;, &#x27;1 &lt;= ... &lt; 4 yrs&#x27;, &#x27;4 &lt;= ... &lt; 7 yrs&#x27;,\n",
       "                            &#x27;&gt;= 7 yrs&#x27;],\n",
       "                           [&#x27;1&#x27;, &#x27;3-Feb&#x27;, &#x27;5-Apr&#x27;, &#x27;&gt;= 6&#x27;]])</pre></div> </div></div></div></div></div></div></div><div class=\"sk-parallel-item\"><div class=\"sk-item\"><div class=\"sk-label-container\"><div class=\"sk-label fitted sk-toggleable\"><input class=\"sk-toggleable__control sk-hidden--visually\" id=\"sk-estimator-id-53\" type=\"checkbox\" ><label for=\"sk-estimator-id-53\" class=\"sk-toggleable__label fitted sk-toggleable__label-arrow\"><div><div>drop_personal_status_sex</div></div></label><div class=\"sk-toggleable__content fitted\"><pre>[&#x27;personal_status_sex&#x27;]</pre></div> </div></div><div class=\"sk-serial\"><div class=\"sk-item\"><div class=\"sk-estimator fitted sk-toggleable\"><input class=\"sk-toggleable__control sk-hidden--visually\" id=\"sk-estimator-id-54\" type=\"checkbox\" ><label for=\"sk-estimator-id-54\" class=\"sk-toggleable__label fitted sk-toggleable__label-arrow\"><div><div>drop</div></div></label><div class=\"sk-toggleable__content fitted\"><pre>drop</pre></div> </div></div></div></div></div><div class=\"sk-parallel-item\"><div class=\"sk-item\"><div class=\"sk-label-container\"><div class=\"sk-label fitted sk-toggleable\"><input class=\"sk-toggleable__control sk-hidden--visually\" id=\"sk-estimator-id-55\" type=\"checkbox\" ><label for=\"sk-estimator-id-55\" class=\"sk-toggleable__label fitted sk-toggleable__label-arrow\"><div><div>remainder</div></div></label><div class=\"sk-toggleable__content fitted\"><pre>[]</pre></div> </div></div><div class=\"sk-serial\"><div class=\"sk-item\"><div class=\"sk-estimator fitted sk-toggleable\"><input class=\"sk-toggleable__control sk-hidden--visually\" id=\"sk-estimator-id-56\" type=\"checkbox\" ><label for=\"sk-estimator-id-56\" class=\"sk-toggleable__label fitted sk-toggleable__label-arrow\"><div><div>passthrough</div></div></label><div class=\"sk-toggleable__content fitted\"><pre>passthrough</pre></div> </div></div></div></div></div></div></div><div class=\"sk-item\"><div class=\"sk-estimator fitted sk-toggleable\"><input class=\"sk-toggleable__control sk-hidden--visually\" id=\"sk-estimator-id-57\" type=\"checkbox\" ><label for=\"sk-estimator-id-57\" class=\"sk-toggleable__label fitted sk-toggleable__label-arrow\"><div><div>SGDClassifier</div></div><div><a class=\"sk-estimator-doc-link fitted\" rel=\"noreferrer\" target=\"_blank\" href=\"https://scikit-learn.org/1.6/modules/generated/sklearn.linear_model.SGDClassifier.html\">?<span>Documentation for SGDClassifier</span></a></div></label><div class=\"sk-toggleable__content fitted\"><pre>SGDClassifier(random_state=42)</pre></div> </div></div></div></div></div></div>"
      ],
      "text/plain": [
       "Pipeline(steps=[('columntransformer',\n",
       "                 ColumnTransformer(remainder='passthrough',\n",
       "                                   transformers=[('annual_amount',\n",
       "                                                  Pipeline(steps=[('functiontransformer',\n",
       "                                                                   FunctionTransformer(feature_names_out=<function ratio_name at 0x118e556c0>,\n",
       "                                                                                       func=<function column_ratio at 0x118e54a40>)),\n",
       "                                                                  ('standardscaler',\n",
       "                                                                   StandardScaler())]),\n",
       "                                                  ['amount', 'duration']),\n",
       "                                                 ('log',\n",
       "                                                  Pipeline(steps=[('...\n",
       "                                                                                               '<= '\n",
       "                                                                                               '... '\n",
       "                                                                                               '< '\n",
       "                                                                                               '25',\n",
       "                                                                                               '25 '\n",
       "                                                                                               '<= '\n",
       "                                                                                               '... '\n",
       "                                                                                               '< '\n",
       "                                                                                               '35',\n",
       "                                                                                               '>= '\n",
       "                                                                                               '35'],\n",
       "                                                                                              ['< '\n",
       "                                                                                               '1 '\n",
       "                                                                                               'yr',\n",
       "                                                                                               '1 '\n",
       "                                                                                               '<= '\n",
       "                                                                                               '... '\n",
       "                                                                                               '< '\n",
       "                                                                                               '4 '\n",
       "                                                                                               'yrs',\n",
       "                                                                                               '4 '\n",
       "                                                                                               '<= '\n",
       "                                                                                               '... '\n",
       "                                                                                               '< '\n",
       "                                                                                               '7 '\n",
       "                                                                                               'yrs',\n",
       "                                                                                               '>= '\n",
       "                                                                                               '7 '\n",
       "                                                                                               'yrs'],\n",
       "                                                                                              ['1',\n",
       "                                                                                               '3-Feb',\n",
       "                                                                                               '5-Apr',\n",
       "                                                                                               '>= '\n",
       "                                                                                               '6']]))]),\n",
       "                                                  ['employment_duration',\n",
       "                                                   'installment_rate',\n",
       "                                                   'present_residence',\n",
       "                                                   'number_credits']),\n",
       "                                                 ('drop_personal_status_sex',\n",
       "                                                  'drop',\n",
       "                                                  ['personal_status_sex'])])),\n",
       "                ('sgdclassifier', SGDClassifier(random_state=42))])"
      ]
     },
     "execution_count": 90,
     "metadata": {},
     "output_type": "execute_result"
    }
   ],
   "source": [
    "sgd_clf_50 = make_pipeline(preprocessing, SGDClassifier(random_state=42)) \n",
    "sgd_clf_50.fit(X_train_50, y_train_good_50)"
   ]
  },
  {
   "cell_type": "code",
   "execution_count": 91,
   "metadata": {},
   "outputs": [
    {
     "data": {
      "text/plain": [
       "array([0.56417112, 0.72117962, 0.6997319 ])"
      ]
     },
     "execution_count": 91,
     "metadata": {},
     "output_type": "execute_result"
    }
   ],
   "source": [
    "cross_val_score(sgd_clf, X_train_50, y_train_good_50, cv=3, scoring=\"accuracy\")"
   ]
  },
  {
   "cell_type": "code",
   "execution_count": 92,
   "metadata": {},
   "outputs": [
    {
     "data": {
      "text/plain": [
       "0.6616942170482621"
      ]
     },
     "execution_count": 92,
     "metadata": {},
     "output_type": "execute_result"
    }
   ],
   "source": [
    "mean_score = np.mean(cross_val_score(sgd_clf, X_train_50, y_train_good_50, cv=3, scoring=\"accuracy\"))\n",
    "\n",
    "mean_score"
   ]
  },
  {
   "cell_type": "markdown",
   "metadata": {},
   "source": [
    "### Confusion Matrix"
   ]
  },
  {
   "cell_type": "code",
   "execution_count": 94,
   "metadata": {},
   "outputs": [],
   "source": [
    "from sklearn.model_selection import cross_val_predict\n",
    "\n",
    "y_train_pred = cross_val_predict(sgd_clf, X_train, y_train_good, cv=3)"
   ]
  },
  {
   "cell_type": "code",
   "execution_count": 95,
   "metadata": {},
   "outputs": [
    {
     "data": {
      "text/plain": [
       "array([[155,  85],\n",
       "       [192, 368]])"
      ]
     },
     "execution_count": 95,
     "metadata": {},
     "output_type": "execute_result"
    }
   ],
   "source": [
    "from sklearn.metrics import confusion_matrix\n",
    "\n",
    "cm = confusion_matrix(y_train_good, y_train_pred)\n",
    "cm"
   ]
  },
  {
   "cell_type": "markdown",
   "metadata": {},
   "source": [
    "Each row represents an actual class, while each column represents a predicted class\n",
    "\n",
    "Therefore:\n",
    "- 155 were correctly classified as bad credit risk (TN)\n",
    "- 85 were incorrectly classified as good credit risk being bad credit risk (FP)\n",
    "- 192 were incorrectly classfied as bad credit risk beeing good credit risk (FN)\n",
    "- 368 were correctly classified as good credit risk (TP)"
   ]
  },
  {
   "cell_type": "markdown",
   "metadata": {},
   "source": [
    "### Precision and Recall"
   ]
  },
  {
   "cell_type": "markdown",
   "metadata": {},
   "source": [
    "precision = TP / (TP + FP); of all positives predicted, how many were true?"
   ]
  },
  {
   "cell_type": "code",
   "execution_count": 96,
   "metadata": {},
   "outputs": [
    {
     "data": {
      "text/plain": [
       "0.8123620309050773"
      ]
     },
     "execution_count": 96,
     "metadata": {},
     "output_type": "execute_result"
    }
   ],
   "source": [
    "from sklearn.metrics import precision_score, recall_score\n",
    "\n",
    "precision_score(y_train_good, y_train_pred)"
   ]
  },
  {
   "cell_type": "code",
   "execution_count": 97,
   "metadata": {},
   "outputs": [
    {
     "data": {
      "text/plain": [
       "0.8123620309050773"
      ]
     },
     "execution_count": 97,
     "metadata": {},
     "output_type": "execute_result"
    }
   ],
   "source": [
    "cm[1, 1] / (cm[0, 1] + cm[1, 1])"
   ]
  },
  {
   "cell_type": "markdown",
   "metadata": {},
   "source": [
    "recall = TP / (TP + FN); of all real positives, how many were correctly detected by the classifier?"
   ]
  },
  {
   "cell_type": "code",
   "execution_count": 98,
   "metadata": {},
   "outputs": [
    {
     "data": {
      "text/plain": [
       "0.6571428571428571"
      ]
     },
     "execution_count": 98,
     "metadata": {},
     "output_type": "execute_result"
    }
   ],
   "source": [
    "recall_score(y_train_good, y_train_pred)"
   ]
  },
  {
   "cell_type": "markdown",
   "metadata": {},
   "source": [
    "- When it claims that it is a good credit risk, it is correct 81% of the time (precision)\n",
    "- It detects 65% of the good credit risks (recall)"
   ]
  },
  {
   "cell_type": "code",
   "execution_count": 99,
   "metadata": {},
   "outputs": [
    {
     "data": {
      "text/plain": [
       "0.7265547877591313"
      ]
     },
     "execution_count": 99,
     "metadata": {},
     "output_type": "execute_result"
    }
   ],
   "source": [
    "from sklearn.metrics import f1_score\n",
    "\n",
    "f1_score(y_train_good, y_train_pred)"
   ]
  },
  {
   "cell_type": "markdown",
   "metadata": {},
   "source": [
    "- For a high F1 score, both recall and precision must be high"
   ]
  },
  {
   "cell_type": "code",
   "execution_count": 111,
   "metadata": {},
   "outputs": [
    {
     "data": {
      "text/plain": [
       "array([4.32044505])"
      ]
     },
     "execution_count": 111,
     "metadata": {},
     "output_type": "execute_result"
    }
   ],
   "source": [
    "y_scores = sgd_clf.decision_function(sample)\n",
    "y_scores"
   ]
  },
  {
   "cell_type": "code",
   "execution_count": 100,
   "metadata": {},
   "outputs": [],
   "source": [
    "y_scores = cross_val_predict(sgd_clf, X_train, y_train_good, cv=3,\n",
    "                             method=\"decision_function\")"
   ]
  },
  {
   "cell_type": "code",
   "execution_count": 101,
   "metadata": {},
   "outputs": [],
   "source": [
    "from sklearn.metrics import precision_recall_curve\n",
    "\n",
    "precisions, recalls, thresholds = precision_recall_curve(y_train_good, y_scores)"
   ]
  },
  {
   "cell_type": "code",
   "execution_count": 112,
   "metadata": {},
   "outputs": [],
   "source": [
    "threshold = 4"
   ]
  },
  {
   "cell_type": "code",
   "execution_count": 116,
   "metadata": {},
   "outputs": [
    {
     "data": {
      "image/png": "[encoded data removed]",
      "text/plain": [
       "<Figure size 600x500 with 1 Axes>"
      ]
     },
     "metadata": {},
     "output_type": "display_data"
    }
   ],
   "source": [
    "import matplotlib.patches as patches  # extra code – for the curved arrow\n",
    "\n",
    "plt.figure(figsize=(6, 5))  \n",
    "\n",
    "plt.plot(recalls, precisions, linewidth=2, label=\"Precision/Recall curve\")\n",
    "\n",
    "idx = (thresholds >= threshold).argmax()\n",
    "plt.plot([recalls[idx], recalls[idx]], [0., precisions[idx]], \"k:\")\n",
    "plt.plot([0.0, recalls[idx]], [precisions[idx], precisions[idx]], \"k:\")\n",
    "plt.plot([recalls[idx]], [precisions[idx]], \"ko\",\n",
    "         label=\"Point at threshold 4\")\n",
    "plt.gca().add_patch(patches.FancyArrowPatch(\n",
    "    (0.79, 0.60), (0.61, 0.78),\n",
    "    connectionstyle=\"arc3,rad=.2\",\n",
    "    arrowstyle=\"Simple, tail_width=1.5, head_width=8, head_length=10\",\n",
    "    color=\"#444444\"))\n",
    "plt.text(0.56, 0.62, \"Higher\\nthreshold\", color=\"#333333\")\n",
    "plt.xlabel(\"Recall\")\n",
    "plt.ylabel(\"Precision\")\n",
    "plt.axis([0, 1, 0, 1])\n",
    "plt.grid()\n",
    "plt.legend(loc=\"lower left\")\n",
    "\n",
    "plt.show()"
   ]
  },
  {
   "cell_type": "code",
   "execution_count": 162,
   "metadata": {},
   "outputs": [],
   "source": [
    "y_scores = cross_val_predict(sgd_clf, X_train_50, y_train_good_50, cv=3,\n",
    "                             method=\"decision_function\")\n",
    "\n",
    "precisions, recalls, thresholds = precision_recall_curve(y_train_good_50, y_scores)"
   ]
  },
  {
   "cell_type": "code",
   "execution_count": 119,
   "metadata": {},
   "outputs": [
    {
     "data": {
      "image/png": "[encoded data removed]",
      "text/plain": [
       "<Figure size 600x500 with 1 Axes>"
      ]
     },
     "metadata": {},
     "output_type": "display_data"
    }
   ],
   "source": [
    "plt.figure(figsize=(6, 5))  \n",
    "\n",
    "plt.plot(recalls, precisions, linewidth=2, label=\"Precision/Recall curve\")\n",
    "\n",
    "idx = (thresholds >= threshold).argmax()\n",
    "plt.plot([recalls[idx], recalls[idx]], [0., precisions[idx]], \"k:\")\n",
    "plt.plot([0.0, recalls[idx]], [precisions[idx], precisions[idx]], \"k:\")\n",
    "plt.plot([recalls[idx]], [precisions[idx]], \"ko\",\n",
    "         label=\"Point at threshold 4\")\n",
    "plt.gca().add_patch(patches.FancyArrowPatch(\n",
    "    (0.79, 0.60), (0.61, 0.78),\n",
    "    connectionstyle=\"arc3,rad=.2\",\n",
    "    arrowstyle=\"Simple, tail_width=1.5, head_width=8, head_length=10\",\n",
    "    color=\"#444444\"))\n",
    "plt.text(0.56, 0.62, \"Higher\\nthreshold\", color=\"#333333\")\n",
    "plt.xlabel(\"Recall\")\n",
    "plt.ylabel(\"Precision\")\n",
    "plt.axis([0, 1, 0, 1])\n",
    "plt.grid()\n",
    "plt.legend(loc=\"lower left\")\n",
    "\n",
    "plt.show()"
   ]
  },
  {
   "cell_type": "markdown",
   "metadata": {},
   "source": [
    "We'll aim at a high recall in order to guarantee that the model detects most of the \"bad credit risk\", so we minimize the risks of classifiyng a bad credit as a good credit"
   ]
  },
  {
   "cell_type": "code",
   "execution_count": 164,
   "metadata": {},
   "outputs": [
    {
     "data": {
      "text/plain": [
       "2.076482776362504"
      ]
     },
     "execution_count": 164,
     "metadata": {},
     "output_type": "execute_result"
    }
   ],
   "source": [
    "idx_for_80_recall = (recalls <= 0.80).argmax()\n",
    "threshold_for_80_recall = thresholds[idx_for_80_recall]\n",
    "threshold_for_80_recall"
   ]
  },
  {
   "cell_type": "code",
   "execution_count": 133,
   "metadata": {},
   "outputs": [],
   "source": [
    "y_train_pred_80 = (y_scores >= threshold_for_80_recall)"
   ]
  },
  {
   "cell_type": "code",
   "execution_count": 140,
   "metadata": {},
   "outputs": [
    {
     "name": "stdout",
     "output_type": "stream",
     "text": [
      "recall: 0.8 ; precision: 0.6511627906976745\n"
     ]
    }
   ],
   "source": [
    "print(f'recall:', recall_score(y_train_good_50, y_train_pred_80), f'; precision:', precision_score(y_train_good_50, y_train_pred_80))"
   ]
  },
  {
   "cell_type": "markdown",
   "metadata": {},
   "source": [
    "### The ROC Curve"
   ]
  },
  {
   "cell_type": "code",
   "execution_count": 159,
   "metadata": {},
   "outputs": [],
   "source": [
    "from sklearn.metrics import roc_curve\n",
    "\n",
    "fpr, tpr, thresholds = roc_curve(y_train_good_50, y_scores)"
   ]
  },
  {
   "cell_type": "code",
   "execution_count": 168,
   "metadata": {},
   "outputs": [
    {
     "data": {
      "image/png": "[encoded data removed]",
      "text/plain": [
       "<Figure size 600x500 with 1 Axes>"
      ]
     },
     "metadata": {},
     "output_type": "display_data"
    }
   ],
   "source": [
    "plt.figure(figsize=(6, 5))  \n",
    "plt.plot(fpr, tpr, linewidth=2, label=\"ROC curve\")\n",
    "plt.plot([0, 1], [0, 1], 'k:', label=\"Random classifier's ROC curve\")\n",
    "\n",
    "plt.gca().add_patch(patches.FancyArrowPatch(\n",
    "    (0.20, 0.89), (0.07, 0.70),\n",
    "    connectionstyle=\"arc3,rad=.4\",\n",
    "    arrowstyle=\"Simple, tail_width=1.5, head_width=8, head_length=10\",\n",
    "    color=\"#444444\"))\n",
    "plt.text(0.12, 0.71, \"Higher\\nthreshold\", color=\"#333333\")\n",
    "plt.xlabel('False Positive Rate (Fall-Out)')\n",
    "plt.ylabel('True Positive Rate (Recall)')\n",
    "plt.grid()\n",
    "plt.axis([0, 1, 0, 1])\n",
    "plt.legend(loc=\"lower right\", fontsize=13)\n",
    "\n",
    "plt.show()"
   ]
  },
  {
   "cell_type": "code",
   "execution_count": 169,
   "metadata": {},
   "outputs": [
    {
     "data": {
      "text/plain": [
       "0.7523054846938775"
      ]
     },
     "execution_count": 169,
     "metadata": {},
     "output_type": "execute_result"
    }
   ],
   "source": [
    "from sklearn.metrics import roc_auc_score\n",
    "\n",
    "roc_auc_score(y_train_good_50, y_scores)"
   ]
  },
  {
   "cell_type": "markdown",
   "metadata": {},
   "source": [
    "### Random Forest Classifier"
   ]
  },
  {
   "cell_type": "code",
   "execution_count": 170,
   "metadata": {},
   "outputs": [],
   "source": [
    "from sklearn.ensemble import RandomForestClassifier\n",
    "\n",
    "forest_clf = make_pipeline(preprocessing, RandomForestClassifier(random_state=42))"
   ]
  },
  {
   "cell_type": "code",
   "execution_count": 175,
   "metadata": {},
   "outputs": [],
   "source": [
    "y_probas_forest = cross_val_predict(forest_clf, X_train_50, y_train_good_50, cv=3,\n",
    "                                    method=\"predict_proba\")"
   ]
  },
  {
   "cell_type": "code",
   "execution_count": 186,
   "metadata": {},
   "outputs": [],
   "source": [
    "y_scores_forest = y_probas_forest[:, 1]\n",
    "precisions_forest, recalls_forest, thresholds_forest = precision_recall_curve(\n",
    "    y_train_good_50, y_scores_forest)"
   ]
  },
  {
   "cell_type": "code",
   "execution_count": 187,
   "metadata": {},
   "outputs": [
    {
     "data": {
      "image/png": "[encoded data removed]",
      "text/plain": [
       "<Figure size 600x500 with 1 Axes>"
      ]
     },
     "metadata": {},
     "output_type": "display_data"
    }
   ],
   "source": [
    "plt.figure(figsize=(6, 5))  \n",
    "\n",
    "plt.plot(recalls_forest, precisions_forest, \"b-\", linewidth=2,\n",
    "         label=\"Random Forest\")\n",
    "plt.plot(recalls, precisions, \"--\", linewidth=2, label=\"SGD\")\n",
    "\n",
    "plt.xlabel(\"Recall\")\n",
    "plt.ylabel(\"Precision\")\n",
    "plt.axis([0, 1, 0, 1])\n",
    "plt.grid()\n",
    "plt.legend(loc=\"lower left\")\n",
    "\n",
    "plt.show()"
   ]
  },
  {
   "cell_type": "code",
   "execution_count": 181,
   "metadata": {},
   "outputs": [
    {
     "data": {
      "text/plain": [
       "0.9501833545918368"
      ]
     },
     "execution_count": 181,
     "metadata": {},
     "output_type": "execute_result"
    }
   ],
   "source": [
    "roc_auc_score(y_train_good_50, y_scores_forest)"
   ]
  },
  {
   "cell_type": "code",
   "execution_count": 200,
   "metadata": {},
   "outputs": [],
   "source": [
    "y_train_pred_forest = y_probas_forest[:, 1] >= 0.3"
   ]
  },
  {
   "cell_type": "code",
   "execution_count": 201,
   "metadata": {},
   "outputs": [
    {
     "data": {
      "text/plain": [
       "0.8589540412044374"
      ]
     },
     "execution_count": 201,
     "metadata": {},
     "output_type": "execute_result"
    }
   ],
   "source": [
    "precision_score(y_train_good_50, y_train_pred_forest)"
   ]
  },
  {
   "cell_type": "code",
   "execution_count": 202,
   "metadata": {},
   "outputs": [
    {
     "data": {
      "text/plain": [
       "0.9678571428571429"
      ]
     },
     "execution_count": 202,
     "metadata": {},
     "output_type": "execute_result"
    }
   ],
   "source": [
    "recall_score(y_train_good_50, y_train_pred_forest)"
   ]
  },
  {
   "cell_type": "code",
   "execution_count": 213,
   "metadata": {},
   "outputs": [],
   "source": [
    "#forest_clf.fit(X_train_50, y_train_good_50)\n",
    "rf_model = forest_clf.named_steps['randomforestclassifier']\n",
    "importances = rf_model.feature_importances_"
   ]
  },
  {
   "cell_type": "code",
   "execution_count": 212,
   "metadata": {},
   "outputs": [],
   "source": [
    "feature_names_out = preprocessing.get_feature_names_out()"
   ]
  },
  {
   "cell_type": "code",
   "execution_count": 217,
   "metadata": {},
   "outputs": [],
   "source": [
    "feature_importance = pd.DataFrame({\n",
    "    'Feature': feature_names_out,\n",
    "    'Importance': importances\n",
    "})\n",
    "\n",
    "feature_importance = feature_importance.sort_values(by='Importance', ascending=False).reset_index(drop=True)"
   ]
  },
  {
   "cell_type": "code",
   "execution_count": 218,
   "metadata": {},
   "outputs": [
    {
     "data": {
      "text/html": [
       "<div>\n",
       "<style scoped>\n",
       "    .dataframe tbody tr th:only-of-type {\n",
       "        vertical-align: middle;\n",
       "    }\n",
       "\n",
       "    .dataframe tbody tr th {\n",
       "        vertical-align: top;\n",
       "    }\n",
       "\n",
       "    .dataframe thead th {\n",
       "        text-align: right;\n",
       "    }\n",
       "</style>\n",
       "<table border=\"1\" class=\"dataframe\">\n",
       "  <thead>\n",
       "    <tr style=\"text-align: right;\">\n",
       "      <th></th>\n",
       "      <th>Feature</th>\n",
       "      <th>Importance</th>\n",
       "    </tr>\n",
       "  </thead>\n",
       "  <tbody>\n",
       "    <tr>\n",
       "      <th>0</th>\n",
       "      <td>annual_amount__ratio</td>\n",
       "      <td>0.092795</td>\n",
       "    </tr>\n",
       "    <tr>\n",
       "      <th>1</th>\n",
       "      <td>log__amount</td>\n",
       "      <td>0.089470</td>\n",
       "    </tr>\n",
       "    <tr>\n",
       "      <th>2</th>\n",
       "      <td>log__age</td>\n",
       "      <td>0.077080</td>\n",
       "    </tr>\n",
       "    <tr>\n",
       "      <th>3</th>\n",
       "      <td>log__duration</td>\n",
       "      <td>0.074263</td>\n",
       "    </tr>\n",
       "    <tr>\n",
       "      <th>4</th>\n",
       "      <td>cat__status_... &gt;= 200 DM / salary for at leas...</td>\n",
       "      <td>0.059957</td>\n",
       "    </tr>\n",
       "    <tr>\n",
       "      <th>5</th>\n",
       "      <td>cat__status_no checking account</td>\n",
       "      <td>0.044049</td>\n",
       "    </tr>\n",
       "    <tr>\n",
       "      <th>6</th>\n",
       "      <td>ord__employment_duration</td>\n",
       "      <td>0.038274</td>\n",
       "    </tr>\n",
       "    <tr>\n",
       "      <th>7</th>\n",
       "      <td>ord__installment_rate</td>\n",
       "      <td>0.030029</td>\n",
       "    </tr>\n",
       "    <tr>\n",
       "      <th>8</th>\n",
       "      <td>ord__present_residence</td>\n",
       "      <td>0.027023</td>\n",
       "    </tr>\n",
       "    <tr>\n",
       "      <th>9</th>\n",
       "      <td>cat__savings_unknown/no savings account</td>\n",
       "      <td>0.020871</td>\n",
       "    </tr>\n",
       "    <tr>\n",
       "      <th>10</th>\n",
       "      <td>cat__credit_history_all credits at this bank p...</td>\n",
       "      <td>0.019302</td>\n",
       "    </tr>\n",
       "    <tr>\n",
       "      <th>11</th>\n",
       "      <td>cat__status_... &lt; 0 DM</td>\n",
       "      <td>0.016902</td>\n",
       "    </tr>\n",
       "    <tr>\n",
       "      <th>12</th>\n",
       "      <td>cat__purpose_others</td>\n",
       "      <td>0.016750</td>\n",
       "    </tr>\n",
       "    <tr>\n",
       "      <th>13</th>\n",
       "      <td>ord__number_credits</td>\n",
       "      <td>0.016746</td>\n",
       "    </tr>\n",
       "    <tr>\n",
       "      <th>14</th>\n",
       "      <td>cat__job_skilled employee/official</td>\n",
       "      <td>0.016727</td>\n",
       "    </tr>\n",
       "    <tr>\n",
       "      <th>15</th>\n",
       "      <td>cat__housing_rent</td>\n",
       "      <td>0.015786</td>\n",
       "    </tr>\n",
       "    <tr>\n",
       "      <th>16</th>\n",
       "      <td>cat__savings_... &gt;= 1000 DM</td>\n",
       "      <td>0.014714</td>\n",
       "    </tr>\n",
       "    <tr>\n",
       "      <th>17</th>\n",
       "      <td>cat__other_installment_plans_none</td>\n",
       "      <td>0.014399</td>\n",
       "    </tr>\n",
       "    <tr>\n",
       "      <th>18</th>\n",
       "      <td>cat__purpose_furniture/equipment</td>\n",
       "      <td>0.014277</td>\n",
       "    </tr>\n",
       "    <tr>\n",
       "      <th>19</th>\n",
       "      <td>cat__job_manager/self-empl./highly qualif. emp...</td>\n",
       "      <td>0.014151</td>\n",
       "    </tr>\n",
       "    <tr>\n",
       "      <th>20</th>\n",
       "      <td>cat__property_unknown / no property</td>\n",
       "      <td>0.014078</td>\n",
       "    </tr>\n",
       "    <tr>\n",
       "      <th>21</th>\n",
       "      <td>cat__property_building soc. savings agr./life ...</td>\n",
       "      <td>0.013440</td>\n",
       "    </tr>\n",
       "    <tr>\n",
       "      <th>22</th>\n",
       "      <td>cat__property_car or other</td>\n",
       "      <td>0.013422</td>\n",
       "    </tr>\n",
       "    <tr>\n",
       "      <th>23</th>\n",
       "      <td>cat__purpose_car (used)</td>\n",
       "      <td>0.013420</td>\n",
       "    </tr>\n",
       "    <tr>\n",
       "      <th>24</th>\n",
       "      <td>cat__telephone_no</td>\n",
       "      <td>0.012036</td>\n",
       "    </tr>\n",
       "    <tr>\n",
       "      <th>25</th>\n",
       "      <td>cat__job_unskilled - resident</td>\n",
       "      <td>0.012030</td>\n",
       "    </tr>\n",
       "    <tr>\n",
       "      <th>26</th>\n",
       "      <td>cat__telephone_yes (under customer name)</td>\n",
       "      <td>0.011556</td>\n",
       "    </tr>\n",
       "    <tr>\n",
       "      <th>27</th>\n",
       "      <td>cat__credit_history_no credits taken/all credi...</td>\n",
       "      <td>0.011465</td>\n",
       "    </tr>\n",
       "    <tr>\n",
       "      <th>28</th>\n",
       "      <td>cat__purpose_car (new)</td>\n",
       "      <td>0.011197</td>\n",
       "    </tr>\n",
       "    <tr>\n",
       "      <th>29</th>\n",
       "      <td>cat__housing_for free</td>\n",
       "      <td>0.010850</td>\n",
       "    </tr>\n",
       "    <tr>\n",
       "      <th>30</th>\n",
       "      <td>cat__other_debtors_none</td>\n",
       "      <td>0.010669</td>\n",
       "    </tr>\n",
       "    <tr>\n",
       "      <th>31</th>\n",
       "      <td>cat__people_liable_0 to 2</td>\n",
       "      <td>0.010471</td>\n",
       "    </tr>\n",
       "    <tr>\n",
       "      <th>32</th>\n",
       "      <td>cat__other_installment_plans_bank</td>\n",
       "      <td>0.010304</td>\n",
       "    </tr>\n",
       "    <tr>\n",
       "      <th>33</th>\n",
       "      <td>cat__purpose_retraining</td>\n",
       "      <td>0.010065</td>\n",
       "    </tr>\n",
       "    <tr>\n",
       "      <th>34</th>\n",
       "      <td>cat__other_debtors_guarantor</td>\n",
       "      <td>0.009930</td>\n",
       "    </tr>\n",
       "    <tr>\n",
       "      <th>35</th>\n",
       "      <td>cat__people_liable_3 or more</td>\n",
       "      <td>0.009388</td>\n",
       "    </tr>\n",
       "    <tr>\n",
       "      <th>36</th>\n",
       "      <td>cat__credit_history_existing credits paid back...</td>\n",
       "      <td>0.008657</td>\n",
       "    </tr>\n",
       "    <tr>\n",
       "      <th>37</th>\n",
       "      <td>cat__property_real estate</td>\n",
       "      <td>0.008269</td>\n",
       "    </tr>\n",
       "    <tr>\n",
       "      <th>38</th>\n",
       "      <td>cat__status_0&lt;= ... &lt; 200 DM</td>\n",
       "      <td>0.008134</td>\n",
       "    </tr>\n",
       "    <tr>\n",
       "      <th>39</th>\n",
       "      <td>cat__credit_history_critical account/other cre...</td>\n",
       "      <td>0.008134</td>\n",
       "    </tr>\n",
       "    <tr>\n",
       "      <th>40</th>\n",
       "      <td>cat__savings_... &lt;  100 DM</td>\n",
       "      <td>0.007816</td>\n",
       "    </tr>\n",
       "    <tr>\n",
       "      <th>41</th>\n",
       "      <td>cat__purpose_repairs</td>\n",
       "      <td>0.007701</td>\n",
       "    </tr>\n",
       "    <tr>\n",
       "      <th>42</th>\n",
       "      <td>cat__housing_own</td>\n",
       "      <td>0.007462</td>\n",
       "    </tr>\n",
       "    <tr>\n",
       "      <th>43</th>\n",
       "      <td>cat__credit_history_delay in paying off in the...</td>\n",
       "      <td>0.006155</td>\n",
       "    </tr>\n",
       "    <tr>\n",
       "      <th>44</th>\n",
       "      <td>cat__other_debtors_co-applicant</td>\n",
       "      <td>0.005708</td>\n",
       "    </tr>\n",
       "    <tr>\n",
       "      <th>45</th>\n",
       "      <td>cat__foreign_worker_yes</td>\n",
       "      <td>0.005693</td>\n",
       "    </tr>\n",
       "    <tr>\n",
       "      <th>46</th>\n",
       "      <td>cat__other_installment_plans_stores</td>\n",
       "      <td>0.005566</td>\n",
       "    </tr>\n",
       "    <tr>\n",
       "      <th>47</th>\n",
       "      <td>cat__savings_100 &lt;= ... &lt;  500 DM</td>\n",
       "      <td>0.005130</td>\n",
       "    </tr>\n",
       "    <tr>\n",
       "      <th>48</th>\n",
       "      <td>cat__savings_500 &lt;= ... &lt; 1000 DM</td>\n",
       "      <td>0.004817</td>\n",
       "    </tr>\n",
       "    <tr>\n",
       "      <th>49</th>\n",
       "      <td>cat__foreign_worker_no</td>\n",
       "      <td>0.004674</td>\n",
       "    </tr>\n",
       "    <tr>\n",
       "      <th>50</th>\n",
       "      <td>cat__purpose_domestic appliances</td>\n",
       "      <td>0.002603</td>\n",
       "    </tr>\n",
       "    <tr>\n",
       "      <th>51</th>\n",
       "      <td>cat__job_unemployed/unskilled - non-resident</td>\n",
       "      <td>0.002319</td>\n",
       "    </tr>\n",
       "    <tr>\n",
       "      <th>52</th>\n",
       "      <td>cat__purpose_vacation</td>\n",
       "      <td>0.001323</td>\n",
       "    </tr>\n",
       "    <tr>\n",
       "      <th>53</th>\n",
       "      <td>cat__purpose_business</td>\n",
       "      <td>0.001174</td>\n",
       "    </tr>\n",
       "    <tr>\n",
       "      <th>54</th>\n",
       "      <td>cat__purpose_radio/television</td>\n",
       "      <td>0.000781</td>\n",
       "    </tr>\n",
       "  </tbody>\n",
       "</table>\n",
       "</div>"
      ],
      "text/plain": [
       "                                              Feature  Importance\n",
       "0                                annual_amount__ratio    0.092795\n",
       "1                                         log__amount    0.089470\n",
       "2                                            log__age    0.077080\n",
       "3                                       log__duration    0.074263\n",
       "4   cat__status_... >= 200 DM / salary for at leas...    0.059957\n",
       "5                     cat__status_no checking account    0.044049\n",
       "6                            ord__employment_duration    0.038274\n",
       "7                               ord__installment_rate    0.030029\n",
       "8                              ord__present_residence    0.027023\n",
       "9             cat__savings_unknown/no savings account    0.020871\n",
       "10  cat__credit_history_all credits at this bank p...    0.019302\n",
       "11                             cat__status_... < 0 DM    0.016902\n",
       "12                                cat__purpose_others    0.016750\n",
       "13                                ord__number_credits    0.016746\n",
       "14                 cat__job_skilled employee/official    0.016727\n",
       "15                                  cat__housing_rent    0.015786\n",
       "16                        cat__savings_... >= 1000 DM    0.014714\n",
       "17                  cat__other_installment_plans_none    0.014399\n",
       "18                   cat__purpose_furniture/equipment    0.014277\n",
       "19  cat__job_manager/self-empl./highly qualif. emp...    0.014151\n",
       "20                cat__property_unknown / no property    0.014078\n",
       "21  cat__property_building soc. savings agr./life ...    0.013440\n",
       "22                         cat__property_car or other    0.013422\n",
       "23                            cat__purpose_car (used)    0.013420\n",
       "24                                  cat__telephone_no    0.012036\n",
       "25                      cat__job_unskilled - resident    0.012030\n",
       "26           cat__telephone_yes (under customer name)    0.011556\n",
       "27  cat__credit_history_no credits taken/all credi...    0.011465\n",
       "28                             cat__purpose_car (new)    0.011197\n",
       "29                              cat__housing_for free    0.010850\n",
       "30                            cat__other_debtors_none    0.010669\n",
       "31                          cat__people_liable_0 to 2    0.010471\n",
       "32                  cat__other_installment_plans_bank    0.010304\n",
       "33                            cat__purpose_retraining    0.010065\n",
       "34                       cat__other_debtors_guarantor    0.009930\n",
       "35                       cat__people_liable_3 or more    0.009388\n",
       "36  cat__credit_history_existing credits paid back...    0.008657\n",
       "37                          cat__property_real estate    0.008269\n",
       "38                       cat__status_0<= ... < 200 DM    0.008134\n",
       "39  cat__credit_history_critical account/other cre...    0.008134\n",
       "40                         cat__savings_... <  100 DM    0.007816\n",
       "41                               cat__purpose_repairs    0.007701\n",
       "42                                   cat__housing_own    0.007462\n",
       "43  cat__credit_history_delay in paying off in the...    0.006155\n",
       "44                    cat__other_debtors_co-applicant    0.005708\n",
       "45                            cat__foreign_worker_yes    0.005693\n",
       "46                cat__other_installment_plans_stores    0.005566\n",
       "47                  cat__savings_100 <= ... <  500 DM    0.005130\n",
       "48                  cat__savings_500 <= ... < 1000 DM    0.004817\n",
       "49                             cat__foreign_worker_no    0.004674\n",
       "50                   cat__purpose_domestic appliances    0.002603\n",
       "51       cat__job_unemployed/unskilled - non-resident    0.002319\n",
       "52                              cat__purpose_vacation    0.001323\n",
       "53                              cat__purpose_business    0.001174\n",
       "54                      cat__purpose_radio/television    0.000781"
      ]
     },
     "execution_count": 218,
     "metadata": {},
     "output_type": "execute_result"
    }
   ],
   "source": [
    "feature_importance"
   ]
  }
 ],
 "metadata": {
  "kernelspec": {
   "display_name": "PracticasIUMA",
   "language": "python",
   "name": "python3"
  },
  "language_info": {
   "codemirror_mode": {
    "name": "ipython",
    "version": 3
   },
   "file_extension": ".py",
   "mimetype": "text/x-python",
   "name": "python",
   "nbconvert_exporter": "python",
   "pygments_lexer": "ipython3",
   "version": "3.12.4"
  }
 },
 "nbformat": 4,
 "nbformat_minor": 2
}
